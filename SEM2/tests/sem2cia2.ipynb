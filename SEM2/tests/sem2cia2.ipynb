{
  "nbformat": 4,
  "nbformat_minor": 0,
  "metadata": {
    "colab": {
      "provenance": [],
      "collapsed_sections": [
        "DTbl_tQDzbIS"
      ],
      "mount_file_id": "1SOdQp5h1E8Vhr4zLsxSldzMW0PYtAF_N",
      "authorship_tag": "ABX9TyNBs426bLjyQghNaPI7S27x",
      "include_colab_link": true
    },
    "kernelspec": {
      "name": "python3",
      "display_name": "Python 3"
    },
    "language_info": {
      "name": "python"
    }
  },
  "cells": [
    {
      "cell_type": "markdown",
      "metadata": {
        "id": "view-in-github",
        "colab_type": "text"
      },
      "source": [
        "<a href=\"https://colab.research.google.com/github/Shiladitya56/Machine-Learning/blob/main/SEM2/tests/sem2cia2.ipynb\" target=\"_parent\"><img src=\"https://colab.research.google.com/assets/colab-badge.svg\" alt=\"Open In Colab\"/></a>"
      ]
    },
    {
      "cell_type": "markdown",
      "source": [
        "#Shiladitya (2348556)"
      ],
      "metadata": {
        "id": "lfYYEYx2zlA8"
      }
    },
    {
      "cell_type": "markdown",
      "source": [
        "Importing dependencies"
      ],
      "metadata": {
        "id": "uhKm8lVWHxOw"
      }
    },
    {
      "cell_type": "code",
      "source": [
        "import numpy as np\n",
        "import pandas as pd\n",
        "import matplotlib.pyplot as pt\n",
        "from sklearn.model_selection import train_test_split as tts\n",
        "from sklearn.metrics import r2_score, mean_absolute_error, mean_squared_error"
      ],
      "metadata": {
        "id": "MRlnG7QvzjVC"
      },
      "execution_count": 210,
      "outputs": []
    },
    {
      "cell_type": "code",
      "source": [
        "def r2(actual: np.ndarray, predicted: np.ndarray):\n",
        "  return r2_score(actual, predicted)\n",
        "def adjr2(model, x: np.ndarray, y: np.ndarray):\n",
        "  return 1 - ( 1-model.score(x, y) ) * ( len(y) - 1 ) / ( len(y) - x.shape[1] - 1 )"
      ],
      "metadata": {
        "id": "eRydAJdSYzsm"
      },
      "execution_count": 211,
      "outputs": []
    },
    {
      "cell_type": "code",
      "source": [
        "graph = []"
      ],
      "metadata": {
        "id": "DAXePkmQaJbr"
      },
      "execution_count": 212,
      "outputs": []
    },
    {
      "cell_type": "code",
      "source": [
        "df = pd.read_csv('/content/drive/MyDrive/ipynb/sem2/datasets/watson_healthcare.csv')\n",
        "df.head()"
      ],
      "metadata": {
        "colab": {
          "base_uri": "https://localhost:8080/",
          "height": 255
        },
        "id": "4JYuY0URHKi_",
        "outputId": "f7c0172d-a782-4ce8-97c6-70d5fffac749"
      },
      "execution_count": 213,
      "outputs": [
        {
          "output_type": "execute_result",
          "data": {
            "text/plain": [
              "   EmployeeID  Age Attrition     BusinessTravel  DailyRate  Department  \\\n",
              "0     1313919   41        No      Travel_Rarely       1102  Cardiology   \n",
              "1     1200302   49        No  Travel_Frequently        279   Maternity   \n",
              "2     1060315   37       Yes      Travel_Rarely       1373   Maternity   \n",
              "3     1272912   33        No  Travel_Frequently       1392   Maternity   \n",
              "4     1414939   27        No      Travel_Rarely        591   Maternity   \n",
              "\n",
              "   DistanceFromHome  Education EducationField  EmployeeCount  ...  \\\n",
              "0                 1          2  Life Sciences              1  ...   \n",
              "1                 8          1  Life Sciences              1  ...   \n",
              "2                 2          2          Other              1  ...   \n",
              "3                 3          4  Life Sciences              1  ...   \n",
              "4                 2          1        Medical              1  ...   \n",
              "\n",
              "   RelationshipSatisfaction StandardHours  Shift  TotalWorkingYears  \\\n",
              "0                         1          80.0    0.0                  8   \n",
              "1                         4          80.0    1.0                 10   \n",
              "2                         2          54.0    0.0                  7   \n",
              "3                         3          56.0    0.0                  8   \n",
              "4                         4          80.0    1.0                  6   \n",
              "\n",
              "   TrainingTimesLastYear WorkLifeBalance  YearsAtCompany YearsInCurrentRole  \\\n",
              "0                      0               1               6                  4   \n",
              "1                      3               3              10                  7   \n",
              "2                      3               3               0                  0   \n",
              "3                      3               3               8                  7   \n",
              "4                      3               3               2                  2   \n",
              "\n",
              "   YearsSinceLastPromotion  YearsWithCurrManager  \n",
              "0                        0                     5  \n",
              "1                        1                     7  \n",
              "2                        0                     0  \n",
              "3                        3                     0  \n",
              "4                        2                     2  \n",
              "\n",
              "[5 rows x 35 columns]"
            ],
            "text/html": [
              "\n",
              "  <div id=\"df-953e59cf-c9b6-4e2f-a3e8-43f4566da329\" class=\"colab-df-container\">\n",
              "    <div>\n",
              "<style scoped>\n",
              "    .dataframe tbody tr th:only-of-type {\n",
              "        vertical-align: middle;\n",
              "    }\n",
              "\n",
              "    .dataframe tbody tr th {\n",
              "        vertical-align: top;\n",
              "    }\n",
              "\n",
              "    .dataframe thead th {\n",
              "        text-align: right;\n",
              "    }\n",
              "</style>\n",
              "<table border=\"1\" class=\"dataframe\">\n",
              "  <thead>\n",
              "    <tr style=\"text-align: right;\">\n",
              "      <th></th>\n",
              "      <th>EmployeeID</th>\n",
              "      <th>Age</th>\n",
              "      <th>Attrition</th>\n",
              "      <th>BusinessTravel</th>\n",
              "      <th>DailyRate</th>\n",
              "      <th>Department</th>\n",
              "      <th>DistanceFromHome</th>\n",
              "      <th>Education</th>\n",
              "      <th>EducationField</th>\n",
              "      <th>EmployeeCount</th>\n",
              "      <th>...</th>\n",
              "      <th>RelationshipSatisfaction</th>\n",
              "      <th>StandardHours</th>\n",
              "      <th>Shift</th>\n",
              "      <th>TotalWorkingYears</th>\n",
              "      <th>TrainingTimesLastYear</th>\n",
              "      <th>WorkLifeBalance</th>\n",
              "      <th>YearsAtCompany</th>\n",
              "      <th>YearsInCurrentRole</th>\n",
              "      <th>YearsSinceLastPromotion</th>\n",
              "      <th>YearsWithCurrManager</th>\n",
              "    </tr>\n",
              "  </thead>\n",
              "  <tbody>\n",
              "    <tr>\n",
              "      <th>0</th>\n",
              "      <td>1313919</td>\n",
              "      <td>41</td>\n",
              "      <td>No</td>\n",
              "      <td>Travel_Rarely</td>\n",
              "      <td>1102</td>\n",
              "      <td>Cardiology</td>\n",
              "      <td>1</td>\n",
              "      <td>2</td>\n",
              "      <td>Life Sciences</td>\n",
              "      <td>1</td>\n",
              "      <td>...</td>\n",
              "      <td>1</td>\n",
              "      <td>80.0</td>\n",
              "      <td>0.0</td>\n",
              "      <td>8</td>\n",
              "      <td>0</td>\n",
              "      <td>1</td>\n",
              "      <td>6</td>\n",
              "      <td>4</td>\n",
              "      <td>0</td>\n",
              "      <td>5</td>\n",
              "    </tr>\n",
              "    <tr>\n",
              "      <th>1</th>\n",
              "      <td>1200302</td>\n",
              "      <td>49</td>\n",
              "      <td>No</td>\n",
              "      <td>Travel_Frequently</td>\n",
              "      <td>279</td>\n",
              "      <td>Maternity</td>\n",
              "      <td>8</td>\n",
              "      <td>1</td>\n",
              "      <td>Life Sciences</td>\n",
              "      <td>1</td>\n",
              "      <td>...</td>\n",
              "      <td>4</td>\n",
              "      <td>80.0</td>\n",
              "      <td>1.0</td>\n",
              "      <td>10</td>\n",
              "      <td>3</td>\n",
              "      <td>3</td>\n",
              "      <td>10</td>\n",
              "      <td>7</td>\n",
              "      <td>1</td>\n",
              "      <td>7</td>\n",
              "    </tr>\n",
              "    <tr>\n",
              "      <th>2</th>\n",
              "      <td>1060315</td>\n",
              "      <td>37</td>\n",
              "      <td>Yes</td>\n",
              "      <td>Travel_Rarely</td>\n",
              "      <td>1373</td>\n",
              "      <td>Maternity</td>\n",
              "      <td>2</td>\n",
              "      <td>2</td>\n",
              "      <td>Other</td>\n",
              "      <td>1</td>\n",
              "      <td>...</td>\n",
              "      <td>2</td>\n",
              "      <td>54.0</td>\n",
              "      <td>0.0</td>\n",
              "      <td>7</td>\n",
              "      <td>3</td>\n",
              "      <td>3</td>\n",
              "      <td>0</td>\n",
              "      <td>0</td>\n",
              "      <td>0</td>\n",
              "      <td>0</td>\n",
              "    </tr>\n",
              "    <tr>\n",
              "      <th>3</th>\n",
              "      <td>1272912</td>\n",
              "      <td>33</td>\n",
              "      <td>No</td>\n",
              "      <td>Travel_Frequently</td>\n",
              "      <td>1392</td>\n",
              "      <td>Maternity</td>\n",
              "      <td>3</td>\n",
              "      <td>4</td>\n",
              "      <td>Life Sciences</td>\n",
              "      <td>1</td>\n",
              "      <td>...</td>\n",
              "      <td>3</td>\n",
              "      <td>56.0</td>\n",
              "      <td>0.0</td>\n",
              "      <td>8</td>\n",
              "      <td>3</td>\n",
              "      <td>3</td>\n",
              "      <td>8</td>\n",
              "      <td>7</td>\n",
              "      <td>3</td>\n",
              "      <td>0</td>\n",
              "    </tr>\n",
              "    <tr>\n",
              "      <th>4</th>\n",
              "      <td>1414939</td>\n",
              "      <td>27</td>\n",
              "      <td>No</td>\n",
              "      <td>Travel_Rarely</td>\n",
              "      <td>591</td>\n",
              "      <td>Maternity</td>\n",
              "      <td>2</td>\n",
              "      <td>1</td>\n",
              "      <td>Medical</td>\n",
              "      <td>1</td>\n",
              "      <td>...</td>\n",
              "      <td>4</td>\n",
              "      <td>80.0</td>\n",
              "      <td>1.0</td>\n",
              "      <td>6</td>\n",
              "      <td>3</td>\n",
              "      <td>3</td>\n",
              "      <td>2</td>\n",
              "      <td>2</td>\n",
              "      <td>2</td>\n",
              "      <td>2</td>\n",
              "    </tr>\n",
              "  </tbody>\n",
              "</table>\n",
              "<p>5 rows × 35 columns</p>\n",
              "</div>\n",
              "    <div class=\"colab-df-buttons\">\n",
              "\n",
              "  <div class=\"colab-df-container\">\n",
              "    <button class=\"colab-df-convert\" onclick=\"convertToInteractive('df-953e59cf-c9b6-4e2f-a3e8-43f4566da329')\"\n",
              "            title=\"Convert this dataframe to an interactive table.\"\n",
              "            style=\"display:none;\">\n",
              "\n",
              "  <svg xmlns=\"http://www.w3.org/2000/svg\" height=\"24px\" viewBox=\"0 -960 960 960\">\n",
              "    <path d=\"M120-120v-720h720v720H120Zm60-500h600v-160H180v160Zm220 220h160v-160H400v160Zm0 220h160v-160H400v160ZM180-400h160v-160H180v160Zm440 0h160v-160H620v160ZM180-180h160v-160H180v160Zm440 0h160v-160H620v160Z\"/>\n",
              "  </svg>\n",
              "    </button>\n",
              "\n",
              "  <style>\n",
              "    .colab-df-container {\n",
              "      display:flex;\n",
              "      gap: 12px;\n",
              "    }\n",
              "\n",
              "    .colab-df-convert {\n",
              "      background-color: #E8F0FE;\n",
              "      border: none;\n",
              "      border-radius: 50%;\n",
              "      cursor: pointer;\n",
              "      display: none;\n",
              "      fill: #1967D2;\n",
              "      height: 32px;\n",
              "      padding: 0 0 0 0;\n",
              "      width: 32px;\n",
              "    }\n",
              "\n",
              "    .colab-df-convert:hover {\n",
              "      background-color: #E2EBFA;\n",
              "      box-shadow: 0px 1px 2px rgba(60, 64, 67, 0.3), 0px 1px 3px 1px rgba(60, 64, 67, 0.15);\n",
              "      fill: #174EA6;\n",
              "    }\n",
              "\n",
              "    .colab-df-buttons div {\n",
              "      margin-bottom: 4px;\n",
              "    }\n",
              "\n",
              "    [theme=dark] .colab-df-convert {\n",
              "      background-color: #3B4455;\n",
              "      fill: #D2E3FC;\n",
              "    }\n",
              "\n",
              "    [theme=dark] .colab-df-convert:hover {\n",
              "      background-color: #434B5C;\n",
              "      box-shadow: 0px 1px 3px 1px rgba(0, 0, 0, 0.15);\n",
              "      filter: drop-shadow(0px 1px 2px rgba(0, 0, 0, 0.3));\n",
              "      fill: #FFFFFF;\n",
              "    }\n",
              "  </style>\n",
              "\n",
              "    <script>\n",
              "      const buttonEl =\n",
              "        document.querySelector('#df-953e59cf-c9b6-4e2f-a3e8-43f4566da329 button.colab-df-convert');\n",
              "      buttonEl.style.display =\n",
              "        google.colab.kernel.accessAllowed ? 'block' : 'none';\n",
              "\n",
              "      async function convertToInteractive(key) {\n",
              "        const element = document.querySelector('#df-953e59cf-c9b6-4e2f-a3e8-43f4566da329');\n",
              "        const dataTable =\n",
              "          await google.colab.kernel.invokeFunction('convertToInteractive',\n",
              "                                                    [key], {});\n",
              "        if (!dataTable) return;\n",
              "\n",
              "        const docLinkHtml = 'Like what you see? Visit the ' +\n",
              "          '<a target=\"_blank\" href=https://colab.research.google.com/notebooks/data_table.ipynb>data table notebook</a>'\n",
              "          + ' to learn more about interactive tables.';\n",
              "        element.innerHTML = '';\n",
              "        dataTable['output_type'] = 'display_data';\n",
              "        await google.colab.output.renderOutput(dataTable, element);\n",
              "        const docLink = document.createElement('div');\n",
              "        docLink.innerHTML = docLinkHtml;\n",
              "        element.appendChild(docLink);\n",
              "      }\n",
              "    </script>\n",
              "  </div>\n",
              "\n",
              "\n",
              "<div id=\"df-c02c6e57-99e2-4f4f-a6ff-cd1d66b10dff\">\n",
              "  <button class=\"colab-df-quickchart\" onclick=\"quickchart('df-c02c6e57-99e2-4f4f-a6ff-cd1d66b10dff')\"\n",
              "            title=\"Suggest charts\"\n",
              "            style=\"display:none;\">\n",
              "\n",
              "<svg xmlns=\"http://www.w3.org/2000/svg\" height=\"24px\"viewBox=\"0 0 24 24\"\n",
              "     width=\"24px\">\n",
              "    <g>\n",
              "        <path d=\"M19 3H5c-1.1 0-2 .9-2 2v14c0 1.1.9 2 2 2h14c1.1 0 2-.9 2-2V5c0-1.1-.9-2-2-2zM9 17H7v-7h2v7zm4 0h-2V7h2v10zm4 0h-2v-4h2v4z\"/>\n",
              "    </g>\n",
              "</svg>\n",
              "  </button>\n",
              "\n",
              "<style>\n",
              "  .colab-df-quickchart {\n",
              "      --bg-color: #E8F0FE;\n",
              "      --fill-color: #1967D2;\n",
              "      --hover-bg-color: #E2EBFA;\n",
              "      --hover-fill-color: #174EA6;\n",
              "      --disabled-fill-color: #AAA;\n",
              "      --disabled-bg-color: #DDD;\n",
              "  }\n",
              "\n",
              "  [theme=dark] .colab-df-quickchart {\n",
              "      --bg-color: #3B4455;\n",
              "      --fill-color: #D2E3FC;\n",
              "      --hover-bg-color: #434B5C;\n",
              "      --hover-fill-color: #FFFFFF;\n",
              "      --disabled-bg-color: #3B4455;\n",
              "      --disabled-fill-color: #666;\n",
              "  }\n",
              "\n",
              "  .colab-df-quickchart {\n",
              "    background-color: var(--bg-color);\n",
              "    border: none;\n",
              "    border-radius: 50%;\n",
              "    cursor: pointer;\n",
              "    display: none;\n",
              "    fill: var(--fill-color);\n",
              "    height: 32px;\n",
              "    padding: 0;\n",
              "    width: 32px;\n",
              "  }\n",
              "\n",
              "  .colab-df-quickchart:hover {\n",
              "    background-color: var(--hover-bg-color);\n",
              "    box-shadow: 0 1px 2px rgba(60, 64, 67, 0.3), 0 1px 3px 1px rgba(60, 64, 67, 0.15);\n",
              "    fill: var(--button-hover-fill-color);\n",
              "  }\n",
              "\n",
              "  .colab-df-quickchart-complete:disabled,\n",
              "  .colab-df-quickchart-complete:disabled:hover {\n",
              "    background-color: var(--disabled-bg-color);\n",
              "    fill: var(--disabled-fill-color);\n",
              "    box-shadow: none;\n",
              "  }\n",
              "\n",
              "  .colab-df-spinner {\n",
              "    border: 2px solid var(--fill-color);\n",
              "    border-color: transparent;\n",
              "    border-bottom-color: var(--fill-color);\n",
              "    animation:\n",
              "      spin 1s steps(1) infinite;\n",
              "  }\n",
              "\n",
              "  @keyframes spin {\n",
              "    0% {\n",
              "      border-color: transparent;\n",
              "      border-bottom-color: var(--fill-color);\n",
              "      border-left-color: var(--fill-color);\n",
              "    }\n",
              "    20% {\n",
              "      border-color: transparent;\n",
              "      border-left-color: var(--fill-color);\n",
              "      border-top-color: var(--fill-color);\n",
              "    }\n",
              "    30% {\n",
              "      border-color: transparent;\n",
              "      border-left-color: var(--fill-color);\n",
              "      border-top-color: var(--fill-color);\n",
              "      border-right-color: var(--fill-color);\n",
              "    }\n",
              "    40% {\n",
              "      border-color: transparent;\n",
              "      border-right-color: var(--fill-color);\n",
              "      border-top-color: var(--fill-color);\n",
              "    }\n",
              "    60% {\n",
              "      border-color: transparent;\n",
              "      border-right-color: var(--fill-color);\n",
              "    }\n",
              "    80% {\n",
              "      border-color: transparent;\n",
              "      border-right-color: var(--fill-color);\n",
              "      border-bottom-color: var(--fill-color);\n",
              "    }\n",
              "    90% {\n",
              "      border-color: transparent;\n",
              "      border-bottom-color: var(--fill-color);\n",
              "    }\n",
              "  }\n",
              "</style>\n",
              "\n",
              "  <script>\n",
              "    async function quickchart(key) {\n",
              "      const quickchartButtonEl =\n",
              "        document.querySelector('#' + key + ' button');\n",
              "      quickchartButtonEl.disabled = true;  // To prevent multiple clicks.\n",
              "      quickchartButtonEl.classList.add('colab-df-spinner');\n",
              "      try {\n",
              "        const charts = await google.colab.kernel.invokeFunction(\n",
              "            'suggestCharts', [key], {});\n",
              "      } catch (error) {\n",
              "        console.error('Error during call to suggestCharts:', error);\n",
              "      }\n",
              "      quickchartButtonEl.classList.remove('colab-df-spinner');\n",
              "      quickchartButtonEl.classList.add('colab-df-quickchart-complete');\n",
              "    }\n",
              "    (() => {\n",
              "      let quickchartButtonEl =\n",
              "        document.querySelector('#df-c02c6e57-99e2-4f4f-a6ff-cd1d66b10dff button');\n",
              "      quickchartButtonEl.style.display =\n",
              "        google.colab.kernel.accessAllowed ? 'block' : 'none';\n",
              "    })();\n",
              "  </script>\n",
              "</div>\n",
              "    </div>\n",
              "  </div>\n"
            ]
          },
          "metadata": {},
          "execution_count": 213
        }
      ]
    },
    {
      "cell_type": "code",
      "source": [
        "pt.scatter(df['Age'], df['MonthlyIncome'], color='orchid');"
      ],
      "metadata": {
        "colab": {
          "base_uri": "https://localhost:8080/",
          "height": 430
        },
        "id": "IKTvfH6oHN_r",
        "outputId": "b318cdc7-83ac-4f52-ef11-a558e76502f5"
      },
      "execution_count": 214,
      "outputs": [
        {
          "output_type": "display_data",
          "data": {
            "text/plain": [
              "<Figure size 640x480 with 1 Axes>"
            ],
            "image/png": "[encoded data removed]"
          },
          "metadata": {}
        }
      ]
    },
    {
      "cell_type": "markdown",
      "source": [
        "From the scatter plot we infer that the data exhibits a funnel shape which implies Heteroskedasticity and thus violates the assumption of linear models and therefore simple linear regression might not be the best model to use here. We will still use it as asked to prove our claim."
      ],
      "metadata": {
        "id": "gJOvjgfQH0H3"
      }
    },
    {
      "cell_type": "markdown",
      "source": [
        "##Q1&2"
      ],
      "metadata": {
        "id": "jz68EGSpLPHX"
      }
    },
    {
      "cell_type": "code",
      "source": [
        "x,y = df['Age'], df['MonthlyIncome']"
      ],
      "metadata": {
        "id": "5ZwXQxjhIgFB"
      },
      "execution_count": 215,
      "outputs": []
    },
    {
      "cell_type": "code",
      "source": [
        "x_train, x_test, y_train, y_test = tts(x,y,test_size=0.34,random_state=2)"
      ],
      "metadata": {
        "id": "Cf9bPZR9In04"
      },
      "execution_count": 216,
      "outputs": []
    },
    {
      "cell_type": "code",
      "source": [
        "xy=x_train*y_train\n",
        "n=len(x_train)\n",
        "xmean=x_train.mean()\n",
        "ymean=y_train.mean()\n",
        "numerator=xy.sum()-n*xmean*ymean\n",
        "denominator=(x_train**2).sum()-n*(xmean**2)\n",
        "m=numerator/denominator\n",
        "c=ymean - (m*xmean)\n",
        "print('Intercept:',c,'Coefficient:',m)"
      ],
      "metadata": {
        "colab": {
          "base_uri": "https://localhost:8080/"
        },
        "id": "vV04bK6UHnpk",
        "outputId": "afd9aeb1-0de3-4893-a74e-1847253a3b75"
      },
      "execution_count": 217,
      "outputs": [
        {
          "output_type": "stream",
          "name": "stdout",
          "text": [
            "Intercept: -2871.88978743024 Coefficient: 256.39799474353975\n"
          ]
        }
      ]
    },
    {
      "cell_type": "code",
      "source": [
        "def line(m, c):\n",
        "  ax = pt.gca()\n",
        "  x = np.array(ax.get_xlim())\n",
        "  y = c + m * x\n",
        "  pt.plot(x, y, '-', color='red')"
      ],
      "metadata": {
        "id": "QLO6tn1PKUDb"
      },
      "execution_count": 218,
      "outputs": []
    },
    {
      "cell_type": "code",
      "source": [
        "pt.scatter(x_train, y_train, color='orchid')\n",
        "line(m,c);"
      ],
      "metadata": {
        "colab": {
          "base_uri": "https://localhost:8080/",
          "height": 430
        },
        "id": "oixpni3cKrUp",
        "outputId": "9d3460dc-a28c-4aa4-e67f-df03fe1a222c"
      },
      "execution_count": 219,
      "outputs": [
        {
          "output_type": "display_data",
          "data": {
            "text/plain": [
              "<Figure size 640x480 with 1 Axes>"
            ],
            "image/png": "[encoded data removed]"
          },
          "metadata": {}
        }
      ]
    },
    {
      "cell_type": "markdown",
      "source": [
        "##Q3"
      ],
      "metadata": {
        "id": "-dxmAYb2LTVL"
      }
    },
    {
      "cell_type": "code",
      "source": [
        "from sklearn.preprocessing import PolynomialFeatures\n",
        "from sklearn.metrics import r2_score, mean_absolute_error, mean_squared_error\n",
        "from sklearn.linear_model import LinearRegression"
      ],
      "metadata": {
        "id": "gWX_0Lg5Lq1w"
      },
      "execution_count": 220,
      "outputs": []
    },
    {
      "cell_type": "code",
      "source": [
        "x = df['TotalWorkingYears']\n",
        "y = df['MonthlyRate']"
      ],
      "metadata": {
        "id": "7jpaWTX-KtDS"
      },
      "execution_count": 221,
      "outputs": []
    },
    {
      "cell_type": "code",
      "source": [
        "pt.scatter(x,y,color='orchid');"
      ],
      "metadata": {
        "colab": {
          "base_uri": "https://localhost:8080/",
          "height": 430
        },
        "id": "M1PlrwCnOSEv",
        "outputId": "b4d6c7f5-7828-40ea-af46-dd85c0cc12e2"
      },
      "execution_count": 222,
      "outputs": [
        {
          "output_type": "display_data",
          "data": {
            "text/plain": [
              "<Figure size 640x480 with 1 Axes>"
            ],
            "image/png": "[encoded data removed]"
          },
          "metadata": {}
        }
      ]
    },
    {
      "cell_type": "markdown",
      "source": [
        "The data is all over the place and does not exhibit a near promising relationship of any kind. We would expect very low (almost zero) $R^2$ scores with polynomial regression on this data."
      ],
      "metadata": {
        "id": "HKI5TCWHOeeP"
      }
    },
    {
      "cell_type": "code",
      "source": [
        "x=(x-x.mean(numeric_only=True))/x.std(numeric_only=True)"
      ],
      "metadata": {
        "id": "A5Kn4YmkMGSM"
      },
      "execution_count": 223,
      "outputs": []
    },
    {
      "cell_type": "code",
      "source": [
        "x_train, x_test, y_train, y_test = tts(x,y,test_size=0.34,random_state=2)"
      ],
      "metadata": {
        "id": "aMEPnWC2Lk18"
      },
      "execution_count": 224,
      "outputs": []
    },
    {
      "cell_type": "code",
      "source": [
        "model = LinearRegression()"
      ],
      "metadata": {
        "id": "Yl5SJyBBM83w"
      },
      "execution_count": 225,
      "outputs": []
    },
    {
      "cell_type": "code",
      "source": [
        "x_train = np.array(x_train)\n",
        "x_test = np.array(x_test)\n",
        "x_train = x_train.reshape(-1,1)\n",
        "x_test = x_test.reshape(-1,1)"
      ],
      "metadata": {
        "id": "nwI5fukzNMZl"
      },
      "execution_count": 226,
      "outputs": []
    },
    {
      "cell_type": "code",
      "source": [
        "total = 0\n",
        "for i in range(1,4,1):\n",
        "  p = PolynomialFeatures(degree=i,include_bias=True)\n",
        "  x_trainP = p.fit_transform(x_train)\n",
        "  x_testP = p.transform(x_test)\n",
        "  model.fit(x_trainP, y_train)\n",
        "  y_pred = model.predict(x_testP)\n",
        "  sc = r2_score(y_test, y_pred)\n",
        "  total += sc\n",
        "  print(f'At Degree {i}, the R2 score is: ',sc)"
      ],
      "metadata": {
        "colab": {
          "base_uri": "https://localhost:8080/"
        },
        "id": "Iz9ncaD8MXOU",
        "outputId": "3d171909-5f43-4e64-b485-138472119a16"
      },
      "execution_count": 227,
      "outputs": [
        {
          "output_type": "stream",
          "name": "stdout",
          "text": [
            "At Degree 1, the R2 score is:  0.0006750805139827953\n",
            "At Degree 2, the R2 score is:  0.0032707250370437313\n",
            "At Degree 3, the R2 score is:  0.0048203480247266395\n"
          ]
        }
      ]
    },
    {
      "cell_type": "code",
      "source": [
        "graph.append(total/3)"
      ],
      "metadata": {
        "id": "bRSfESRUaZMB"
      },
      "execution_count": 228,
      "outputs": []
    },
    {
      "cell_type": "markdown",
      "source": [
        "##Q4"
      ],
      "metadata": {
        "id": "NrhFZhfNPX7t"
      }
    },
    {
      "cell_type": "code",
      "source": [
        "x = df['TotalWorkingYears']\n",
        "y = df['MonthlyIncome']\n",
        "pt.scatter(x,y,color='orchid');"
      ],
      "metadata": {
        "colab": {
          "base_uri": "https://localhost:8080/",
          "height": 430
        },
        "id": "niIdDlE0M_Ca",
        "outputId": "9f497d69-bc14-4413-94be-aaac59760299"
      },
      "execution_count": 229,
      "outputs": [
        {
          "output_type": "display_data",
          "data": {
            "text/plain": [
              "<Figure size 640x480 with 1 Axes>"
            ],
            "image/png": "[encoded data removed]"
          },
          "metadata": {}
        }
      ]
    },
    {
      "cell_type": "markdown",
      "source": [
        "We would expect slightly better $R^2$ scores on this one."
      ],
      "metadata": {
        "id": "-irno_9HPsNh"
      }
    },
    {
      "cell_type": "code",
      "source": [
        "x=(x-x.mean(numeric_only=True))/x.std(numeric_only=True)\n",
        "x_train, x_test, y_train, y_test = tts(x,y,test_size=0.34,random_state=2)\n",
        "x_train = np.array(x_train)\n",
        "x_test = np.array(x_test)\n",
        "x_train = x_train.reshape(-1,1)\n",
        "x_test = x_test.reshape(-1,1)"
      ],
      "metadata": {
        "id": "cOTeaUnAPfjl"
      },
      "execution_count": 230,
      "outputs": []
    },
    {
      "cell_type": "code",
      "source": [
        "total = 0\n",
        "for i in range(1,4,1):\n",
        "  p = PolynomialFeatures(degree=i,include_bias=True)\n",
        "  x_trainP = p.fit_transform(x_train)\n",
        "  x_testP = p.transform(x_test)\n",
        "  model.fit(x_trainP, y_train)\n",
        "  y_pred = model.predict(x_testP)\n",
        "  sc = r2_score(y_test, y_pred)\n",
        "  total += sc\n",
        "  print(f'At Degree {i}, the score is: ',sc)"
      ],
      "metadata": {
        "colab": {
          "base_uri": "https://localhost:8080/"
        },
        "id": "TWvDxuE2PnuQ",
        "outputId": "81002d3d-add3-46d2-b1bc-c5803553e978"
      },
      "execution_count": 231,
      "outputs": [
        {
          "output_type": "stream",
          "name": "stdout",
          "text": [
            "At Degree 1, the score is:  0.6329492943590038\n",
            "At Degree 2, the score is:  0.6327338792511861\n",
            "At Degree 3, the score is:  0.6288373459977938\n"
          ]
        }
      ]
    },
    {
      "cell_type": "code",
      "source": [
        "graph.append(total/3)"
      ],
      "metadata": {
        "id": "sUna9sWmapUP"
      },
      "execution_count": 232,
      "outputs": []
    },
    {
      "cell_type": "markdown",
      "source": [
        "##Q5\n",
        "We have done it already. Without doing this, the previous questions would not make sense."
      ],
      "metadata": {
        "id": "4SNLqNcvPwpL"
      }
    },
    {
      "cell_type": "markdown",
      "source": [
        "##Q6"
      ],
      "metadata": {
        "id": "-KQHl3ImP4wY"
      }
    },
    {
      "cell_type": "code",
      "source": [
        "from statsmodels.stats.outliers_influence import variance_inflation_factor\n",
        "from sklearn.metrics import mean_squared_error, mean_absolute_error, r2_score\n",
        "import warnings\n",
        "warnings.filterwarnings('ignore')"
      ],
      "metadata": {
        "id": "6nJYjXgoR6Z4"
      },
      "execution_count": 233,
      "outputs": []
    },
    {
      "cell_type": "code",
      "source": [
        "nums = df.select_dtypes(include=['float64', 'int64']).columns\n",
        "dfnum = df[nums]"
      ],
      "metadata": {
        "id": "f4kzQ8jzQLLq"
      },
      "execution_count": 234,
      "outputs": []
    },
    {
      "cell_type": "code",
      "source": [
        "dfnum.dropna(inplace=True)"
      ],
      "metadata": {
        "id": "jsWfbwByQzLH"
      },
      "execution_count": 235,
      "outputs": []
    },
    {
      "cell_type": "code",
      "source": [
        "vif = pd.Series([variance_inflation_factor(dfnum.values,idx)\n",
        "                 for idx in range(dfnum.shape[1])],\n",
        "                index=dfnum.columns)\n",
        "print(vif)"
      ],
      "metadata": {
        "colab": {
          "base_uri": "https://localhost:8080/"
        },
        "id": "V5gJMyskPplw",
        "outputId": "017cf97e-067b-4397-c765-a1d56293de5c"
      },
      "execution_count": 236,
      "outputs": [
        {
          "output_type": "stream",
          "name": "stdout",
          "text": [
            "EmployeeID                    1.010665\n",
            "Age                           2.095266\n",
            "DailyRate                     1.020419\n",
            "DistanceFromHome              1.016013\n",
            "Education                     1.058776\n",
            "EmployeeCount               364.447335\n",
            "EnvironmentSatisfaction       1.011221\n",
            "HourlyRate                    1.022510\n",
            "JobInvolvement                1.025008\n",
            "JobLevel                     11.437922\n",
            "JobSatisfaction               1.018884\n",
            "MonthlyIncome                11.179096\n",
            "MonthlyRate                   1.017231\n",
            "NumCompaniesWorked            1.255375\n",
            "PercentSalaryHike             2.430097\n",
            "PerformanceRating             2.429460\n",
            "RelationshipSatisfaction      1.019624\n",
            "StandardHours                 1.016305\n",
            "Shift                         1.017992\n",
            "TotalWorkingYears             4.816558\n",
            "TrainingTimesLastYear         1.013355\n",
            "WorkLifeBalance               1.014627\n",
            "YearsAtCompany                4.482472\n",
            "YearsInCurrentRole            2.703009\n",
            "YearsSinceLastPromotion       1.664005\n",
            "YearsWithCurrManager          2.823976\n",
            "dtype: float64\n"
          ]
        }
      ]
    },
    {
      "cell_type": "code",
      "source": [
        "print('The vifs in sorted order is - ')\n",
        "vif.sort_values()"
      ],
      "metadata": {
        "colab": {
          "base_uri": "https://localhost:8080/"
        },
        "id": "OuGjlzowSeQn",
        "outputId": "8a24b97c-16da-43b0-e7d0-9520fb009fb4"
      },
      "execution_count": 237,
      "outputs": [
        {
          "output_type": "stream",
          "name": "stdout",
          "text": [
            "The vifs in sorted order is - \n"
          ]
        },
        {
          "output_type": "execute_result",
          "data": {
            "text/plain": [
              "EmployeeID                    1.010665\n",
              "EnvironmentSatisfaction       1.011221\n",
              "TrainingTimesLastYear         1.013355\n",
              "WorkLifeBalance               1.014627\n",
              "DistanceFromHome              1.016013\n",
              "StandardHours                 1.016305\n",
              "MonthlyRate                   1.017231\n",
              "Shift                         1.017992\n",
              "JobSatisfaction               1.018884\n",
              "RelationshipSatisfaction      1.019624\n",
              "DailyRate                     1.020419\n",
              "HourlyRate                    1.022510\n",
              "JobInvolvement                1.025008\n",
              "Education                     1.058776\n",
              "NumCompaniesWorked            1.255375\n",
              "YearsSinceLastPromotion       1.664005\n",
              "Age                           2.095266\n",
              "PerformanceRating             2.429460\n",
              "PercentSalaryHike             2.430097\n",
              "YearsInCurrentRole            2.703009\n",
              "YearsWithCurrManager          2.823976\n",
              "YearsAtCompany                4.482472\n",
              "TotalWorkingYears             4.816558\n",
              "MonthlyIncome                11.179096\n",
              "JobLevel                     11.437922\n",
              "EmployeeCount               364.447335\n",
              "dtype: float64"
            ]
          },
          "metadata": {},
          "execution_count": 237
        }
      ]
    },
    {
      "cell_type": "code",
      "source": [
        "print('The top 6 predictors are - ')\n",
        "vif.sort_values()[:6]"
      ],
      "metadata": {
        "colab": {
          "base_uri": "https://localhost:8080/"
        },
        "id": "TA_HDD2ZQKv0",
        "outputId": "940e7ae6-2d18-4c3d-8736-96107b148073"
      },
      "execution_count": 238,
      "outputs": [
        {
          "output_type": "stream",
          "name": "stdout",
          "text": [
            "The top 6 predictors are - \n"
          ]
        },
        {
          "output_type": "execute_result",
          "data": {
            "text/plain": [
              "EmployeeID                 1.010665\n",
              "EnvironmentSatisfaction    1.011221\n",
              "TrainingTimesLastYear      1.013355\n",
              "WorkLifeBalance            1.014627\n",
              "DistanceFromHome           1.016013\n",
              "StandardHours              1.016305\n",
              "dtype: float64"
            ]
          },
          "metadata": {},
          "execution_count": 238
        }
      ]
    },
    {
      "cell_type": "markdown",
      "source": [
        "##Q7"
      ],
      "metadata": {
        "id": "J9lXK9_GSqxt"
      }
    },
    {
      "cell_type": "code",
      "source": [
        "x = dfnum[['EmployeeID','EnvironmentSatisfaction','TrainingTimesLastYear','WorkLifeBalance','DistanceFromHome','StandardHours']]\n",
        "y = dfnum['MonthlyRate']\n",
        "x_train, x_test, y_train, y_test = tts(x,y,test_size=0.34,random_state=2)\n",
        "model.fit(x_train,y_train)"
      ],
      "metadata": {
        "colab": {
          "base_uri": "https://localhost:8080/",
          "height": 74
        },
        "id": "0XvmRkZeSxoF",
        "outputId": "c3119304-ca98-494b-c8b2-b266c591ee58"
      },
      "execution_count": 239,
      "outputs": [
        {
          "output_type": "execute_result",
          "data": {
            "text/plain": [
              "LinearRegression()"
            ],
            "text/html": [
              "<style>#sk-container-id-4 {color: black;background-color: white;}#sk-container-id-4 pre{padding: 0;}#sk-container-id-4 div.sk-toggleable {background-color: white;}#sk-container-id-4 label.sk-toggleable__label {cursor: pointer;display: block;width: 100%;margin-bottom: 0;padding: 0.3em;box-sizing: border-box;text-align: center;}#sk-container-id-4 label.sk-toggleable__label-arrow:before {content: \"▸\";float: left;margin-right: 0.25em;color: #696969;}#sk-container-id-4 label.sk-toggleable__label-arrow:hover:before {color: black;}#sk-container-id-4 div.sk-estimator:hover label.sk-toggleable__label-arrow:before {color: black;}#sk-container-id-4 div.sk-toggleable__content {max-height: 0;max-width: 0;overflow: hidden;text-align: left;background-color: #f0f8ff;}#sk-container-id-4 div.sk-toggleable__content pre {margin: 0.2em;color: black;border-radius: 0.25em;background-color: #f0f8ff;}#sk-container-id-4 input.sk-toggleable__control:checked~div.sk-toggleable__content {max-height: 200px;max-width: 100%;overflow: auto;}#sk-container-id-4 input.sk-toggleable__control:checked~label.sk-toggleable__label-arrow:before {content: \"▾\";}#sk-container-id-4 div.sk-estimator input.sk-toggleable__control:checked~label.sk-toggleable__label {background-color: #d4ebff;}#sk-container-id-4 div.sk-label input.sk-toggleable__control:checked~label.sk-toggleable__label {background-color: #d4ebff;}#sk-container-id-4 input.sk-hidden--visually {border: 0;clip: rect(1px 1px 1px 1px);clip: rect(1px, 1px, 1px, 1px);height: 1px;margin: -1px;overflow: hidden;padding: 0;position: absolute;width: 1px;}#sk-container-id-4 div.sk-estimator {font-family: monospace;background-color: #f0f8ff;border: 1px dotted black;border-radius: 0.25em;box-sizing: border-box;margin-bottom: 0.5em;}#sk-container-id-4 div.sk-estimator:hover {background-color: #d4ebff;}#sk-container-id-4 div.sk-parallel-item::after {content: \"\";width: 100%;border-bottom: 1px solid gray;flex-grow: 1;}#sk-container-id-4 div.sk-label:hover label.sk-toggleable__label {background-color: #d4ebff;}#sk-container-id-4 div.sk-serial::before {content: \"\";position: absolute;border-left: 1px solid gray;box-sizing: border-box;top: 0;bottom: 0;left: 50%;z-index: 0;}#sk-container-id-4 div.sk-serial {display: flex;flex-direction: column;align-items: center;background-color: white;padding-right: 0.2em;padding-left: 0.2em;position: relative;}#sk-container-id-4 div.sk-item {position: relative;z-index: 1;}#sk-container-id-4 div.sk-parallel {display: flex;align-items: stretch;justify-content: center;background-color: white;position: relative;}#sk-container-id-4 div.sk-item::before, #sk-container-id-4 div.sk-parallel-item::before {content: \"\";position: absolute;border-left: 1px solid gray;box-sizing: border-box;top: 0;bottom: 0;left: 50%;z-index: -1;}#sk-container-id-4 div.sk-parallel-item {display: flex;flex-direction: column;z-index: 1;position: relative;background-color: white;}#sk-container-id-4 div.sk-parallel-item:first-child::after {align-self: flex-end;width: 50%;}#sk-container-id-4 div.sk-parallel-item:last-child::after {align-self: flex-start;width: 50%;}#sk-container-id-4 div.sk-parallel-item:only-child::after {width: 0;}#sk-container-id-4 div.sk-dashed-wrapped {border: 1px dashed gray;margin: 0 0.4em 0.5em 0.4em;box-sizing: border-box;padding-bottom: 0.4em;background-color: white;}#sk-container-id-4 div.sk-label label {font-family: monospace;font-weight: bold;display: inline-block;line-height: 1.2em;}#sk-container-id-4 div.sk-label-container {text-align: center;}#sk-container-id-4 div.sk-container {/* jupyter's `normalize.less` sets `[hidden] { display: none; }` but bootstrap.min.css set `[hidden] { display: none !important; }` so we also need the `!important` here to be able to override the default hidden behavior on the sphinx rendered scikit-learn.org. See: https://github.com/scikit-learn/scikit-learn/issues/21755 */display: inline-block !important;position: relative;}#sk-container-id-4 div.sk-text-repr-fallback {display: none;}</style><div id=\"sk-container-id-4\" class=\"sk-top-container\"><div class=\"sk-text-repr-fallback\"><pre>LinearRegression()</pre><b>In a Jupyter environment, please rerun this cell to show the HTML representation or trust the notebook. <br />On GitHub, the HTML representation is unable to render, please try loading this page with nbviewer.org.</b></div><div class=\"sk-container\" hidden><div class=\"sk-item\"><div class=\"sk-estimator sk-toggleable\"><input class=\"sk-toggleable__control sk-hidden--visually\" id=\"sk-estimator-id-4\" type=\"checkbox\" checked><label for=\"sk-estimator-id-4\" class=\"sk-toggleable__label sk-toggleable__label-arrow\">LinearRegression</label><div class=\"sk-toggleable__content\"><pre>LinearRegression()</pre></div></div></div></div></div>"
            ]
          },
          "metadata": {},
          "execution_count": 239
        }
      ]
    },
    {
      "cell_type": "code",
      "source": [
        "y_pred = model.predict(x_test)"
      ],
      "metadata": {
        "id": "UCqQmBeoTSjP"
      },
      "execution_count": 240,
      "outputs": []
    },
    {
      "cell_type": "code",
      "source": [
        "mean_squared_error(y_test, y_pred)"
      ],
      "metadata": {
        "colab": {
          "base_uri": "https://localhost:8080/"
        },
        "id": "y88bXwhJTbR3",
        "outputId": "e134cc4f-cc65-4643-9dfe-7e28ae5a23d2"
      },
      "execution_count": 241,
      "outputs": [
        {
          "output_type": "execute_result",
          "data": {
            "text/plain": [
              "51575418.64268779"
            ]
          },
          "metadata": {},
          "execution_count": 241
        }
      ]
    },
    {
      "cell_type": "code",
      "source": [
        "r2_score(y_test, y_pred)"
      ],
      "metadata": {
        "colab": {
          "base_uri": "https://localhost:8080/"
        },
        "id": "-ogZ-ViATp6r",
        "outputId": "0b71deb4-8537-478d-ccfb-f57baacc275e"
      },
      "execution_count": 242,
      "outputs": [
        {
          "output_type": "execute_result",
          "data": {
            "text/plain": [
              "-0.0021535169911532925"
            ]
          },
          "metadata": {},
          "execution_count": 242
        }
      ]
    },
    {
      "cell_type": "code",
      "source": [
        "adjr2(model, x, y)"
      ],
      "metadata": {
        "colab": {
          "base_uri": "https://localhost:8080/"
        },
        "id": "p3hVBhfmauYS",
        "outputId": "8bf8d290-9c58-4afb-e76b-a32adee58f39"
      },
      "execution_count": 243,
      "outputs": [
        {
          "output_type": "execute_result",
          "data": {
            "text/plain": [
              "-0.00016306703191770744"
            ]
          },
          "metadata": {},
          "execution_count": 243
        }
      ]
    },
    {
      "cell_type": "code",
      "source": [
        "graph.append(r2_score(y_test, y_pred))"
      ],
      "metadata": {
        "id": "lPFqpt7UbHo9"
      },
      "execution_count": 244,
      "outputs": []
    },
    {
      "cell_type": "markdown",
      "source": [
        "##Q8"
      ],
      "metadata": {
        "id": "aJUFJfMfUA6S"
      }
    },
    {
      "cell_type": "code",
      "source": [
        "x = dfnum['EmployeeCount']\n",
        "y = dfnum['MonthlyRate']\n",
        "x_train, x_test, y_train, y_test = tts(x,y,test_size=0.34,random_state=2)\n",
        "x_train = np.array(x_train)\n",
        "x_test = np.array(x_test)\n",
        "x_train = x_train.reshape(-1,1)\n",
        "x_test = x_test.reshape(-1,1)"
      ],
      "metadata": {
        "id": "a_Y4HZK_T3pk"
      },
      "execution_count": 245,
      "outputs": []
    },
    {
      "cell_type": "code",
      "source": [
        "pt.scatter(x,y,color='orchid');"
      ],
      "metadata": {
        "colab": {
          "base_uri": "https://localhost:8080/",
          "height": 430
        },
        "id": "S7lm_a4PVg_9",
        "outputId": "8c73af6c-d5c0-47ac-d99a-99de39722f09"
      },
      "execution_count": 246,
      "outputs": [
        {
          "output_type": "display_data",
          "data": {
            "text/plain": [
              "<Figure size 640x480 with 1 Axes>"
            ],
            "image/png": "[encoded data removed]"
          },
          "metadata": {}
        }
      ]
    },
    {
      "cell_type": "markdown",
      "source": [
        "This certainly does not suit to be fitted by any kind of model. With a linear model the intercept will not exist and a constant plot does not explain any variance in the target variable."
      ],
      "metadata": {
        "id": "XStDEz0TdLAe"
      }
    },
    {
      "cell_type": "code",
      "source": [
        "total = 0\n",
        "for i in range(4,7,1):\n",
        "  p = PolynomialFeatures(degree=i,include_bias=True)\n",
        "  x_trainP = p.fit_transform(x_train)\n",
        "  x_testP = p.transform(x_test)\n",
        "  model.fit(x_trainP, y_train)\n",
        "  y_pred = model.predict(x_testP)\n",
        "  sc = r2_score(y_test, y_pred)\n",
        "  total += sc\n",
        "  print(f'At Degree {i}, the score is: ',sc)"
      ],
      "metadata": {
        "colab": {
          "base_uri": "https://localhost:8080/"
        },
        "id": "tnjV4kqKUQhh",
        "outputId": "03e1609a-2cf4-44fb-84f6-012945904ec7"
      },
      "execution_count": 247,
      "outputs": [
        {
          "output_type": "stream",
          "name": "stdout",
          "text": [
            "At Degree 4, the score is:  -0.0012599902148751063\n",
            "At Degree 5, the score is:  -0.0012599902148751063\n",
            "At Degree 6, the score is:  -0.0012599902148751063\n"
          ]
        }
      ]
    },
    {
      "cell_type": "code",
      "source": [
        "graph.append(total/3)"
      ],
      "metadata": {
        "id": "y6r2m_1CbQf5"
      },
      "execution_count": 248,
      "outputs": []
    },
    {
      "cell_type": "markdown",
      "source": [
        "##Q9"
      ],
      "metadata": {
        "id": "dGnzbx0dVdHr"
      }
    },
    {
      "cell_type": "code",
      "source": [
        "from sklearn.linear_model import Ridge\n",
        "from sklearn.model_selection import GridSearchCV"
      ],
      "metadata": {
        "id": "QK98W1hBVxb7"
      },
      "execution_count": 249,
      "outputs": []
    },
    {
      "cell_type": "code",
      "source": [
        "ridge = Ridge()\n",
        "parameters={'alpha': np.linspace(0.01,100,1)}\n",
        "ridge_regressor=GridSearchCV(ridge,parameters,scoring='neg_mean_squared_error',cv=5)\n",
        "ridge_regressor.fit(x_train.reshape(-1,1),y_train)\n",
        "print(ridge_regressor.best_params_)\n",
        "print(ridge_regressor.best_score_)\n",
        "y_pred = ridge_regressor.predict(x_test.reshape(-1,1))\n",
        "print(f'The Mean Squared Error using Lasso Regression is: ', mean_squared_error(y_test, y_pred))\n",
        "print(f'The R-squared error using Lasso Regression is: ', r2_score(y_test, y_pred))\n",
        "# print(f'The Adjusted R-squared error using Lasso Regression is: ', adjr2(ridge_regressor, y_test.reshape(-1,1), y_pred))"
      ],
      "metadata": {
        "colab": {
          "base_uri": "https://localhost:8080/"
        },
        "id": "RltaaqruVDh_",
        "outputId": "6243fe40-3563-4acb-9e85-baf3dc44f08d"
      },
      "execution_count": 250,
      "outputs": [
        {
          "output_type": "stream",
          "name": "stdout",
          "text": [
            "{'alpha': 0.01}\n",
            "-50929727.724688634\n",
            "The Mean Squared Error using Lasso Regression is:  51529433.65458601\n",
            "The R-squared error using Lasso Regression is:  -0.0012599902148751063\n"
          ]
        }
      ]
    },
    {
      "cell_type": "code",
      "source": [
        "graph.append(r2_score(y_test, y_pred))"
      ],
      "metadata": {
        "id": "LibXW-1CbVMY"
      },
      "execution_count": 251,
      "outputs": []
    },
    {
      "cell_type": "markdown",
      "source": [
        "##Q10"
      ],
      "metadata": {
        "id": "KnPW8GMvXVzv"
      }
    },
    {
      "cell_type": "code",
      "source": [
        "from sklearn.linear_model import Lasso"
      ],
      "metadata": {
        "id": "bJPQwqRvXXCu"
      },
      "execution_count": 252,
      "outputs": []
    },
    {
      "cell_type": "code",
      "source": [
        "lasso = Lasso()\n",
        "parameters={'alpha': np.linspace(0.01,100,1)}\n",
        "lasso_regressor=GridSearchCV(lasso,parameters,scoring='neg_mean_squared_error',cv=5)\n",
        "lasso_regressor.fit(x_train.reshape(-1,1),y_train)\n",
        "print(lasso_regressor.best_params_)\n",
        "print(lasso_regressor.best_score_)\n",
        "y_pred = lasso_regressor.predict(x_test.reshape(-1,1))\n",
        "print(f'The Mean Squared Error using Lasso Regression is: ', mean_squared_error(y_test, y_pred))\n",
        "print(f'The R-squared error using Lasso Regression is: ', r2_score(y_test, y_pred))\n",
        "# print(f'The Adjusted R-squared error using Lasso Regression is: ', adjr2(lasso_regressor, y_test.reshape(-1,1), y_pred))"
      ],
      "metadata": {
        "colab": {
          "base_uri": "https://localhost:8080/"
        },
        "id": "1ohDgyQ1WVnM",
        "outputId": "81f8a2bf-7172-4971-fa27-53357fc1ba71"
      },
      "execution_count": 253,
      "outputs": [
        {
          "output_type": "stream",
          "name": "stdout",
          "text": [
            "{'alpha': 0.01}\n",
            "-50929727.724688634\n",
            "The Mean Squared Error using Lasso Regression is:  51529433.65458601\n",
            "The R-squared error using Lasso Regression is:  -0.0012599902148751063\n"
          ]
        }
      ]
    },
    {
      "cell_type": "code",
      "source": [
        "graph.append(r2_score(y_test, y_pred))"
      ],
      "metadata": {
        "id": "y1OuDpEEbhZg"
      },
      "execution_count": 254,
      "outputs": []
    },
    {
      "cell_type": "markdown",
      "source": [
        "##Q11"
      ],
      "metadata": {
        "id": "cYbH9AWUXrWj"
      }
    },
    {
      "cell_type": "code",
      "source": [
        "from sklearn.model_selection import cross_val_score, KFold\n",
        "num_folds = 6\n",
        "kf = KFold(n_splits=num_folds, shuffle=True, random_state=2)\n",
        "cv_scores = cross_val_score(model, np.array(x).reshape(-1,1), y, cv=kf, scoring='r2')\n",
        "for i, score in enumerate(cv_scores, 1):\n",
        "    print(f'Fold {i}: R-squared = {score:.4f}')\n",
        "average_r2 = np.mean(cv_scores)\n",
        "print(f'Average R-squared: {average_r2:.4f}')"
      ],
      "metadata": {
        "colab": {
          "base_uri": "https://localhost:8080/"
        },
        "id": "On4rUKI9XgXo",
        "outputId": "29d2ba48-3e98-417e-9de1-979ac9bd729c"
      },
      "execution_count": 255,
      "outputs": [
        {
          "output_type": "stream",
          "name": "stdout",
          "text": [
            "Fold 1: R-squared = -0.0000\n",
            "Fold 2: R-squared = -0.0025\n",
            "Fold 3: R-squared = -0.0002\n",
            "Fold 4: R-squared = -0.0007\n",
            "Fold 5: R-squared = -0.0000\n",
            "Fold 6: R-squared = -0.0016\n",
            "Average R-squared: -0.0008\n"
          ]
        }
      ]
    },
    {
      "cell_type": "code",
      "source": [
        "graph.append(average_r2)"
      ],
      "metadata": {
        "id": "BY6GoUcPbi8X"
      },
      "execution_count": 256,
      "outputs": []
    },
    {
      "cell_type": "markdown",
      "source": [
        "##Q12\n",
        "The top predictors found out earlier can be used to predict `PercentSalaryHike` because they have the minimum VIF."
      ],
      "metadata": {
        "id": "5ic65k67YdYB"
      }
    },
    {
      "cell_type": "markdown",
      "source": [
        "##Q13\n",
        "The evaluation is done wherever applicable."
      ],
      "metadata": {
        "id": "h_53pb4TZuvv"
      }
    },
    {
      "cell_type": "markdown",
      "source": [
        "##Q14\n",
        "The slope and coefficient values are printed wherever applicable."
      ],
      "metadata": {
        "id": "E-BVkVj8Z0Tz"
      }
    },
    {
      "cell_type": "markdown",
      "source": [
        "##Q15"
      ],
      "metadata": {
        "id": "SgmrEtDLaDvW"
      }
    },
    {
      "cell_type": "code",
      "source": [
        "graph"
      ],
      "metadata": {
        "colab": {
          "base_uri": "https://localhost:8080/"
        },
        "id": "xloMrDLXcNn8",
        "outputId": "d58661bb-4df0-497b-8c2c-07165fd2acc6"
      },
      "execution_count": 259,
      "outputs": [
        {
          "output_type": "execute_result",
          "data": {
            "text/plain": [
              "[0.002922051191917722,\n",
              " 0.6315068398693279,\n",
              " -0.0021535169911532925,\n",
              " -0.0012599902148751063,\n",
              " -0.0012599902148751063,\n",
              " -0.0012599902148751063,\n",
              " -0.000847471101516765]"
            ]
          },
          "metadata": {},
          "execution_count": 259
        }
      ]
    },
    {
      "cell_type": "code",
      "source": [
        "pt.plot([1,2,3,4,5,6,7],graph,color='orchid');\n",
        "pt.scatter([1,2,3,4,5,6,7],graph,color='red');"
      ],
      "metadata": {
        "colab": {
          "base_uri": "https://localhost:8080/",
          "height": 430
        },
        "id": "mWFhGBaGZysV",
        "outputId": "7c0cac87-c96a-44eb-d417-53f1fece9d44"
      },
      "execution_count": 265,
      "outputs": [
        {
          "output_type": "display_data",
          "data": {
            "text/plain": [
              "<Figure size 640x480 with 1 Axes>"
            ],
            "image/png": "[encoded data removed]"
          },
          "metadata": {}
        }
      ]
    },
    {
      "cell_type": "markdown",
      "source": [
        "##Inference\n",
        "\n",
        "The inference from this notebook is that, the dataset given does not exhibit the characteristics for which linear models are applicable. There are some subtle assumptions which are violated at every step following which we have encountered pretty bad scores on an average."
      ],
      "metadata": {
        "id": "iWhk-GB4cpaK"
      }
    }
  ]
}