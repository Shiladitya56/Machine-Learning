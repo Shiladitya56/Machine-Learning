{
  "nbformat": 4,
  "nbformat_minor": 0,
  "metadata": {
    "colab": {
      "provenance": [],
      "mount_file_id": "1rZyGqEpDB88ToWuWl6VMDx7o4SsrnuF4",
      "authorship_tag": "ABX9TyNX+golhTtXdjuPRKSrM3fH",
      "include_colab_link": true
    },
    "kernelspec": {
      "name": "python3",
      "display_name": "Python 3"
    },
    "language_info": {
      "name": "python"
    }
  },
  "cells": [
    {
      "cell_type": "markdown",
      "metadata": {
        "id": "view-in-github",
        "colab_type": "text"
      },
      "source": [
        "<a href=\"https://colab.research.google.com/github/Shiladitya56/Machine-Learning/blob/main/SEM2/lab5.ipynb\" target=\"_parent\"><img src=\"https://colab.research.google.com/assets/colab-badge.svg\" alt=\"Open In Colab\"/></a>"
      ]
    },
    {
      "cell_type": "markdown",
      "source": [
        "#SHILADITYA (2348556)"
      ],
      "metadata": {
        "id": "Zg2hOk6POby_"
      }
    },
    {
      "cell_type": "code",
      "execution_count": 417,
      "metadata": {
        "id": "DeCWVJ-V6FGC"
      },
      "outputs": [],
      "source": [
        "import numpy as np\n",
        "import pandas as pd\n",
        "from statsmodels.stats.outliers_influence import variance_inflation_factor as vif\n",
        "import random\n",
        "from sklearn import linear_model\n",
        "from sklearn.preprocessing import PolynomialFeatures\n",
        "from sklearn.linear_model import LinearRegression\n",
        "from sklearn.metrics import mean_squared_error as mse, r2_score\n",
        "from sklearn.linear_model import Ridge, Lasso\n",
        "from sklearn.model_selection import GridSearchCV\n",
        "import matplotlib.pyplot as pt"
      ]
    },
    {
      "cell_type": "code",
      "source": [
        "def r2(actual: np.ndarray, predicted: np.ndarray):\n",
        "  \"\"\" R2 Score \"\"\"\n",
        "  return r2_score(actual, predicted)\n",
        "def adjr2(model, x: np.ndarray, y: np.ndarray):\n",
        "  \"\"\" Adjusted R2 Score \"\"\"\n",
        "  return 1 - ( 1-model.score(x, y) ) * ( len(y) - 1 ) / ( len(y) - x.shape[1] - 1 )"
      ],
      "metadata": {
        "id": "4ORC8gcrFTjt"
      },
      "execution_count": 418,
      "outputs": []
    },
    {
      "cell_type": "code",
      "source": [
        "graph = []"
      ],
      "metadata": {
        "id": "tkmuDQorJAmN"
      },
      "execution_count": 419,
      "outputs": []
    },
    {
      "cell_type": "code",
      "source": [
        "df = pd.read_csv('/content/drive/MyDrive/ipynb/sem2/datasets/prog5.csv')\n",
        "df.head()"
      ],
      "metadata": {
        "colab": {
          "base_uri": "https://localhost:8080/",
          "height": 206
        },
        "id": "Ql92Rm9t6YXk",
        "outputId": "60e7042a-0713-4559-ac43-6fb9a41588f4"
      },
      "execution_count": 420,
      "outputs": [
        {
          "output_type": "execute_result",
          "data": {
            "text/plain": [
              "   Unnamed: 0       Category  Age Sex   ALB   ALP   ALT   AST   BIL    CHE  \\\n",
              "0           1  0=Blood Donor   32   m  38.5  52.5   7.7  22.1   7.5   6.93   \n",
              "1           2  0=Blood Donor   32   m  38.5  70.3  18.0  24.7   3.9  11.17   \n",
              "2           3  0=Blood Donor   32   m  46.9  74.7  36.2  52.6   6.1   8.84   \n",
              "3           4  0=Blood Donor   32   m  43.2  52.0  30.6  22.6  18.9   7.33   \n",
              "4           5  0=Blood Donor   32   m  39.2  74.1  32.6  24.8   9.6   9.15   \n",
              "\n",
              "   CHOL   CREA   GGT  PROT  \n",
              "0  3.23  106.0  12.1  69.0  \n",
              "1  4.80   74.0  15.6  76.5  \n",
              "2  5.20   86.0  33.2  79.3  \n",
              "3  4.74   80.0  33.8  75.7  \n",
              "4  4.32   76.0  29.9  68.7  "
            ],
            "text/html": [
              "\n",
              "  <div id=\"df-552f1d7e-55b5-40d4-85a4-7b16bf7c9873\" class=\"colab-df-container\">\n",
              "    <div>\n",
              "<style scoped>\n",
              "    .dataframe tbody tr th:only-of-type {\n",
              "        vertical-align: middle;\n",
              "    }\n",
              "\n",
              "    .dataframe tbody tr th {\n",
              "        vertical-align: top;\n",
              "    }\n",
              "\n",
              "    .dataframe thead th {\n",
              "        text-align: right;\n",
              "    }\n",
              "</style>\n",
              "<table border=\"1\" class=\"dataframe\">\n",
              "  <thead>\n",
              "    <tr style=\"text-align: right;\">\n",
              "      <th></th>\n",
              "      <th>Unnamed: 0</th>\n",
              "      <th>Category</th>\n",
              "      <th>Age</th>\n",
              "      <th>Sex</th>\n",
              "      <th>ALB</th>\n",
              "      <th>ALP</th>\n",
              "      <th>ALT</th>\n",
              "      <th>AST</th>\n",
              "      <th>BIL</th>\n",
              "      <th>CHE</th>\n",
              "      <th>CHOL</th>\n",
              "      <th>CREA</th>\n",
              "      <th>GGT</th>\n",
              "      <th>PROT</th>\n",
              "    </tr>\n",
              "  </thead>\n",
              "  <tbody>\n",
              "    <tr>\n",
              "      <th>0</th>\n",
              "      <td>1</td>\n",
              "      <td>0=Blood Donor</td>\n",
              "      <td>32</td>\n",
              "      <td>m</td>\n",
              "      <td>38.5</td>\n",
              "      <td>52.5</td>\n",
              "      <td>7.7</td>\n",
              "      <td>22.1</td>\n",
              "      <td>7.5</td>\n",
              "      <td>6.93</td>\n",
              "      <td>3.23</td>\n",
              "      <td>106.0</td>\n",
              "      <td>12.1</td>\n",
              "      <td>69.0</td>\n",
              "    </tr>\n",
              "    <tr>\n",
              "      <th>1</th>\n",
              "      <td>2</td>\n",
              "      <td>0=Blood Donor</td>\n",
              "      <td>32</td>\n",
              "      <td>m</td>\n",
              "      <td>38.5</td>\n",
              "      <td>70.3</td>\n",
              "      <td>18.0</td>\n",
              "      <td>24.7</td>\n",
              "      <td>3.9</td>\n",
              "      <td>11.17</td>\n",
              "      <td>4.80</td>\n",
              "      <td>74.0</td>\n",
              "      <td>15.6</td>\n",
              "      <td>76.5</td>\n",
              "    </tr>\n",
              "    <tr>\n",
              "      <th>2</th>\n",
              "      <td>3</td>\n",
              "      <td>0=Blood Donor</td>\n",
              "      <td>32</td>\n",
              "      <td>m</td>\n",
              "      <td>46.9</td>\n",
              "      <td>74.7</td>\n",
              "      <td>36.2</td>\n",
              "      <td>52.6</td>\n",
              "      <td>6.1</td>\n",
              "      <td>8.84</td>\n",
              "      <td>5.20</td>\n",
              "      <td>86.0</td>\n",
              "      <td>33.2</td>\n",
              "      <td>79.3</td>\n",
              "    </tr>\n",
              "    <tr>\n",
              "      <th>3</th>\n",
              "      <td>4</td>\n",
              "      <td>0=Blood Donor</td>\n",
              "      <td>32</td>\n",
              "      <td>m</td>\n",
              "      <td>43.2</td>\n",
              "      <td>52.0</td>\n",
              "      <td>30.6</td>\n",
              "      <td>22.6</td>\n",
              "      <td>18.9</td>\n",
              "      <td>7.33</td>\n",
              "      <td>4.74</td>\n",
              "      <td>80.0</td>\n",
              "      <td>33.8</td>\n",
              "      <td>75.7</td>\n",
              "    </tr>\n",
              "    <tr>\n",
              "      <th>4</th>\n",
              "      <td>5</td>\n",
              "      <td>0=Blood Donor</td>\n",
              "      <td>32</td>\n",
              "      <td>m</td>\n",
              "      <td>39.2</td>\n",
              "      <td>74.1</td>\n",
              "      <td>32.6</td>\n",
              "      <td>24.8</td>\n",
              "      <td>9.6</td>\n",
              "      <td>9.15</td>\n",
              "      <td>4.32</td>\n",
              "      <td>76.0</td>\n",
              "      <td>29.9</td>\n",
              "      <td>68.7</td>\n",
              "    </tr>\n",
              "  </tbody>\n",
              "</table>\n",
              "</div>\n",
              "    <div class=\"colab-df-buttons\">\n",
              "\n",
              "  <div class=\"colab-df-container\">\n",
              "    <button class=\"colab-df-convert\" onclick=\"convertToInteractive('df-552f1d7e-55b5-40d4-85a4-7b16bf7c9873')\"\n",
              "            title=\"Convert this dataframe to an interactive table.\"\n",
              "            style=\"display:none;\">\n",
              "\n",
              "  <svg xmlns=\"http://www.w3.org/2000/svg\" height=\"24px\" viewBox=\"0 -960 960 960\">\n",
              "    <path d=\"M120-120v-720h720v720H120Zm60-500h600v-160H180v160Zm220 220h160v-160H400v160Zm0 220h160v-160H400v160ZM180-400h160v-160H180v160Zm440 0h160v-160H620v160ZM180-180h160v-160H180v160Zm440 0h160v-160H620v160Z\"/>\n",
              "  </svg>\n",
              "    </button>\n",
              "\n",
              "  <style>\n",
              "    .colab-df-container {\n",
              "      display:flex;\n",
              "      gap: 12px;\n",
              "    }\n",
              "\n",
              "    .colab-df-convert {\n",
              "      background-color: #E8F0FE;\n",
              "      border: none;\n",
              "      border-radius: 50%;\n",
              "      cursor: pointer;\n",
              "      display: none;\n",
              "      fill: #1967D2;\n",
              "      height: 32px;\n",
              "      padding: 0 0 0 0;\n",
              "      width: 32px;\n",
              "    }\n",
              "\n",
              "    .colab-df-convert:hover {\n",
              "      background-color: #E2EBFA;\n",
              "      box-shadow: 0px 1px 2px rgba(60, 64, 67, 0.3), 0px 1px 3px 1px rgba(60, 64, 67, 0.15);\n",
              "      fill: #174EA6;\n",
              "    }\n",
              "\n",
              "    .colab-df-buttons div {\n",
              "      margin-bottom: 4px;\n",
              "    }\n",
              "\n",
              "    [theme=dark] .colab-df-convert {\n",
              "      background-color: #3B4455;\n",
              "      fill: #D2E3FC;\n",
              "    }\n",
              "\n",
              "    [theme=dark] .colab-df-convert:hover {\n",
              "      background-color: #434B5C;\n",
              "      box-shadow: 0px 1px 3px 1px rgba(0, 0, 0, 0.15);\n",
              "      filter: drop-shadow(0px 1px 2px rgba(0, 0, 0, 0.3));\n",
              "      fill: #FFFFFF;\n",
              "    }\n",
              "  </style>\n",
              "\n",
              "    <script>\n",
              "      const buttonEl =\n",
              "        document.querySelector('#df-552f1d7e-55b5-40d4-85a4-7b16bf7c9873 button.colab-df-convert');\n",
              "      buttonEl.style.display =\n",
              "        google.colab.kernel.accessAllowed ? 'block' : 'none';\n",
              "\n",
              "      async function convertToInteractive(key) {\n",
              "        const element = document.querySelector('#df-552f1d7e-55b5-40d4-85a4-7b16bf7c9873');\n",
              "        const dataTable =\n",
              "          await google.colab.kernel.invokeFunction('convertToInteractive',\n",
              "                                                    [key], {});\n",
              "        if (!dataTable) return;\n",
              "\n",
              "        const docLinkHtml = 'Like what you see? Visit the ' +\n",
              "          '<a target=\"_blank\" href=https://colab.research.google.com/notebooks/data_table.ipynb>data table notebook</a>'\n",
              "          + ' to learn more about interactive tables.';\n",
              "        element.innerHTML = '';\n",
              "        dataTable['output_type'] = 'display_data';\n",
              "        await google.colab.output.renderOutput(dataTable, element);\n",
              "        const docLink = document.createElement('div');\n",
              "        docLink.innerHTML = docLinkHtml;\n",
              "        element.appendChild(docLink);\n",
              "      }\n",
              "    </script>\n",
              "  </div>\n",
              "\n",
              "\n",
              "<div id=\"df-314440de-d731-4caf-bcbb-ec7203aae441\">\n",
              "  <button class=\"colab-df-quickchart\" onclick=\"quickchart('df-314440de-d731-4caf-bcbb-ec7203aae441')\"\n",
              "            title=\"Suggest charts\"\n",
              "            style=\"display:none;\">\n",
              "\n",
              "<svg xmlns=\"http://www.w3.org/2000/svg\" height=\"24px\"viewBox=\"0 0 24 24\"\n",
              "     width=\"24px\">\n",
              "    <g>\n",
              "        <path d=\"M19 3H5c-1.1 0-2 .9-2 2v14c0 1.1.9 2 2 2h14c1.1 0 2-.9 2-2V5c0-1.1-.9-2-2-2zM9 17H7v-7h2v7zm4 0h-2V7h2v10zm4 0h-2v-4h2v4z\"/>\n",
              "    </g>\n",
              "</svg>\n",
              "  </button>\n",
              "\n",
              "<style>\n",
              "  .colab-df-quickchart {\n",
              "      --bg-color: #E8F0FE;\n",
              "      --fill-color: #1967D2;\n",
              "      --hover-bg-color: #E2EBFA;\n",
              "      --hover-fill-color: #174EA6;\n",
              "      --disabled-fill-color: #AAA;\n",
              "      --disabled-bg-color: #DDD;\n",
              "  }\n",
              "\n",
              "  [theme=dark] .colab-df-quickchart {\n",
              "      --bg-color: #3B4455;\n",
              "      --fill-color: #D2E3FC;\n",
              "      --hover-bg-color: #434B5C;\n",
              "      --hover-fill-color: #FFFFFF;\n",
              "      --disabled-bg-color: #3B4455;\n",
              "      --disabled-fill-color: #666;\n",
              "  }\n",
              "\n",
              "  .colab-df-quickchart {\n",
              "    background-color: var(--bg-color);\n",
              "    border: none;\n",
              "    border-radius: 50%;\n",
              "    cursor: pointer;\n",
              "    display: none;\n",
              "    fill: var(--fill-color);\n",
              "    height: 32px;\n",
              "    padding: 0;\n",
              "    width: 32px;\n",
              "  }\n",
              "\n",
              "  .colab-df-quickchart:hover {\n",
              "    background-color: var(--hover-bg-color);\n",
              "    box-shadow: 0 1px 2px rgba(60, 64, 67, 0.3), 0 1px 3px 1px rgba(60, 64, 67, 0.15);\n",
              "    fill: var(--button-hover-fill-color);\n",
              "  }\n",
              "\n",
              "  .colab-df-quickchart-complete:disabled,\n",
              "  .colab-df-quickchart-complete:disabled:hover {\n",
              "    background-color: var(--disabled-bg-color);\n",
              "    fill: var(--disabled-fill-color);\n",
              "    box-shadow: none;\n",
              "  }\n",
              "\n",
              "  .colab-df-spinner {\n",
              "    border: 2px solid var(--fill-color);\n",
              "    border-color: transparent;\n",
              "    border-bottom-color: var(--fill-color);\n",
              "    animation:\n",
              "      spin 1s steps(1) infinite;\n",
              "  }\n",
              "\n",
              "  @keyframes spin {\n",
              "    0% {\n",
              "      border-color: transparent;\n",
              "      border-bottom-color: var(--fill-color);\n",
              "      border-left-color: var(--fill-color);\n",
              "    }\n",
              "    20% {\n",
              "      border-color: transparent;\n",
              "      border-left-color: var(--fill-color);\n",
              "      border-top-color: var(--fill-color);\n",
              "    }\n",
              "    30% {\n",
              "      border-color: transparent;\n",
              "      border-left-color: var(--fill-color);\n",
              "      border-top-color: var(--fill-color);\n",
              "      border-right-color: var(--fill-color);\n",
              "    }\n",
              "    40% {\n",
              "      border-color: transparent;\n",
              "      border-right-color: var(--fill-color);\n",
              "      border-top-color: var(--fill-color);\n",
              "    }\n",
              "    60% {\n",
              "      border-color: transparent;\n",
              "      border-right-color: var(--fill-color);\n",
              "    }\n",
              "    80% {\n",
              "      border-color: transparent;\n",
              "      border-right-color: var(--fill-color);\n",
              "      border-bottom-color: var(--fill-color);\n",
              "    }\n",
              "    90% {\n",
              "      border-color: transparent;\n",
              "      border-bottom-color: var(--fill-color);\n",
              "    }\n",
              "  }\n",
              "</style>\n",
              "\n",
              "  <script>\n",
              "    async function quickchart(key) {\n",
              "      const quickchartButtonEl =\n",
              "        document.querySelector('#' + key + ' button');\n",
              "      quickchartButtonEl.disabled = true;  // To prevent multiple clicks.\n",
              "      quickchartButtonEl.classList.add('colab-df-spinner');\n",
              "      try {\n",
              "        const charts = await google.colab.kernel.invokeFunction(\n",
              "            'suggestCharts', [key], {});\n",
              "      } catch (error) {\n",
              "        console.error('Error during call to suggestCharts:', error);\n",
              "      }\n",
              "      quickchartButtonEl.classList.remove('colab-df-spinner');\n",
              "      quickchartButtonEl.classList.add('colab-df-quickchart-complete');\n",
              "    }\n",
              "    (() => {\n",
              "      let quickchartButtonEl =\n",
              "        document.querySelector('#df-314440de-d731-4caf-bcbb-ec7203aae441 button');\n",
              "      quickchartButtonEl.style.display =\n",
              "        google.colab.kernel.accessAllowed ? 'block' : 'none';\n",
              "    })();\n",
              "  </script>\n",
              "</div>\n",
              "    </div>\n",
              "  </div>\n"
            ]
          },
          "metadata": {},
          "execution_count": 420
        }
      ]
    },
    {
      "cell_type": "code",
      "source": [
        "df.isnull().sum()"
      ],
      "metadata": {
        "colab": {
          "base_uri": "https://localhost:8080/"
        },
        "id": "zgU8ujwP8WGt",
        "outputId": "f9b5bc6b-8aae-42f9-f1c1-25592d309493"
      },
      "execution_count": 421,
      "outputs": [
        {
          "output_type": "execute_result",
          "data": {
            "text/plain": [
              "Unnamed: 0     0\n",
              "Category       0\n",
              "Age            0\n",
              "Sex            0\n",
              "ALB            2\n",
              "ALP           20\n",
              "ALT            3\n",
              "AST            2\n",
              "BIL            0\n",
              "CHE            0\n",
              "CHOL          11\n",
              "CREA           1\n",
              "GGT            0\n",
              "PROT           1\n",
              "dtype: int64"
            ]
          },
          "metadata": {},
          "execution_count": 421
        }
      ]
    },
    {
      "cell_type": "code",
      "source": [
        "df.dropna(inplace=True)"
      ],
      "metadata": {
        "id": "iUCTll2i8YaL"
      },
      "execution_count": 422,
      "outputs": []
    },
    {
      "cell_type": "code",
      "source": [
        "x = df['CREA']\n",
        "y = df['PROT']"
      ],
      "metadata": {
        "id": "_l3JT0RS6k9G"
      },
      "execution_count": 423,
      "outputs": []
    },
    {
      "cell_type": "code",
      "source": [
        "x = (x - x.mean())/x.std()\n",
        "y = (y - y.mean())/y.std()"
      ],
      "metadata": {
        "id": "wbJgX_uc6vki"
      },
      "execution_count": 424,
      "outputs": []
    },
    {
      "cell_type": "code",
      "source": [
        "def permulit(x, y, test_size=0.2, random_seed=None):\n",
        "  '''\n",
        "    Split the dataset into training and testing sets.\n",
        "    Parameters:\n",
        "    - x: Features (list, array, or DataFrame)\n",
        "    - y: Labels (list, array, or Series)\n",
        "    - test_size: The proportion of the dataset to include in the test split (default is 0.2)\n",
        "    - random_seed: Seed for random number generation to ensure reproducibility (default is None)\n",
        "\n",
        "    Returns:\n",
        "    - x_train, y_train, x_test, y_test\n",
        "  '''\n",
        "  assert len(x) == len(y),\\\n",
        "  'Input arrays x and y must have the same length (:'\n",
        "  assert 0 < test_size < 1,\\\n",
        "  'test_size percentage should be a float between 0 and 1.'\n",
        "  if random_seed:\n",
        "    random.seed(random_seed)\n",
        "  combined_data = list(zip(x, y))\n",
        "  random.shuffle(combined_data)\n",
        "  x_shuffled, y_shuffled = zip(*combined_data)\n",
        "  split_index = int(len(x) * (1 - test_size))\n",
        "  x_train, x_test = x_shuffled[:split_index], x_shuffled[split_index:]\n",
        "  y_train, y_test = y_shuffled[:split_index], y_shuffled[split_index:]\n",
        "  return np.array(x_train), np.array(y_train), np.array(x_test), np.array(y_test)"
      ],
      "metadata": {
        "id": "A8Pp5G-_7DRI"
      },
      "execution_count": 425,
      "outputs": []
    },
    {
      "cell_type": "code",
      "source": [
        "pd.Series([vif(df[['ALB','ALP','ALT','AST','BIL','CHE','CHOL','CREA','GGT']].values, i) for i in range(df[['ALB','ALP','ALT','AST','BIL','CHE','CHOL','CREA','GGT']].shape[1])], index=df[['ALB','ALP','ALT','AST','BIL','CHE','CHOL','CREA','GGT']].columns)"
      ],
      "metadata": {
        "colab": {
          "base_uri": "https://localhost:8080/"
        },
        "id": "ESlKanik7cE6",
        "outputId": "0f21371e-c5e2-4a62-c5e2-5a6373c4b22e"
      },
      "execution_count": 426,
      "outputs": [
        {
          "output_type": "execute_result",
          "data": {
            "text/plain": [
              "ALB     31.162740\n",
              "ALP     10.024253\n",
              "ALT      3.184002\n",
              "AST      2.938453\n",
              "BIL      1.678633\n",
              "CHE     22.397373\n",
              "CHOL    27.238712\n",
              "CREA     3.656226\n",
              "GGT      2.542260\n",
              "dtype: float64"
            ]
          },
          "metadata": {},
          "execution_count": 426
        }
      ]
    },
    {
      "cell_type": "code",
      "source": [
        "x_train, y_train, x_test, y_test = permulit(x,y,test_size=0.2)"
      ],
      "metadata": {
        "id": "tuRVMLpN97lI"
      },
      "execution_count": 427,
      "outputs": []
    },
    {
      "cell_type": "markdown",
      "source": [
        "##LINEAR REGRESSION"
      ],
      "metadata": {
        "id": "QJX31szOLdo8"
      }
    },
    {
      "cell_type": "code",
      "source": [
        "model = linear_model.LinearRegression()\n",
        "model.fit(x_train.reshape(-1,1), y_train.reshape(-1,1))\n",
        "y_pred = model.predict(x_test.reshape(-1,1))"
      ],
      "metadata": {
        "id": "AW1PnKx8-jZg"
      },
      "execution_count": 428,
      "outputs": []
    },
    {
      "cell_type": "code",
      "source": [
        "graph.append(mse(y_test, y_pred))\n",
        "print('The Mean Squared Error using Linear Regression is: ', graph[0])\n",
        "print('The R-squared Error using Linear Regression is: ', r2(y_test, y_pred))\n",
        "print('The Adjusted R-squared Error using Linear Regression is: ', adjr2(model, y_test.reshape(-1,1), y_pred))"
      ],
      "metadata": {
        "colab": {
          "base_uri": "https://localhost:8080/"
        },
        "id": "GFeEXSlcJ2Fx",
        "outputId": "30ede4ad-5f8b-468e-de80-0704f92e21a3"
      },
      "execution_count": 429,
      "outputs": [
        {
          "output_type": "stream",
          "name": "stdout",
          "text": [
            "The Mean Squared Error using Linear Regression is:  1.138809983347248\n",
            "The R-squared Error using Linear Regression is:  0.0008440460556959906\n",
            "The Adjusted R-squared Error using Linear Regression is:  -1.9829225567618773\n"
          ]
        }
      ]
    },
    {
      "cell_type": "markdown",
      "source": [
        "##MUTILPLE LINEAR REGRESSION"
      ],
      "metadata": {
        "id": "SjZS3k4RLhXR"
      }
    },
    {
      "cell_type": "code",
      "source": [
        "from sklearn.model_selection import train_test_split\n",
        "x = df[['BIL','AST','GGT']]\n",
        "y = df['PROT']\n",
        "x = (x - x.mean())/x.std()\n",
        "y = (y - y.mean())/y.std()\n",
        "x_train, x_test, y_train, y_test = train_test_split(x,y,test_size=0.2)\n",
        "model = linear_model.LinearRegression()\n",
        "model.fit(x_train, y_train)\n",
        "y_pred = model.predict(x_test)"
      ],
      "metadata": {
        "id": "3NMPzVY7JMr3"
      },
      "execution_count": 430,
      "outputs": []
    },
    {
      "cell_type": "code",
      "source": [
        "graph.append(mse(y_test, y_pred))\n",
        "print('The Mean Squared Error using Multiple Linear Regression is: ', graph[1])\n",
        "print('The R-squared Error using Multiple Linear Regression is: ', r2(y_test, y_pred))"
      ],
      "metadata": {
        "colab": {
          "base_uri": "https://localhost:8080/"
        },
        "id": "ZRKpRiUv_OEl",
        "outputId": "98486eb3-300c-41df-cdc8-146e245f4236"
      },
      "execution_count": 431,
      "outputs": [
        {
          "output_type": "stream",
          "name": "stdout",
          "text": [
            "The Mean Squared Error using Multiple Linear Regression is:  1.156578161790006\n",
            "The R-squared Error using Multiple Linear Regression is:  -0.012709973484513748\n"
          ]
        }
      ]
    },
    {
      "cell_type": "code",
      "source": [
        "print('The slope is : ', model.coef_)\n",
        "print('The y-intercept is : ', model.intercept_)"
      ],
      "metadata": {
        "colab": {
          "base_uri": "https://localhost:8080/"
        },
        "id": "4KAkbX8aHrcF",
        "outputId": "d058c2d2-647b-4413-d729-e160f8bdd4b9"
      },
      "execution_count": 432,
      "outputs": [
        {
          "output_type": "stream",
          "name": "stdout",
          "text": [
            "The slope is :  [-0.04399361  0.05486414 -0.045533  ]\n",
            "The y-intercept is :  0.026402796431339633\n"
          ]
        }
      ]
    },
    {
      "cell_type": "code",
      "source": [
        "model = LinearRegression()\n",
        "p = PolynomialFeatures(degree=3, include_bias=True)"
      ],
      "metadata": {
        "id": "x936IXWf_aVT"
      },
      "execution_count": 433,
      "outputs": []
    },
    {
      "cell_type": "code",
      "source": [
        "x = df['ALB']\n",
        "y = df['PROT']\n",
        "x = (x - x.mean())/x.std()\n",
        "y = (y - y.mean())/y.std()\n",
        "x_train, y_train, x_test, y_test = permulit(x,y,test_size=0.2)"
      ],
      "metadata": {
        "id": "VSAXH526BK0q"
      },
      "execution_count": 434,
      "outputs": []
    },
    {
      "cell_type": "markdown",
      "source": [
        "##POLYNOMIAL REGRESSION"
      ],
      "metadata": {
        "id": "UwLTKWE9Ln0J"
      }
    },
    {
      "cell_type": "code",
      "source": [
        "def poly():\n",
        "  for i in range(2,5,1):\n",
        "    p = PolynomialFeatures(degree=i*2, include_bias=True)\n",
        "    x_trainP = p.fit_transform(x_train.reshape(-1,1))\n",
        "    x_testP = p.transform(x_test.reshape(-1,1))\n",
        "    model.fit(x_trainP, y_train)\n",
        "    y_pred = model.predict(x_testP)\n",
        "    print(f'The Mean Squared Error using Polynomial Regression with degree {i*2} is: ', mse(y_test, y_pred))\n",
        "    print('The slope is : ', model.coef_)\n",
        "    print('The y-intercept is : ', model.intercept_)"
      ],
      "metadata": {
        "id": "d3eEpIUNDfgI"
      },
      "execution_count": 435,
      "outputs": []
    },
    {
      "cell_type": "code",
      "source": [
        "poly()"
      ],
      "metadata": {
        "colab": {
          "base_uri": "https://localhost:8080/"
        },
        "id": "94XX-cgjD08I",
        "outputId": "069b45cd-6aa3-4b30-f6d3-c7216a216652"
      },
      "execution_count": 436,
      "outputs": [
        {
          "output_type": "stream",
          "name": "stdout",
          "text": [
            "The Mean Squared Error using Polynomial Regression with degree 4 is:  0.7297981815371481\n",
            "The slope is :  [ 0.          0.58815632 -0.0657566   0.00221011 -0.00112595]\n",
            "The y-intercept is :  0.05709751962816847\n",
            "The Mean Squared Error using Polynomial Regression with degree 6 is:  0.7460669676288559\n",
            "The slope is :  [ 0.          0.61771566  0.13737962  0.00405993 -0.03113826 -0.0013477\n",
            "  0.00070895]\n",
            "The y-intercept is :  -0.02972199112024867\n",
            "The Mean Squared Error using Polynomial Regression with degree 8 is:  0.7419565290764992\n",
            "The slope is :  [ 0.00000000e+00  6.49673025e-01  1.49269453e-01 -2.24141974e-02\n",
            " -3.61191495e-02  1.49029477e-03  1.08401699e-03 -6.04733959e-05\n",
            " -3.67563602e-06]\n",
            "The y-intercept is :  -0.03381884413624682\n"
          ]
        }
      ]
    },
    {
      "cell_type": "code",
      "source": [
        "graph.append(mse(y_test, y_pred))"
      ],
      "metadata": {
        "id": "v0q5lmhJMaRs"
      },
      "execution_count": 437,
      "outputs": []
    },
    {
      "cell_type": "markdown",
      "source": [
        "##RIDGE REGRESSION"
      ],
      "metadata": {
        "id": "uMomMSUrLrFI"
      }
    },
    {
      "cell_type": "code",
      "source": [
        "ridge = Ridge()\n",
        "parameters={'alpha':[0.001,0.01,1,5,10,20,30,35,40,45,50,55,100,150]}\n",
        "ridge_regressor=GridSearchCV(ridge,parameters,scoring='neg_mean_squared_error',cv=5)\n",
        "ridge_regressor.fit(x_train.reshape(-1,1),y_train.reshape(-1,1))\n",
        "print(ridge_regressor.best_params_)\n",
        "print(ridge_regressor.best_score_)"
      ],
      "metadata": {
        "colab": {
          "base_uri": "https://localhost:8080/"
        },
        "id": "U_ejNGMTBxOO",
        "outputId": "bee25deb-8e06-4000-ab0a-237c79b3292a"
      },
      "execution_count": 438,
      "outputs": [
        {
          "output_type": "stream",
          "name": "stdout",
          "text": [
            "{'alpha': 35}\n",
            "-0.6902468262535657\n"
          ]
        }
      ]
    },
    {
      "cell_type": "code",
      "source": [
        "y_pred = ridge_regressor.predict(x_test.reshape(-1,1))\n",
        "graph.append(mse(y_test.reshape(-1,1), y_pred))\n",
        "print(f'The Mean Squared Error using Ridge Regression is: ', graph[3])\n",
        "print(f'The R-squared error using Ridge Regression is: ', r2(y_test, y_pred))\n",
        "print(f'The Adjusted R-squared error using Ridge Regression is: ', adjr2(ridge_regressor, y_test.reshape(-1,1), y_pred))"
      ],
      "metadata": {
        "colab": {
          "base_uri": "https://localhost:8080/"
        },
        "id": "F35p62ZwF4WO",
        "outputId": "4e5c8065-21f6-4259-c628-49fcd098b116"
      },
      "execution_count": 439,
      "outputs": [
        {
          "output_type": "stream",
          "name": "stdout",
          "text": [
            "The Mean Squared Error using Ridge Regression is:  0.7454327628185959\n",
            "The R-squared error using Ridge Regression is:  0.08154257821396604\n",
            "The Adjusted R-squared error using Ridge Regression is:  -0.2982554660369505\n"
          ]
        }
      ]
    },
    {
      "cell_type": "markdown",
      "source": [
        "##LASSO REGRESSION"
      ],
      "metadata": {
        "id": "a0eqJRiGLu_y"
      }
    },
    {
      "cell_type": "code",
      "source": [
        "lasso = Lasso()\n",
        "parameters={'alpha':[0.001,0.01,1,5,10,20,30,35,40,45,50,55,100]}\n",
        "lasso_regressor=GridSearchCV(lasso,parameters,scoring='neg_mean_squared_error',cv=5)\n",
        "lasso_regressor.fit(x_train.reshape(-1,1),y_train.reshape(-1,1))\n",
        "print(ridge_regressor.best_params_)\n",
        "print(ridge_regressor.best_score_)"
      ],
      "metadata": {
        "colab": {
          "base_uri": "https://localhost:8080/"
        },
        "id": "DzfWkpd-CwcI",
        "outputId": "6059ec5d-1bc1-46c4-db8a-d65ae6d5eb80"
      },
      "execution_count": 440,
      "outputs": [
        {
          "output_type": "stream",
          "name": "stdout",
          "text": [
            "{'alpha': 35}\n",
            "-0.6902468262535657\n"
          ]
        }
      ]
    },
    {
      "cell_type": "code",
      "source": [
        "y_pred = lasso_regressor.predict(x_test.reshape(-1,1))\n",
        "graph.append(mse(y_test.reshape(-1,1), y_pred))\n",
        "print(f'The Mean Squared Error using Lasso Regression is: ', graph[4])\n",
        "print(f'The R-squared error using Lasso Regression is: ', r2(y_test, y_pred))\n",
        "print(f'The Adjusted R-squared error using Lasso Regression is: ', adjr2(lasso_regressor, y_test.reshape(-1,1), y_pred))"
      ],
      "metadata": {
        "colab": {
          "base_uri": "https://localhost:8080/"
        },
        "id": "uIKW3XluDUQl",
        "outputId": "5c916e2b-c2a3-451b-9071-bd8f4776b06b"
      },
      "execution_count": 441,
      "outputs": [
        {
          "output_type": "stream",
          "name": "stdout",
          "text": [
            "The Mean Squared Error using Lasso Regression is:  0.7508259538149966\n",
            "The R-squared error using Lasso Regression is:  0.07489755730151748\n",
            "The Adjusted R-squared error using Lasso Regression is:  -0.32955079473864557\n"
          ]
        }
      ]
    },
    {
      "cell_type": "code",
      "source": [
        "pt.figure(figsize=(10,8))\n",
        "pt.rcParams.update({'font.size': 12})\n",
        "pt.bar(['Linear Regression', 'Multiple Linear Regression', 'Polynomial Regression', 'Ridge Regression', 'Lasso Regression'], graph, color='plum')\n",
        "pt.title('Comparison Chart')\n",
        "pt.ylabel('Mean Squared Error')\n",
        "pt.xlabel('Regression Type')\n",
        "pt.xticks(rotation=20)\n",
        "pt.tight_layout();"
      ],
      "metadata": {
        "colab": {
          "base_uri": "https://localhost:8080/",
          "height": 801
        },
        "id": "ETP5iZsaMigr",
        "outputId": "05616640-4524-4e57-faa6-1ae1691d5ce9"
      },
      "execution_count": 442,
      "outputs": [
        {
          "output_type": "display_data",
          "data": {
            "text/plain": [
              "<Figure size 1000x800 with 1 Axes>"
            ],
            "image/png": "[encoded data removed]"
          },
          "metadata": {}
        }
      ]
    },
    {
      "cell_type": "markdown",
      "source": [
        "##INFERENCE\n",
        "From the above graph, the inference is clear that Ridge regression gives us the least error. The problem with linear regression is as expected. It cannot generalize to handle non-linear relationships. Multiple linear regression gives slightly more error due to choice of predictors. The polynomial regression due to its degree gives considerably good performance. It can handle non linear relationships well. But a high degree in polynomial regression makes the model prone to overfit. That is where the next two regressions come in. Ridge and Lasso are two regularization techniques. They regularize the best fit line so that it can generalize well over unseen data. That is why they perform better on the test data and give much less error. We see that the error value of Ridge is slightly lesser than Lasso. This is because of the way gradient comes out to be on their respective graphs. Ridge assigns a quadratic penalty and Lasso penalizes with respect to the absolute value. What this means in practice is that, Ridge penalizes the well offset values more and thus the bound imposed is tighther than Lasso. Due to this, the error in Ridge is expected to be a little less than Lasso (as observed). But this difference is often very small and thus does not make one superior than the other. Both the regularization techniques compete fairly well in use.\n",
        "\n",
        "Thank you."
      ],
      "metadata": {
        "id": "QsOzvHgNOfeR"
      }
    }
  ]
}