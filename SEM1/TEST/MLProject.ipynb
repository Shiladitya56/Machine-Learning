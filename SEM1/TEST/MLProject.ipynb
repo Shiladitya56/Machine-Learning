{
 "cells": [
  {
   "cell_type": "code",
   "execution_count": 1,
   "metadata": {},
   "outputs": [],
   "source": [
    "# %pip install nltk"
   ]
  },
  {
   "cell_type": "code",
   "execution_count": 2,
   "metadata": {},
   "outputs": [],
   "source": [
    "import nltk\n",
    "import re\n",
    "import string\n",
    "import pandas as pd\n",
    "import seaborn as sb\n",
    "from sklearn.model_selection import train_test_split\n",
    "from nltk.stem import WordNetLemmatizer"
   ]
  },
  {
   "cell_type": "code",
   "execution_count": 3,
   "metadata": {},
   "outputs": [],
   "source": [
    "# nltk.download('punkt')\n",
    "# nltk.download('stopwords')\n",
    "# nltk.download('wordnet')"
   ]
  },
  {
   "cell_type": "code",
   "execution_count": 4,
   "metadata": {},
   "outputs": [],
   "source": [
    "def remove_punctuation(text):\n",
    "  text = text.lower()\n",
    "  punctuationfree=\"\".join([i for i in text if i not in string.punctuation])\n",
    "  return punctuationfree\n",
    "def tokenization(text):\n",
    "  tokens = re.split(' ',text)\n",
    "  return tokens\n",
    "stopwords = nltk.corpus.stopwords.words('english')\n",
    "def remove_stopwords(text):\n",
    "  output = []\n",
    "  for i in text:\n",
    "    if i in stopwords:\n",
    "      continue\n",
    "    output.append(i)\n",
    "  return output\n",
    "wordnet_lemmatizer = WordNetLemmatizer()\n",
    "def lemmatizer(text):\n",
    "  lemm_text = [wordnet_lemmatizer.lemmatize(word) for word in text]\n",
    "  return lemm_text\n",
    "def preprocessing(txt):\n",
    "    return lemmatizer(remove_stopwords(tokenization(remove_punctuation(txt))))"
   ]
  },
  {
   "cell_type": "code",
   "execution_count": 5,
   "metadata": {},
   "outputs": [
    {
     "data": {
      "text/html": [
       "<div>\n",
       "<style scoped>\n",
       "    .dataframe tbody tr th:only-of-type {\n",
       "        vertical-align: middle;\n",
       "    }\n",
       "\n",
       "    .dataframe tbody tr th {\n",
       "        vertical-align: top;\n",
       "    }\n",
       "\n",
       "    .dataframe thead th {\n",
       "        text-align: right;\n",
       "    }\n",
       "</style>\n",
       "<table border=\"1\" class=\"dataframe\">\n",
       "  <thead>\n",
       "    <tr style=\"text-align: right;\">\n",
       "      <th></th>\n",
       "      <th>target</th>\n",
       "      <th>text</th>\n",
       "    </tr>\n",
       "  </thead>\n",
       "  <tbody>\n",
       "    <tr>\n",
       "      <th>3671</th>\n",
       "      <td>ham</td>\n",
       "      <td>came to look at the flat, seems ok, in his 50...</td>\n",
       "    </tr>\n",
       "    <tr>\n",
       "      <th>3536</th>\n",
       "      <td>ham</td>\n",
       "      <td>Mmmmm ... It was sooooo good to wake to your w...</td>\n",
       "    </tr>\n",
       "    <tr>\n",
       "      <th>2345</th>\n",
       "      <td>ham</td>\n",
       "      <td>Hi this is yijue, can i meet u at 11 tmr?</td>\n",
       "    </tr>\n",
       "    <tr>\n",
       "      <th>4718</th>\n",
       "      <td>ham</td>\n",
       "      <td>Aiyo... Her lesson so early... I'm still sleep...</td>\n",
       "    </tr>\n",
       "    <tr>\n",
       "      <th>5314</th>\n",
       "      <td>spam</td>\n",
       "      <td>Get the official ENGLAND poly ringtone or colo...</td>\n",
       "    </tr>\n",
       "    <tr>\n",
       "      <th>3111</th>\n",
       "      <td>ham</td>\n",
       "      <td>Just haven't decided where yet eh ?</td>\n",
       "    </tr>\n",
       "  </tbody>\n",
       "</table>\n",
       "</div>"
      ],
      "text/plain": [
       "     target                                               text\n",
       "3671    ham   came to look at the flat, seems ok, in his 50...\n",
       "3536    ham  Mmmmm ... It was sooooo good to wake to your w...\n",
       "2345    ham          Hi this is yijue, can i meet u at 11 tmr?\n",
       "4718    ham  Aiyo... Her lesson so early... I'm still sleep...\n",
       "5314   spam  Get the official ENGLAND poly ringtone or colo...\n",
       "3111    ham                Just haven't decided where yet eh ?"
      ]
     },
     "execution_count": 5,
     "metadata": {},
     "output_type": "execute_result"
    }
   ],
   "source": [
    "df = pd.read_csv(\"C:\\StrangerCodes\\Jupyter\\datasets\\spam.csv\",\\\n",
    "                 encoding='latin-1')\n",
    "df.drop(['Unnamed: 2', 'Unnamed: 3', 'Unnamed: 4'],axis=1,inplace=True)\n",
    "df.rename(columns={'v1':'target', 'v2':'text'}, inplace=True)\n",
    "df.sample(6)"
   ]
  },
  {
   "cell_type": "code",
   "execution_count": 6,
   "metadata": {},
   "outputs": [],
   "source": [
    "for i in range(len(df)):\n",
    "    df['text'][i] = preprocessing(df['text'][i])"
   ]
  },
  {
   "cell_type": "code",
   "execution_count": 7,
   "metadata": {},
   "outputs": [
    {
     "data": {
      "text/html": [
       "<div>\n",
       "<style scoped>\n",
       "    .dataframe tbody tr th:only-of-type {\n",
       "        vertical-align: middle;\n",
       "    }\n",
       "\n",
       "    .dataframe tbody tr th {\n",
       "        vertical-align: top;\n",
       "    }\n",
       "\n",
       "    .dataframe thead th {\n",
       "        text-align: right;\n",
       "    }\n",
       "</style>\n",
       "<table border=\"1\" class=\"dataframe\">\n",
       "  <thead>\n",
       "    <tr style=\"text-align: right;\">\n",
       "      <th></th>\n",
       "      <th>target</th>\n",
       "      <th>text</th>\n",
       "    </tr>\n",
       "  </thead>\n",
       "  <tbody>\n",
       "    <tr>\n",
       "      <th>0</th>\n",
       "      <td>ham</td>\n",
       "      <td>[go, jurong, point, crazy, available, bugis, n...</td>\n",
       "    </tr>\n",
       "    <tr>\n",
       "      <th>1</th>\n",
       "      <td>ham</td>\n",
       "      <td>[ok, lar, joking, wif, u, oni]</td>\n",
       "    </tr>\n",
       "    <tr>\n",
       "      <th>2</th>\n",
       "      <td>spam</td>\n",
       "      <td>[free, entry, 2, wkly, comp, win, fa, cup, fin...</td>\n",
       "    </tr>\n",
       "  </tbody>\n",
       "</table>\n",
       "</div>"
      ],
      "text/plain": [
       "  target                                               text\n",
       "0    ham  [go, jurong, point, crazy, available, bugis, n...\n",
       "1    ham                     [ok, lar, joking, wif, u, oni]\n",
       "2   spam  [free, entry, 2, wkly, comp, win, fa, cup, fin..."
      ]
     },
     "execution_count": 7,
     "metadata": {},
     "output_type": "execute_result"
    }
   ],
   "source": [
    "df[:3]"
   ]
  },
  {
   "cell_type": "code",
   "execution_count": 8,
   "metadata": {},
   "outputs": [],
   "source": [
    "x_train, x_test, y_train, y_test = train_test_split(df['text'], df['target'])"
   ]
  },
  {
   "cell_type": "code",
   "execution_count": 9,
   "metadata": {},
   "outputs": [],
   "source": [
    "p_spam = len(x_train[y_train=='spam'])/len(x_train)\n",
    "p_ham = len(x_train[y_train=='ham'])/len(x_train)"
   ]
  },
  {
   "cell_type": "code",
   "execution_count": 10,
   "metadata": {},
   "outputs": [],
   "source": [
    "n_spam = 0\n",
    "for i in x_train.index:\n",
    "  if(y_train[i] == 'spam'):\n",
    "    n_spam += len(x_train[i])\n",
    "n_ham = 0\n",
    "for i in x_train.index:\n",
    "  if(y_train[i] == 'ham'):\n",
    "    n_ham += len(x_train[i])\n",
    "n = int(n_ham/n_spam)\n",
    "ham_index = x_train[y_train=='ham'].index\n",
    "spam_index = x_train[y_train=='spam'].index\n",
    "p = {}\n",
    "q = {}\n",
    "for i in spam_index:\n",
    "  for j in x_train[i]:\n",
    "    try:\n",
    "      p[j] += 1\n",
    "    except:\n",
    "      p[j] = 1\n",
    "for i in ham_index:\n",
    "  for j in x_train[i]:\n",
    "    try:\n",
    "      q[j] += 1\n",
    "    except:\n",
    "      q[j] = 1\n",
    "p.update((key, value*n) for key, value in p.items())"
   ]
  },
  {
   "cell_type": "code",
   "execution_count": 11,
   "metadata": {},
   "outputs": [],
   "source": [
    "def check(sample):\n",
    "  # try:  #custom check\n",
    "  #   sample = sample.lower()\n",
    "  #   sample = sample.split()\n",
    "  # except:\n",
    "  #   sample\n",
    "  malt_spam = p_spam\n",
    "  malt_ham = p_ham\n",
    "  for i in range(len(sample)):\n",
    "    valp = p.get(sample[i], n)\n",
    "    valq = q.get(sample[i], 1)\n",
    "    malt_spam = malt_spam*valp\n",
    "    malt_ham = malt_ham*valq\n",
    "    if(malt_spam>1 or malt_ham>1):\n",
    "      malt_spam /= 10\n",
    "      malt_ham /= 10\n",
    "  if(malt_spam>malt_ham):\n",
    "    return 'spam', malt_spam, malt_ham\n",
    "  else:\n",
    "    return 'ham', malt_spam, malt_ham\n",
    "def predict(x_test):\n",
    "  y_pred = []\n",
    "  for x in x_test:\n",
    "    y_pred.append(check(x)[0])\n",
    "  return y_pred\n",
    "def accuracy(y_test, y_pred):\n",
    "  c = 0\n",
    "  y_test = y_test.reset_index()\n",
    "  y_test.drop(['index'], axis=1, inplace=True)\n",
    "  for i in range(len(y_pred)):\n",
    "    if(y_test['target'][i] == y_pred[i]):\n",
    "      c += 1\n",
    "  return c/len(y_test)"
   ]
  },
  {
   "cell_type": "code",
   "execution_count": 12,
   "metadata": {},
   "outputs": [
    {
     "data": {
      "text/plain": [
       "875     [shop, till, u, drop, either, 10k, 5k, å£500, ...\n",
       "1088    [awarded, sipix, digital, camera, call, 090612...\n",
       "2123    [123, congratulation, , week, competition, dra...\n",
       "1044    [know, someone, know, fancy, call, 09058097218...\n",
       "19      [england, v, macedonia, , dont, miss, goalstea...\n",
       "                              ...                        \n",
       "12      [urgent, 1, week, free, membership, å£100000, ...\n",
       "5102    [msg, mobile, content, order, resent, previous...\n",
       "2108    [free2day, sexy, st, george, day, pic, jordant...\n",
       "1422    [congratulation, ur, awarded, either, å£500, c...\n",
       "1021    [guess, somebody, know, secretly, fancy, wanna...\n",
       "Name: text, Length: 197, dtype: object"
      ]
     },
     "execution_count": 12,
     "metadata": {},
     "output_type": "execute_result"
    }
   ],
   "source": [
    "x_test[y_test=='spam']"
   ]
  },
  {
   "cell_type": "code",
   "execution_count": 13,
   "metadata": {},
   "outputs": [
    {
     "data": {
      "text/plain": [
       "('spam', 2577533.6851358684, 4.684058588178989e-10)"
      ]
     },
     "execution_count": 13,
     "metadata": {},
     "output_type": "execute_result"
    }
   ],
   "source": [
    "check(x_test[12])"
   ]
  },
  {
   "cell_type": "code",
   "execution_count": 14,
   "metadata": {},
   "outputs": [
    {
     "name": "stdout",
     "output_type": "stream",
     "text": [
      "accuracy is 95.047%\n"
     ]
    }
   ],
   "source": [
    "y_pred = predict(x_test)\n",
    "acc = accuracy(y_test, y_pred)*100\n",
    "print(f'accuracy is {acc:.3f}%')"
   ]
  },
  {
   "cell_type": "code",
   "execution_count": 15,
   "metadata": {},
   "outputs": [],
   "source": [
    "def TP(y_test, y_pred):\n",
    "  c = 0\n",
    "  y_test = y_test.reset_index()\n",
    "  y_test.drop(['index'], axis=1, inplace=True)\n",
    "  for i in range(len(y_pred)):\n",
    "    if(y_test['target'][i]=='ham' and y_pred[i]=='ham'):\n",
    "      c += 1\n",
    "  return c\n",
    "def TN(y_test, y_pred):\n",
    "  c = 0\n",
    "  y_test = y_test.reset_index()\n",
    "  y_test.drop(['index'], axis=1, inplace=True)\n",
    "  for i in range(len(y_pred)):\n",
    "    if(y_test['target'][i]=='spam' and y_pred[i]=='spam'):\n",
    "      c += 1\n",
    "  return c\n",
    "def FP(y_test, y_pred):\n",
    "  c = 0\n",
    "  y_test = y_test.reset_index()\n",
    "  y_test.drop(['index'], axis=1, inplace=True)\n",
    "  for i in range(len(y_pred)):\n",
    "    if(y_test['target'][i]=='spam' and y_pred[i]=='ham'):\n",
    "      c += 1\n",
    "  return c\n",
    "def FN(y_test, y_pred):\n",
    "  c = 0\n",
    "  y_test = y_test.reset_index()\n",
    "  y_test.drop(['index'], axis=1, inplace=True)\n",
    "  for i in range(len(y_pred)):\n",
    "    if(y_test['target'][i]=='ham' and y_pred[i]=='spam'):\n",
    "      c += 1\n",
    "  return c"
   ]
  },
  {
   "cell_type": "code",
   "execution_count": 16,
   "metadata": {},
   "outputs": [],
   "source": [
    "tp = TP(y_test, y_pred)\n",
    "fp = FP(y_test, y_pred)\n",
    "tn = TN(y_test, y_pred)\n",
    "fn = FN(y_test, y_pred)"
   ]
  },
  {
   "cell_type": "code",
   "execution_count": 17,
   "metadata": {},
   "outputs": [],
   "source": [
    "def metrics(tp, tn, fp, fn):\n",
    "  precision = tp/(tp+fp)\n",
    "  recall = tp/(tp+fn)\n",
    "  f1 = (2*precision*recall)/(precision+recall)\n",
    "  return precision*100, recall*100, f1*100"
   ]
  },
  {
   "cell_type": "code",
   "execution_count": 18,
   "metadata": {},
   "outputs": [
    {
     "name": "stdout",
     "output_type": "stream",
     "text": [
      "the precision is 99.300%\n",
      "the recall is    94.900%\n",
      "the f1-score is  97.050%\n"
     ]
    }
   ],
   "source": [
    "pc,r,f = metrics(tp, tn, fp, fn)\n",
    "print(f'the precision is {pc:.3f}%')\n",
    "print(f'the recall is    {r:.3f}%')\n",
    "print(f'the f1-score is  {f:.3f}%')"
   ]
  },
  {
   "cell_type": "markdown",
   "metadata": {},
   "source": [
    "Retraining the Model"
   ]
  },
  {
   "cell_type": "code",
   "execution_count": 19,
   "metadata": {},
   "outputs": [],
   "source": [
    "x = df['text']\n",
    "y = df['target']\n",
    "p_spam = len(x[y=='spam'])/len(x)\n",
    "p_ham = len(x[y=='ham'])/len(x)\n",
    "n_spam = 0\n",
    "for i in x.index:\n",
    "  if(y[i] == 'spam'):\n",
    "    n_spam += len(x[i])\n",
    "n_ham = 0\n",
    "for i in x_train.index:\n",
    "  if(y[i] == 'ham'):\n",
    "    n_ham += len(x[i])\n",
    "n = int(n_ham/n_spam)\n",
    "ham_index = x[y=='ham'].index\n",
    "spam_index = x[y=='spam'].index\n",
    "p = {}\n",
    "q = {}\n",
    "for i in spam_index:\n",
    "  for j in x[i]:\n",
    "    try:\n",
    "      p[j] += 1\n",
    "    except:\n",
    "      p[j] = 1\n",
    "for i in ham_index:\n",
    "  for j in x[i]:\n",
    "    try:\n",
    "      q[j] += 1\n",
    "    except:\n",
    "      q[j] = 1\n",
    "p.update((key, value*n) for key, value in p.items())"
   ]
  },
  {
   "cell_type": "code",
   "execution_count": 20,
   "metadata": {},
   "outputs": [],
   "source": [
    "txt = 'The lottery, a centuries-old tradition, symbolizes the tantalizing allure of fate. In the hearts of participants, it ignites dreams of prosperity and a life transformed. Yet, beneath this veneer of excitement lies a tapestry of controversy and ethical debate. At its essence, the lottery represents humanity\\'s eternal optimism. It thrives on the hope that a small investment could yield a life-altering windfall, offering a glimpse into a world free from financial constraints. In every draw, individuals hold their breath, imagining the possibilities that winning numbers might bring. However, this hope is not universal. Critics argue that lotteries exploit the vulnerable, enticing them with dreams while siphoning away precious resources. For those facing economic hardship, the temptation to invest in lottery tickets can lead to financial instability, exacerbating societal inequalities. Psychologically, the lottery\\'s grip on the human mind is profound. It triggers a unique blend of hope and desperation, driving people to spend beyond their means in pursuit of the elusive jackpot. This phenomenon, known as \"lottery fever,\" underscores the power of the lottery to blur the lines between rationality and desire. Ethically, lotteries raise complex questions. While they contribute substantially to public funds, critics question the morality of financing essential services through a game of chance. The tension between individual freedom and collective well-being forms the core of this debate, forcing society to weigh the consequences of indulging in this age-old pastime. In an increasingly digital world, lotteries have adapted, finding new avenues to entice participants. Online platforms have transformed the way people engage with the game, expanding its reach and influence. The debate surrounding its societal impact, however, remains as relevant as ever. In conclusion, the lottery embodies the duality of human nature: our dreams of a better life juxtaposed against the ethical quandaries of exploiting those dreams. Its enduring popularity underscores our collective fascination with fate and the delicate balance between personal ambition and social responsibility. As the debate rages on, the lottery stands as a poignant reminder of our shared hopes, vulnerabilities, and the complexities of chance that define the human experience.'"
   ]
  },
  {
   "cell_type": "code",
   "execution_count": 21,
   "metadata": {},
   "outputs": [
    {
     "data": {
      "text/plain": [
       "['The lottery, a centuries-old tradition, symbolizes the tantalizing allure of fate',\n",
       " 'In the hearts of participants, it ignites dreams of prosperity and a life transformed',\n",
       " 'Yet, beneath this veneer of excitement lies a tapestry of controversy and ethical debate',\n",
       " \"At its essence, the lottery represents humanity's eternal optimism\",\n",
       " 'It thrives on the hope that a small investment could yield a life-altering windfall, offering a glimpse into a world free from financial constraints',\n",
       " 'In every draw, individuals hold their breath, imagining the possibilities that winning numbers might bring',\n",
       " 'However, this hope is not universal',\n",
       " 'Critics argue that lotteries exploit the vulnerable, enticing them with dreams while siphoning away precious resources',\n",
       " 'For those facing economic hardship, the temptation to invest in lottery tickets can lead to financial instability, exacerbating societal inequalities',\n",
       " \"Psychologically, the lottery's grip on the human mind is profound\",\n",
       " 'It triggers a unique blend of hope and desperation, driving people to spend beyond their means in pursuit of the elusive jackpot',\n",
       " 'This phenomenon, known as \"lottery fever,\" underscores the power of the lottery to blur the lines between rationality and desire',\n",
       " 'Ethically, lotteries raise complex questions',\n",
       " 'While they contribute substantially to public funds, critics question the morality of financing essential services through a game of chance',\n",
       " 'The tension between individual freedom and collective well-being forms the core of this debate, forcing society to weigh the consequences of indulging in this age-old pastime',\n",
       " 'In an increasingly digital world, lotteries have adapted, finding new avenues to entice participants',\n",
       " 'Online platforms have transformed the way people engage with the game, expanding its reach and influence',\n",
       " 'The debate surrounding its societal impact, however, remains as relevant as ever',\n",
       " 'In conclusion, the lottery embodies the duality of human nature: our dreams of a better life juxtaposed against the ethical quandaries of exploiting those dreams',\n",
       " 'Its enduring popularity underscores our collective fascination with fate and the delicate balance between personal ambition and social responsibility']"
      ]
     },
     "execution_count": 21,
     "metadata": {},
     "output_type": "execute_result"
    }
   ],
   "source": [
    "txt = txt.split('. ')[:len(txt.split('. '))-1]\n",
    "txt"
   ]
  },
  {
   "cell_type": "code",
   "execution_count": 22,
   "metadata": {},
   "outputs": [
    {
     "data": {
      "text/plain": [
       "[['lottery',\n",
       "  'centuriesold',\n",
       "  'tradition',\n",
       "  'symbolizes',\n",
       "  'tantalizing',\n",
       "  'allure',\n",
       "  'fate'],\n",
       " ['heart',\n",
       "  'participant',\n",
       "  'ignites',\n",
       "  'dream',\n",
       "  'prosperity',\n",
       "  'life',\n",
       "  'transformed']]"
      ]
     },
     "execution_count": 22,
     "metadata": {},
     "output_type": "execute_result"
    }
   ],
   "source": [
    "txtt = []\n",
    "for i in range(len(txt)):\n",
    "    txtt.append(preprocessing(txt[i]))\n",
    "txtt[:2]"
   ]
  },
  {
   "cell_type": "code",
   "execution_count": 23,
   "metadata": {},
   "outputs": [],
   "source": [
    "def spamcheck(txtt):\n",
    "    p = 0\n",
    "    q = 0\n",
    "    pdict = {}\n",
    "    qdict = {}\n",
    "    for i in range(len(txtt)):\n",
    "        c,a,b = check(txtt[i])\n",
    "        if c == 'spam':\n",
    "            p+=a\n",
    "            pdict[i] = a\n",
    "        else:\n",
    "            q+=b\n",
    "            qdict[i] = b\n",
    "    pdict = dict(sorted(pdict.items(), key = lambda x:x[1], reverse=True))\n",
    "    qdict = dict(sorted(qdict.items(), key = lambda x:x[1], reverse=True))\n",
    "    if (p>q):\n",
    "        return 'spammy', pdict, qdict\n",
    "    elif (p<q):\n",
    "        return 'hammy', pdict, qdict\n",
    "    else:\n",
    "        return '(:'"
   ]
  },
  {
   "cell_type": "code",
   "execution_count": 24,
   "metadata": {},
   "outputs": [],
   "source": [
    "res, pdict, qdict = spamcheck(txtt)"
   ]
  },
  {
   "cell_type": "code",
   "execution_count": 25,
   "metadata": {},
   "outputs": [
    {
     "name": "stdout",
     "output_type": "stream",
     "text": [
      "The text is spammy\n"
     ]
    }
   ],
   "source": [
    "print('The text is', res)"
   ]
  },
  {
   "cell_type": "code",
   "execution_count": 26,
   "metadata": {},
   "outputs": [
    {
     "name": "stdout",
     "output_type": "stream",
     "text": [
      "the top 3 spammy sentences are:\n",
      "While they contribute substantially to public funds, critics question the morality of financing essential services through a game of chance\n",
      "At its essence, the lottery represents humanity's eternal optimism\n",
      "The tension between individual freedom and collective well-being forms the core of this debate, forcing society to weigh the consequences of indulging in this age-old pastime\n"
     ]
    }
   ],
   "source": [
    "print('the top 3 spammy sentences are:')\n",
    "for i in list(pdict.keys())[:3]:\n",
    "    print(txt[i])"
   ]
  },
  {
   "cell_type": "code",
   "execution_count": 27,
   "metadata": {},
   "outputs": [
    {
     "name": "stdout",
     "output_type": "stream",
     "text": [
      "the top three hammy sentences are:\n",
      "In every draw, individuals hold their breath, imagining the possibilities that winning numbers might bring\n",
      "In conclusion, the lottery embodies the duality of human nature: our dreams of a better life juxtaposed against the ethical quandaries of exploiting those dreams\n",
      "Ethically, lotteries raise complex questions\n"
     ]
    }
   ],
   "source": [
    "print('the top three hammy sentences are:')\n",
    "for i in list(qdict.keys())[:3]:\n",
    "    print(txt[i])"
   ]
  }
 ],
 "metadata": {
  "kernelspec": {
   "display_name": "Python 3",
   "language": "python",
   "name": "python3"
  },
  "language_info": {
   "codemirror_mode": {
    "name": "ipython",
    "version": 3
   },
   "file_extension": ".py",
   "mimetype": "text/x-python",
   "name": "python",
   "nbconvert_exporter": "python",
   "pygments_lexer": "ipython3",
   "version": "3.11.5"
  },
  "orig_nbformat": 4
 },
 "nbformat": 4,
 "nbformat_minor": 2
}
