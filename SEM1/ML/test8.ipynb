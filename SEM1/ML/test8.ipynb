{
  "nbformat": 4,
  "nbformat_minor": 0,
  "metadata": {
    "colab": {
      "provenance": [],
      "mount_file_id": "1r7dSTPqESglzLU0CT36_zWoLHZS4Qcy_",
      "authorship_tag": "ABX9TyN2CtvljbXF0mPCfAnQVA4u",
      "include_colab_link": true
    },
    "kernelspec": {
      "name": "python3",
      "display_name": "Python 3"
    },
    "language_info": {
      "name": "python"
    }
  },
  "cells": [
    {
      "cell_type": "markdown",
      "metadata": {
        "id": "view-in-github",
        "colab_type": "text"
      },
      "source": [
        "<a href=\"https://colab.research.google.com/github/Shiladitya56/Machine-Learning/blob/main/test8.ipynb\" target=\"_parent\"><img src=\"https://colab.research.google.com/assets/colab-badge.svg\" alt=\"Open In Colab\"/></a>"
      ]
    },
    {
      "cell_type": "code",
      "execution_count": 743,
      "metadata": {
        "id": "On8nEXxrpIvW"
      },
      "outputs": [],
      "source": [
        "import numpy as np\n",
        "import pandas as pd\n",
        "import re\n",
        "import nltk\n",
        "import seaborn as sb\n",
        "import matplotlib.pyplot as pt\n",
        "from nltk.corpus import stopwords\n",
        "from nltk.stem.porter import PorterStemmer\n",
        "from nltk.stem import WordNetLemmatizer\n",
        "from sklearn.feature_extraction.text import TfidfVectorizer\n",
        "from sklearn.preprocessing import LabelEncoder\n",
        "from sklearn.model_selection import train_test_split"
      ]
    },
    {
      "cell_type": "code",
      "source": [
        "nltk.download('stopwords')\n",
        "nltk.download('wordnet')\n",
        "nltk.download('punkt')"
      ],
      "metadata": {
        "id": "F6qXzJKVF0Ds",
        "colab": {
          "base_uri": "https://localhost:8080/"
        },
        "outputId": "e77540be-9c7c-4c6f-9ff7-d600b054b4be"
      },
      "execution_count": 744,
      "outputs": [
        {
          "output_type": "stream",
          "name": "stderr",
          "text": [
            "[nltk_data] Downloading package stopwords to /root/nltk_data...\n",
            "[nltk_data]   Package stopwords is already up-to-date!\n",
            "[nltk_data] Downloading package wordnet to /root/nltk_data...\n",
            "[nltk_data]   Package wordnet is already up-to-date!\n",
            "[nltk_data] Downloading package punkt to /root/nltk_data...\n",
            "[nltk_data]   Package punkt is already up-to-date!\n"
          ]
        },
        {
          "output_type": "execute_result",
          "data": {
            "text/plain": [
              "True"
            ]
          },
          "metadata": {},
          "execution_count": 744
        }
      ]
    },
    {
      "cell_type": "code",
      "source": [
        "df = pd.read_csv(\"/content/drive/MyDrive/ipynb/datasets/spam.csv\",\\\n",
        "                 encoding='latin-1')\n",
        "df.drop(['Unnamed: 2', 'Unnamed: 3', 'Unnamed: 4'],axis=1,inplace=True)\n",
        "df.rename(columns={'v1':'target', 'v2':'text'}, inplace=True)\n",
        "df.sample(6)"
      ],
      "metadata": {
        "id": "bqRmZRwcF0z9",
        "colab": {
          "base_uri": "https://localhost:8080/",
          "height": 237
        },
        "outputId": "350f8974-b8ae-404e-f6ed-9970f674362e"
      },
      "execution_count": 745,
      "outputs": [
        {
          "output_type": "execute_result",
          "data": {
            "text/plain": [
              "     target                                               text\n",
              "3862   spam  Oh my god! I've found your number again! I'm s...\n",
              "720     ham                      Oh is it? Send me the address\n",
              "1800    ham  excellent. I spent  &lt;#&gt;  years in the Ai...\n",
              "4382    ham  No need lar i go engin? Cos my sis at arts tod...\n",
              "2087    ham                                      \\alright babe\n",
              "5207    ham  Babe, I'm answering you, can't you see me ? Ma..."
            ],
            "text/html": [
              "\n",
              "  <div id=\"df-76ec13ab-c644-458e-9a50-c4acd5cb5757\" class=\"colab-df-container\">\n",
              "    <div>\n",
              "<style scoped>\n",
              "    .dataframe tbody tr th:only-of-type {\n",
              "        vertical-align: middle;\n",
              "    }\n",
              "\n",
              "    .dataframe tbody tr th {\n",
              "        vertical-align: top;\n",
              "    }\n",
              "\n",
              "    .dataframe thead th {\n",
              "        text-align: right;\n",
              "    }\n",
              "</style>\n",
              "<table border=\"1\" class=\"dataframe\">\n",
              "  <thead>\n",
              "    <tr style=\"text-align: right;\">\n",
              "      <th></th>\n",
              "      <th>target</th>\n",
              "      <th>text</th>\n",
              "    </tr>\n",
              "  </thead>\n",
              "  <tbody>\n",
              "    <tr>\n",
              "      <th>3862</th>\n",
              "      <td>spam</td>\n",
              "      <td>Oh my god! I've found your number again! I'm s...</td>\n",
              "    </tr>\n",
              "    <tr>\n",
              "      <th>720</th>\n",
              "      <td>ham</td>\n",
              "      <td>Oh is it? Send me the address</td>\n",
              "    </tr>\n",
              "    <tr>\n",
              "      <th>1800</th>\n",
              "      <td>ham</td>\n",
              "      <td>excellent. I spent  &amp;lt;#&amp;gt;  years in the Ai...</td>\n",
              "    </tr>\n",
              "    <tr>\n",
              "      <th>4382</th>\n",
              "      <td>ham</td>\n",
              "      <td>No need lar i go engin? Cos my sis at arts tod...</td>\n",
              "    </tr>\n",
              "    <tr>\n",
              "      <th>2087</th>\n",
              "      <td>ham</td>\n",
              "      <td>\\alright babe</td>\n",
              "    </tr>\n",
              "    <tr>\n",
              "      <th>5207</th>\n",
              "      <td>ham</td>\n",
              "      <td>Babe, I'm answering you, can't you see me ? Ma...</td>\n",
              "    </tr>\n",
              "  </tbody>\n",
              "</table>\n",
              "</div>\n",
              "    <div class=\"colab-df-buttons\">\n",
              "\n",
              "  <div class=\"colab-df-container\">\n",
              "    <button class=\"colab-df-convert\" onclick=\"convertToInteractive('df-76ec13ab-c644-458e-9a50-c4acd5cb5757')\"\n",
              "            title=\"Convert this dataframe to an interactive table.\"\n",
              "            style=\"display:none;\">\n",
              "\n",
              "  <svg xmlns=\"http://www.w3.org/2000/svg\" height=\"24px\" viewBox=\"0 -960 960 960\">\n",
              "    <path d=\"M120-120v-720h720v720H120Zm60-500h600v-160H180v160Zm220 220h160v-160H400v160Zm0 220h160v-160H400v160ZM180-400h160v-160H180v160Zm440 0h160v-160H620v160ZM180-180h160v-160H180v160Zm440 0h160v-160H620v160Z\"/>\n",
              "  </svg>\n",
              "    </button>\n",
              "\n",
              "  <style>\n",
              "    .colab-df-container {\n",
              "      display:flex;\n",
              "      gap: 12px;\n",
              "    }\n",
              "\n",
              "    .colab-df-convert {\n",
              "      background-color: #E8F0FE;\n",
              "      border: none;\n",
              "      border-radius: 50%;\n",
              "      cursor: pointer;\n",
              "      display: none;\n",
              "      fill: #1967D2;\n",
              "      height: 32px;\n",
              "      padding: 0 0 0 0;\n",
              "      width: 32px;\n",
              "    }\n",
              "\n",
              "    .colab-df-convert:hover {\n",
              "      background-color: #E2EBFA;\n",
              "      box-shadow: 0px 1px 2px rgba(60, 64, 67, 0.3), 0px 1px 3px 1px rgba(60, 64, 67, 0.15);\n",
              "      fill: #174EA6;\n",
              "    }\n",
              "\n",
              "    .colab-df-buttons div {\n",
              "      margin-bottom: 4px;\n",
              "    }\n",
              "\n",
              "    [theme=dark] .colab-df-convert {\n",
              "      background-color: #3B4455;\n",
              "      fill: #D2E3FC;\n",
              "    }\n",
              "\n",
              "    [theme=dark] .colab-df-convert:hover {\n",
              "      background-color: #434B5C;\n",
              "      box-shadow: 0px 1px 3px 1px rgba(0, 0, 0, 0.15);\n",
              "      filter: drop-shadow(0px 1px 2px rgba(0, 0, 0, 0.3));\n",
              "      fill: #FFFFFF;\n",
              "    }\n",
              "  </style>\n",
              "\n",
              "    <script>\n",
              "      const buttonEl =\n",
              "        document.querySelector('#df-76ec13ab-c644-458e-9a50-c4acd5cb5757 button.colab-df-convert');\n",
              "      buttonEl.style.display =\n",
              "        google.colab.kernel.accessAllowed ? 'block' : 'none';\n",
              "\n",
              "      async function convertToInteractive(key) {\n",
              "        const element = document.querySelector('#df-76ec13ab-c644-458e-9a50-c4acd5cb5757');\n",
              "        const dataTable =\n",
              "          await google.colab.kernel.invokeFunction('convertToInteractive',\n",
              "                                                    [key], {});\n",
              "        if (!dataTable) return;\n",
              "\n",
              "        const docLinkHtml = 'Like what you see? Visit the ' +\n",
              "          '<a target=\"_blank\" href=https://colab.research.google.com/notebooks/data_table.ipynb>data table notebook</a>'\n",
              "          + ' to learn more about interactive tables.';\n",
              "        element.innerHTML = '';\n",
              "        dataTable['output_type'] = 'display_data';\n",
              "        await google.colab.output.renderOutput(dataTable, element);\n",
              "        const docLink = document.createElement('div');\n",
              "        docLink.innerHTML = docLinkHtml;\n",
              "        element.appendChild(docLink);\n",
              "      }\n",
              "    </script>\n",
              "  </div>\n",
              "\n",
              "\n",
              "<div id=\"df-23f3a0f6-76b6-4963-88a7-8b40cd4ffddc\">\n",
              "  <button class=\"colab-df-quickchart\" onclick=\"quickchart('df-23f3a0f6-76b6-4963-88a7-8b40cd4ffddc')\"\n",
              "            title=\"Suggest charts.\"\n",
              "            style=\"display:none;\">\n",
              "\n",
              "<svg xmlns=\"http://www.w3.org/2000/svg\" height=\"24px\"viewBox=\"0 0 24 24\"\n",
              "     width=\"24px\">\n",
              "    <g>\n",
              "        <path d=\"M19 3H5c-1.1 0-2 .9-2 2v14c0 1.1.9 2 2 2h14c1.1 0 2-.9 2-2V5c0-1.1-.9-2-2-2zM9 17H7v-7h2v7zm4 0h-2V7h2v10zm4 0h-2v-4h2v4z\"/>\n",
              "    </g>\n",
              "</svg>\n",
              "  </button>\n",
              "\n",
              "<style>\n",
              "  .colab-df-quickchart {\n",
              "      --bg-color: #E8F0FE;\n",
              "      --fill-color: #1967D2;\n",
              "      --hover-bg-color: #E2EBFA;\n",
              "      --hover-fill-color: #174EA6;\n",
              "      --disabled-fill-color: #AAA;\n",
              "      --disabled-bg-color: #DDD;\n",
              "  }\n",
              "\n",
              "  [theme=dark] .colab-df-quickchart {\n",
              "      --bg-color: #3B4455;\n",
              "      --fill-color: #D2E3FC;\n",
              "      --hover-bg-color: #434B5C;\n",
              "      --hover-fill-color: #FFFFFF;\n",
              "      --disabled-bg-color: #3B4455;\n",
              "      --disabled-fill-color: #666;\n",
              "  }\n",
              "\n",
              "  .colab-df-quickchart {\n",
              "    background-color: var(--bg-color);\n",
              "    border: none;\n",
              "    border-radius: 50%;\n",
              "    cursor: pointer;\n",
              "    display: none;\n",
              "    fill: var(--fill-color);\n",
              "    height: 32px;\n",
              "    padding: 0;\n",
              "    width: 32px;\n",
              "  }\n",
              "\n",
              "  .colab-df-quickchart:hover {\n",
              "    background-color: var(--hover-bg-color);\n",
              "    box-shadow: 0 1px 2px rgba(60, 64, 67, 0.3), 0 1px 3px 1px rgba(60, 64, 67, 0.15);\n",
              "    fill: var(--button-hover-fill-color);\n",
              "  }\n",
              "\n",
              "  .colab-df-quickchart-complete:disabled,\n",
              "  .colab-df-quickchart-complete:disabled:hover {\n",
              "    background-color: var(--disabled-bg-color);\n",
              "    fill: var(--disabled-fill-color);\n",
              "    box-shadow: none;\n",
              "  }\n",
              "\n",
              "  .colab-df-spinner {\n",
              "    border: 2px solid var(--fill-color);\n",
              "    border-color: transparent;\n",
              "    border-bottom-color: var(--fill-color);\n",
              "    animation:\n",
              "      spin 1s steps(1) infinite;\n",
              "  }\n",
              "\n",
              "  @keyframes spin {\n",
              "    0% {\n",
              "      border-color: transparent;\n",
              "      border-bottom-color: var(--fill-color);\n",
              "      border-left-color: var(--fill-color);\n",
              "    }\n",
              "    20% {\n",
              "      border-color: transparent;\n",
              "      border-left-color: var(--fill-color);\n",
              "      border-top-color: var(--fill-color);\n",
              "    }\n",
              "    30% {\n",
              "      border-color: transparent;\n",
              "      border-left-color: var(--fill-color);\n",
              "      border-top-color: var(--fill-color);\n",
              "      border-right-color: var(--fill-color);\n",
              "    }\n",
              "    40% {\n",
              "      border-color: transparent;\n",
              "      border-right-color: var(--fill-color);\n",
              "      border-top-color: var(--fill-color);\n",
              "    }\n",
              "    60% {\n",
              "      border-color: transparent;\n",
              "      border-right-color: var(--fill-color);\n",
              "    }\n",
              "    80% {\n",
              "      border-color: transparent;\n",
              "      border-right-color: var(--fill-color);\n",
              "      border-bottom-color: var(--fill-color);\n",
              "    }\n",
              "    90% {\n",
              "      border-color: transparent;\n",
              "      border-bottom-color: var(--fill-color);\n",
              "    }\n",
              "  }\n",
              "</style>\n",
              "\n",
              "  <script>\n",
              "    async function quickchart(key) {\n",
              "      const quickchartButtonEl =\n",
              "        document.querySelector('#' + key + ' button');\n",
              "      quickchartButtonEl.disabled = true;  // To prevent multiple clicks.\n",
              "      quickchartButtonEl.classList.add('colab-df-spinner');\n",
              "      try {\n",
              "        const charts = await google.colab.kernel.invokeFunction(\n",
              "            'suggestCharts', [key], {});\n",
              "      } catch (error) {\n",
              "        console.error('Error during call to suggestCharts:', error);\n",
              "      }\n",
              "      quickchartButtonEl.classList.remove('colab-df-spinner');\n",
              "      quickchartButtonEl.classList.add('colab-df-quickchart-complete');\n",
              "    }\n",
              "    (() => {\n",
              "      let quickchartButtonEl =\n",
              "        document.querySelector('#df-23f3a0f6-76b6-4963-88a7-8b40cd4ffddc button');\n",
              "      quickchartButtonEl.style.display =\n",
              "        google.colab.kernel.accessAllowed ? 'block' : 'none';\n",
              "    })();\n",
              "  </script>\n",
              "</div>\n",
              "    </div>\n",
              "  </div>\n"
            ]
          },
          "metadata": {},
          "execution_count": 745
        }
      ]
    },
    {
      "cell_type": "code",
      "source": [
        "df.iloc[3585][1]"
      ],
      "metadata": {
        "id": "EgY3eBsiF3v6",
        "colab": {
          "base_uri": "https://localhost:8080/",
          "height": 52
        },
        "outputId": "755908b6-d107-4e30-dfa5-e7a3c0a82549"
      },
      "execution_count": 746,
      "outputs": [
        {
          "output_type": "execute_result",
          "data": {
            "text/plain": [
              "'I am hot n horny and willing I live local to you - text a reply to hear strt back from me 150p per msg Netcollex LtdHelpDesk: 02085076972 reply Stop to end'"
            ],
            "application/vnd.google.colaboratory.intrinsic+json": {
              "type": "string"
            }
          },
          "metadata": {},
          "execution_count": 746
        }
      ]
    },
    {
      "cell_type": "code",
      "source": [
        "df['target'].value_counts()"
      ],
      "metadata": {
        "id": "SjVlf5wVF6sf",
        "colab": {
          "base_uri": "https://localhost:8080/"
        },
        "outputId": "eefe58ee-c27c-4363-dfd3-8e0007b46577"
      },
      "execution_count": 747,
      "outputs": [
        {
          "output_type": "execute_result",
          "data": {
            "text/plain": [
              "ham     4825\n",
              "spam     747\n",
              "Name: target, dtype: int64"
            ]
          },
          "metadata": {},
          "execution_count": 747
        }
      ]
    },
    {
      "cell_type": "code",
      "source": [
        "pt.bar(['ham', 'spam'], df['target'].value_counts(), color='orchid',\\\n",
        "       hatch='x', alpha=0.06)\n",
        "pt.tight_layout();"
      ],
      "metadata": {
        "id": "qDmN7qe_GAe0",
        "colab": {
          "base_uri": "https://localhost:8080/",
          "height": 486
        },
        "outputId": "023347e9-1e81-4ae1-d4cd-13a4d6552a76"
      },
      "execution_count": 748,
      "outputs": [
        {
          "output_type": "display_data",
          "data": {
            "text/plain": [
              "<Figure size 640x480 with 1 Axes>"
            ],
            "image/png": "[encoded data removed]"
          },
          "metadata": {}
        }
      ]
    },
    {
      "cell_type": "code",
      "source": [
        "def clean(text):\n",
        "  sms = re.sub('[^a-zA-Z]', ' ', text) #Replacing all non-alphabetic characters with a space\n",
        "  sms = sms.lower() #converting to lowecase\n",
        "  sms = sms.split()\n",
        "  sms = ' '.join(sms)\n",
        "  return sms"
      ],
      "metadata": {
        "id": "Ps3Ka_S_GCOO"
      },
      "execution_count": 749,
      "outputs": []
    },
    {
      "cell_type": "code",
      "source": [
        "df['text'] = df['text'].apply(clean)"
      ],
      "metadata": {
        "id": "bc29ivJ-GHK7"
      },
      "execution_count": 750,
      "outputs": []
    },
    {
      "cell_type": "code",
      "source": [
        "df['text'].sample(6)"
      ],
      "metadata": {
        "id": "cajlBUsgGJ7T",
        "colab": {
          "base_uri": "https://localhost:8080/"
        },
        "outputId": "185a5d07-20bc-4610-8ab8-9fd7cc6e637a"
      },
      "execution_count": 751,
      "outputs": [
        {
          "output_type": "execute_result",
          "data": {
            "text/plain": [
              "4050    motivate behind every darkness there is a shin...\n",
              "3804    dude while were makin those weirdy brownies my...\n",
              "3699                    oh i asked for fun haha take care\n",
              "1261    thank you so much when we skyped wit kz and su...\n",
              "510     at the latest g s still there if you can scrou...\n",
              "1909                        then u going ikea str aft dat\n",
              "Name: text, dtype: object"
            ]
          },
          "metadata": {},
          "execution_count": 751
        }
      ]
    },
    {
      "cell_type": "code",
      "source": [
        "df[\"text\"]=df.apply(lambda row: nltk.word_tokenize(row[\"text\"]), axis=1)"
      ],
      "metadata": {
        "id": "ycaHNv6AGL7o"
      },
      "execution_count": 752,
      "outputs": []
    },
    {
      "cell_type": "code",
      "source": [
        "def remove_stopwords(text):\n",
        "  stop_words = set(stopwords.words(\"english\"))\n",
        "  filtered_text = [word for word in text if word not in stop_words]\n",
        "  return filtered_text"
      ],
      "metadata": {
        "id": "J90dGmM7GObt"
      },
      "execution_count": 753,
      "outputs": []
    },
    {
      "cell_type": "code",
      "source": [
        "df['text'] = df['text'].apply(remove_stopwords)"
      ],
      "metadata": {
        "id": "Rqh-9Sn_GQrJ"
      },
      "execution_count": 754,
      "outputs": []
    },
    {
      "cell_type": "code",
      "source": [
        "lemmatizer = WordNetLemmatizer()\n",
        "def lemmatize_word(text):\n",
        "  lemmas = [lemmatizer.lemmatize(word, pos ='v') for word in text]\n",
        "  return lemmas\n",
        "df[\"text\"] = df[\"text\"].apply(lemmatize_word)"
      ],
      "metadata": {
        "id": "2cpW8y5_GTRq"
      },
      "execution_count": 755,
      "outputs": []
    },
    {
      "cell_type": "code",
      "source": [
        "df"
      ],
      "metadata": {
        "id": "Mp6MGapPGV76",
        "colab": {
          "base_uri": "https://localhost:8080/",
          "height": 423
        },
        "outputId": "df54137a-61c7-45de-b68b-f6226f694014"
      },
      "execution_count": 756,
      "outputs": [
        {
          "output_type": "execute_result",
          "data": {
            "text/plain": [
              "     target                                               text\n",
              "0       ham  [go, jurong, point, crazy, available, bugis, n...\n",
              "1       ham                       [ok, lar, joke, wif, u, oni]\n",
              "2      spam  [free, entry, wkly, comp, win, fa, cup, final,...\n",
              "3       ham      [u, dun, say, early, hor, u, c, already, say]\n",
              "4       ham        [nah, think, go, usf, live, around, though]\n",
              "...     ...                                                ...\n",
              "5567   spam  [nd, time, try, contact, u, u, pound, prize, c...\n",
              "5568    ham                       [b, go, esplanade, fr, home]\n",
              "5569    ham                          [pity, mood, suggestions]\n",
              "5570    ham  [guy, bitch, act, like, interest, buy, somethi...\n",
              "5571    ham                                 [rofl, true, name]\n",
              "\n",
              "[5572 rows x 2 columns]"
            ],
            "text/html": [
              "\n",
              "  <div id=\"df-95c14a5f-7ae7-4b0d-86d6-87bc38b6d5b7\" class=\"colab-df-container\">\n",
              "    <div>\n",
              "<style scoped>\n",
              "    .dataframe tbody tr th:only-of-type {\n",
              "        vertical-align: middle;\n",
              "    }\n",
              "\n",
              "    .dataframe tbody tr th {\n",
              "        vertical-align: top;\n",
              "    }\n",
              "\n",
              "    .dataframe thead th {\n",
              "        text-align: right;\n",
              "    }\n",
              "</style>\n",
              "<table border=\"1\" class=\"dataframe\">\n",
              "  <thead>\n",
              "    <tr style=\"text-align: right;\">\n",
              "      <th></th>\n",
              "      <th>target</th>\n",
              "      <th>text</th>\n",
              "    </tr>\n",
              "  </thead>\n",
              "  <tbody>\n",
              "    <tr>\n",
              "      <th>0</th>\n",
              "      <td>ham</td>\n",
              "      <td>[go, jurong, point, crazy, available, bugis, n...</td>\n",
              "    </tr>\n",
              "    <tr>\n",
              "      <th>1</th>\n",
              "      <td>ham</td>\n",
              "      <td>[ok, lar, joke, wif, u, oni]</td>\n",
              "    </tr>\n",
              "    <tr>\n",
              "      <th>2</th>\n",
              "      <td>spam</td>\n",
              "      <td>[free, entry, wkly, comp, win, fa, cup, final,...</td>\n",
              "    </tr>\n",
              "    <tr>\n",
              "      <th>3</th>\n",
              "      <td>ham</td>\n",
              "      <td>[u, dun, say, early, hor, u, c, already, say]</td>\n",
              "    </tr>\n",
              "    <tr>\n",
              "      <th>4</th>\n",
              "      <td>ham</td>\n",
              "      <td>[nah, think, go, usf, live, around, though]</td>\n",
              "    </tr>\n",
              "    <tr>\n",
              "      <th>...</th>\n",
              "      <td>...</td>\n",
              "      <td>...</td>\n",
              "    </tr>\n",
              "    <tr>\n",
              "      <th>5567</th>\n",
              "      <td>spam</td>\n",
              "      <td>[nd, time, try, contact, u, u, pound, prize, c...</td>\n",
              "    </tr>\n",
              "    <tr>\n",
              "      <th>5568</th>\n",
              "      <td>ham</td>\n",
              "      <td>[b, go, esplanade, fr, home]</td>\n",
              "    </tr>\n",
              "    <tr>\n",
              "      <th>5569</th>\n",
              "      <td>ham</td>\n",
              "      <td>[pity, mood, suggestions]</td>\n",
              "    </tr>\n",
              "    <tr>\n",
              "      <th>5570</th>\n",
              "      <td>ham</td>\n",
              "      <td>[guy, bitch, act, like, interest, buy, somethi...</td>\n",
              "    </tr>\n",
              "    <tr>\n",
              "      <th>5571</th>\n",
              "      <td>ham</td>\n",
              "      <td>[rofl, true, name]</td>\n",
              "    </tr>\n",
              "  </tbody>\n",
              "</table>\n",
              "<p>5572 rows × 2 columns</p>\n",
              "</div>\n",
              "    <div class=\"colab-df-buttons\">\n",
              "\n",
              "  <div class=\"colab-df-container\">\n",
              "    <button class=\"colab-df-convert\" onclick=\"convertToInteractive('df-95c14a5f-7ae7-4b0d-86d6-87bc38b6d5b7')\"\n",
              "            title=\"Convert this dataframe to an interactive table.\"\n",
              "            style=\"display:none;\">\n",
              "\n",
              "  <svg xmlns=\"http://www.w3.org/2000/svg\" height=\"24px\" viewBox=\"0 -960 960 960\">\n",
              "    <path d=\"M120-120v-720h720v720H120Zm60-500h600v-160H180v160Zm220 220h160v-160H400v160Zm0 220h160v-160H400v160ZM180-400h160v-160H180v160Zm440 0h160v-160H620v160ZM180-180h160v-160H180v160Zm440 0h160v-160H620v160Z\"/>\n",
              "  </svg>\n",
              "    </button>\n",
              "\n",
              "  <style>\n",
              "    .colab-df-container {\n",
              "      display:flex;\n",
              "      gap: 12px;\n",
              "    }\n",
              "\n",
              "    .colab-df-convert {\n",
              "      background-color: #E8F0FE;\n",
              "      border: none;\n",
              "      border-radius: 50%;\n",
              "      cursor: pointer;\n",
              "      display: none;\n",
              "      fill: #1967D2;\n",
              "      height: 32px;\n",
              "      padding: 0 0 0 0;\n",
              "      width: 32px;\n",
              "    }\n",
              "\n",
              "    .colab-df-convert:hover {\n",
              "      background-color: #E2EBFA;\n",
              "      box-shadow: 0px 1px 2px rgba(60, 64, 67, 0.3), 0px 1px 3px 1px rgba(60, 64, 67, 0.15);\n",
              "      fill: #174EA6;\n",
              "    }\n",
              "\n",
              "    .colab-df-buttons div {\n",
              "      margin-bottom: 4px;\n",
              "    }\n",
              "\n",
              "    [theme=dark] .colab-df-convert {\n",
              "      background-color: #3B4455;\n",
              "      fill: #D2E3FC;\n",
              "    }\n",
              "\n",
              "    [theme=dark] .colab-df-convert:hover {\n",
              "      background-color: #434B5C;\n",
              "      box-shadow: 0px 1px 3px 1px rgba(0, 0, 0, 0.15);\n",
              "      filter: drop-shadow(0px 1px 2px rgba(0, 0, 0, 0.3));\n",
              "      fill: #FFFFFF;\n",
              "    }\n",
              "  </style>\n",
              "\n",
              "    <script>\n",
              "      const buttonEl =\n",
              "        document.querySelector('#df-95c14a5f-7ae7-4b0d-86d6-87bc38b6d5b7 button.colab-df-convert');\n",
              "      buttonEl.style.display =\n",
              "        google.colab.kernel.accessAllowed ? 'block' : 'none';\n",
              "\n",
              "      async function convertToInteractive(key) {\n",
              "        const element = document.querySelector('#df-95c14a5f-7ae7-4b0d-86d6-87bc38b6d5b7');\n",
              "        const dataTable =\n",
              "          await google.colab.kernel.invokeFunction('convertToInteractive',\n",
              "                                                    [key], {});\n",
              "        if (!dataTable) return;\n",
              "\n",
              "        const docLinkHtml = 'Like what you see? Visit the ' +\n",
              "          '<a target=\"_blank\" href=https://colab.research.google.com/notebooks/data_table.ipynb>data table notebook</a>'\n",
              "          + ' to learn more about interactive tables.';\n",
              "        element.innerHTML = '';\n",
              "        dataTable['output_type'] = 'display_data';\n",
              "        await google.colab.output.renderOutput(dataTable, element);\n",
              "        const docLink = document.createElement('div');\n",
              "        docLink.innerHTML = docLinkHtml;\n",
              "        element.appendChild(docLink);\n",
              "      }\n",
              "    </script>\n",
              "  </div>\n",
              "\n",
              "\n",
              "<div id=\"df-6724535e-8bb9-4e08-b96e-b7891846ba58\">\n",
              "  <button class=\"colab-df-quickchart\" onclick=\"quickchart('df-6724535e-8bb9-4e08-b96e-b7891846ba58')\"\n",
              "            title=\"Suggest charts.\"\n",
              "            style=\"display:none;\">\n",
              "\n",
              "<svg xmlns=\"http://www.w3.org/2000/svg\" height=\"24px\"viewBox=\"0 0 24 24\"\n",
              "     width=\"24px\">\n",
              "    <g>\n",
              "        <path d=\"M19 3H5c-1.1 0-2 .9-2 2v14c0 1.1.9 2 2 2h14c1.1 0 2-.9 2-2V5c0-1.1-.9-2-2-2zM9 17H7v-7h2v7zm4 0h-2V7h2v10zm4 0h-2v-4h2v4z\"/>\n",
              "    </g>\n",
              "</svg>\n",
              "  </button>\n",
              "\n",
              "<style>\n",
              "  .colab-df-quickchart {\n",
              "      --bg-color: #E8F0FE;\n",
              "      --fill-color: #1967D2;\n",
              "      --hover-bg-color: #E2EBFA;\n",
              "      --hover-fill-color: #174EA6;\n",
              "      --disabled-fill-color: #AAA;\n",
              "      --disabled-bg-color: #DDD;\n",
              "  }\n",
              "\n",
              "  [theme=dark] .colab-df-quickchart {\n",
              "      --bg-color: #3B4455;\n",
              "      --fill-color: #D2E3FC;\n",
              "      --hover-bg-color: #434B5C;\n",
              "      --hover-fill-color: #FFFFFF;\n",
              "      --disabled-bg-color: #3B4455;\n",
              "      --disabled-fill-color: #666;\n",
              "  }\n",
              "\n",
              "  .colab-df-quickchart {\n",
              "    background-color: var(--bg-color);\n",
              "    border: none;\n",
              "    border-radius: 50%;\n",
              "    cursor: pointer;\n",
              "    display: none;\n",
              "    fill: var(--fill-color);\n",
              "    height: 32px;\n",
              "    padding: 0;\n",
              "    width: 32px;\n",
              "  }\n",
              "\n",
              "  .colab-df-quickchart:hover {\n",
              "    background-color: var(--hover-bg-color);\n",
              "    box-shadow: 0 1px 2px rgba(60, 64, 67, 0.3), 0 1px 3px 1px rgba(60, 64, 67, 0.15);\n",
              "    fill: var(--button-hover-fill-color);\n",
              "  }\n",
              "\n",
              "  .colab-df-quickchart-complete:disabled,\n",
              "  .colab-df-quickchart-complete:disabled:hover {\n",
              "    background-color: var(--disabled-bg-color);\n",
              "    fill: var(--disabled-fill-color);\n",
              "    box-shadow: none;\n",
              "  }\n",
              "\n",
              "  .colab-df-spinner {\n",
              "    border: 2px solid var(--fill-color);\n",
              "    border-color: transparent;\n",
              "    border-bottom-color: var(--fill-color);\n",
              "    animation:\n",
              "      spin 1s steps(1) infinite;\n",
              "  }\n",
              "\n",
              "  @keyframes spin {\n",
              "    0% {\n",
              "      border-color: transparent;\n",
              "      border-bottom-color: var(--fill-color);\n",
              "      border-left-color: var(--fill-color);\n",
              "    }\n",
              "    20% {\n",
              "      border-color: transparent;\n",
              "      border-left-color: var(--fill-color);\n",
              "      border-top-color: var(--fill-color);\n",
              "    }\n",
              "    30% {\n",
              "      border-color: transparent;\n",
              "      border-left-color: var(--fill-color);\n",
              "      border-top-color: var(--fill-color);\n",
              "      border-right-color: var(--fill-color);\n",
              "    }\n",
              "    40% {\n",
              "      border-color: transparent;\n",
              "      border-right-color: var(--fill-color);\n",
              "      border-top-color: var(--fill-color);\n",
              "    }\n",
              "    60% {\n",
              "      border-color: transparent;\n",
              "      border-right-color: var(--fill-color);\n",
              "    }\n",
              "    80% {\n",
              "      border-color: transparent;\n",
              "      border-right-color: var(--fill-color);\n",
              "      border-bottom-color: var(--fill-color);\n",
              "    }\n",
              "    90% {\n",
              "      border-color: transparent;\n",
              "      border-bottom-color: var(--fill-color);\n",
              "    }\n",
              "  }\n",
              "</style>\n",
              "\n",
              "  <script>\n",
              "    async function quickchart(key) {\n",
              "      const quickchartButtonEl =\n",
              "        document.querySelector('#' + key + ' button');\n",
              "      quickchartButtonEl.disabled = true;  // To prevent multiple clicks.\n",
              "      quickchartButtonEl.classList.add('colab-df-spinner');\n",
              "      try {\n",
              "        const charts = await google.colab.kernel.invokeFunction(\n",
              "            'suggestCharts', [key], {});\n",
              "      } catch (error) {\n",
              "        console.error('Error during call to suggestCharts:', error);\n",
              "      }\n",
              "      quickchartButtonEl.classList.remove('colab-df-spinner');\n",
              "      quickchartButtonEl.classList.add('colab-df-quickchart-complete');\n",
              "    }\n",
              "    (() => {\n",
              "      let quickchartButtonEl =\n",
              "        document.querySelector('#df-6724535e-8bb9-4e08-b96e-b7891846ba58 button');\n",
              "      quickchartButtonEl.style.display =\n",
              "        google.colab.kernel.accessAllowed ? 'block' : 'none';\n",
              "    })();\n",
              "  </script>\n",
              "</div>\n",
              "    </div>\n",
              "  </div>\n"
            ]
          },
          "metadata": {},
          "execution_count": 756
        }
      ]
    },
    {
      "cell_type": "code",
      "source": [
        "x_train, x_test, y_train, y_test = train_test_split(df['text'], df['target'])"
      ],
      "metadata": {
        "id": "jRnfThIdGXve"
      },
      "execution_count": 757,
      "outputs": []
    },
    {
      "cell_type": "code",
      "source": [
        "p_spam = len(x_train[y_train=='spam'])/len(x_train)\n",
        "p_ham = len(x_train[y_train=='ham'])/len(x_train)"
      ],
      "metadata": {
        "id": "h-vLxxApGaJU"
      },
      "execution_count": 758,
      "outputs": []
    },
    {
      "cell_type": "code",
      "source": [
        "x_train[6]"
      ],
      "metadata": {
        "id": "NTmKb39mGcLR",
        "colab": {
          "base_uri": "https://localhost:8080/"
        },
        "outputId": "dcbe3c55-fa53-4f16-b1f6-bda8e5827906"
      },
      "execution_count": 759,
      "outputs": [
        {
          "output_type": "execute_result",
          "data": {
            "text/plain": [
              "['even', 'brother', 'like', 'speak', 'treat', 'like', 'aid', 'patent']"
            ]
          },
          "metadata": {},
          "execution_count": 759
        }
      ]
    },
    {
      "cell_type": "code",
      "source": [
        "len(x_train) == len(y_train)"
      ],
      "metadata": {
        "id": "nqkos7MBGfDx",
        "colab": {
          "base_uri": "https://localhost:8080/"
        },
        "outputId": "57cc28a0-326d-41e6-aa7d-be04709a7ca6"
      },
      "execution_count": 760,
      "outputs": [
        {
          "output_type": "execute_result",
          "data": {
            "text/plain": [
              "True"
            ]
          },
          "metadata": {},
          "execution_count": 760
        }
      ]
    },
    {
      "cell_type": "code",
      "source": [
        "n_spam = 0\n",
        "for i in x_train.index:\n",
        "  if(y_train[i] == 'spam'):\n",
        "    n_spam += len(x_train[i])\n",
        "n_spam"
      ],
      "metadata": {
        "id": "_DAm4IjyGhkv",
        "colab": {
          "base_uri": "https://localhost:8080/"
        },
        "outputId": "03df3214-f2b4-47c1-afa2-aab701ab0f86"
      },
      "execution_count": 761,
      "outputs": [
        {
          "output_type": "execute_result",
          "data": {
            "text/plain": [
              "8952"
            ]
          },
          "metadata": {},
          "execution_count": 761
        }
      ]
    },
    {
      "cell_type": "code",
      "source": [
        "n_ham = 0\n",
        "for i in x_train.index:\n",
        "  if(y_train[i] == 'ham'):\n",
        "    n_ham += len(x_train[i])\n",
        "n_ham"
      ],
      "metadata": {
        "id": "I8VK4D4tGkf1",
        "colab": {
          "base_uri": "https://localhost:8080/"
        },
        "outputId": "2bc06176-87f6-4698-ba5e-910f67afe9f6"
      },
      "execution_count": 762,
      "outputs": [
        {
          "output_type": "execute_result",
          "data": {
            "text/plain": [
              "28892"
            ]
          },
          "metadata": {},
          "execution_count": 762
        }
      ]
    },
    {
      "cell_type": "code",
      "source": [
        "n = int(n_ham/n_spam)\n",
        "n"
      ],
      "metadata": {
        "id": "f_RzrRpPGm3g",
        "colab": {
          "base_uri": "https://localhost:8080/"
        },
        "outputId": "d2dd14d1-df6e-4b48-f62b-1eaa8414d46b"
      },
      "execution_count": 763,
      "outputs": [
        {
          "output_type": "execute_result",
          "data": {
            "text/plain": [
              "3"
            ]
          },
          "metadata": {},
          "execution_count": 763
        }
      ]
    },
    {
      "cell_type": "code",
      "source": [
        "ham_index = x_train[y_train=='ham'].index\n",
        "spam_index = x_train[y_train=='spam'].index"
      ],
      "metadata": {
        "id": "BVBdiN9oGpFh"
      },
      "execution_count": 764,
      "outputs": []
    },
    {
      "cell_type": "code",
      "source": [
        "p = {}\n",
        "q = {}\n",
        "for i in spam_index:\n",
        "  for j in x_train[i]:\n",
        "    try:\n",
        "      p[j] += 1\n",
        "    except:\n",
        "      p[j] = 1\n",
        "for i in ham_index:\n",
        "  for j in x_train[i]:\n",
        "    try:\n",
        "      q[j] += 1\n",
        "    except:\n",
        "      q[j] = 1"
      ],
      "metadata": {
        "id": "fphTq7jBGr8c"
      },
      "execution_count": 765,
      "outputs": []
    },
    {
      "cell_type": "code",
      "source": [
        "p.update((key, value*n) for key, value in p.items())"
      ],
      "metadata": {
        "id": "D2b0sYRWGuj4"
      },
      "execution_count": 766,
      "outputs": []
    },
    {
      "cell_type": "code",
      "source": [
        "def check(sample):\n",
        "  try:  #custom check\n",
        "    sample = sample.lower()\n",
        "    sample = sample.split()\n",
        "  except:\n",
        "    sample\n",
        "  malt_spam = p_spam\n",
        "  malt_ham = p_ham\n",
        "  for i in range(len(sample)):\n",
        "    valp = p.get(sample[i], n)\n",
        "    valq = q.get(sample[i], 1)\n",
        "    malt_spam = malt_spam*valp\n",
        "    malt_ham = malt_ham*valq\n",
        "    if(malt_spam>999999 or malt_ham>999999):\n",
        "      malt_spam /= 1000000\n",
        "      malt_ham /= 1000000\n",
        "  if(malt_spam>malt_ham):\n",
        "    return 'spam'\n",
        "  else:\n",
        "    return 'ham'"
      ],
      "metadata": {
        "id": "kC5WB7n0Gwzj"
      },
      "execution_count": 767,
      "outputs": []
    },
    {
      "cell_type": "code",
      "source": [
        "def predict(x_test):\n",
        "  y_pred = []\n",
        "  for x in x_test:\n",
        "    y_pred.append(check(x))\n",
        "  return y_pred"
      ],
      "metadata": {
        "id": "EKBK-2V1GzI0"
      },
      "execution_count": 768,
      "outputs": []
    },
    {
      "cell_type": "code",
      "source": [
        "y_pred = predict(x_test)\n",
        "y_pred[:6]"
      ],
      "metadata": {
        "id": "MIwpXcV5G2QR",
        "colab": {
          "base_uri": "https://localhost:8080/"
        },
        "outputId": "bbfd9571-772e-4666-ac9b-eb8c2c445d1e"
      },
      "execution_count": 769,
      "outputs": [
        {
          "output_type": "execute_result",
          "data": {
            "text/plain": [
              "['ham', 'ham', 'ham', 'ham', 'ham', 'ham']"
            ]
          },
          "metadata": {},
          "execution_count": 769
        }
      ]
    },
    {
      "cell_type": "code",
      "source": [
        "y_test[:6]"
      ],
      "metadata": {
        "id": "bBb7coemG4k4",
        "colab": {
          "base_uri": "https://localhost:8080/"
        },
        "outputId": "278d0524-53f2-4959-fbf7-ac129197c1f5"
      },
      "execution_count": 770,
      "outputs": [
        {
          "output_type": "execute_result",
          "data": {
            "text/plain": [
              "477     ham\n",
              "3749    ham\n",
              "1938    ham\n",
              "3924    ham\n",
              "658     ham\n",
              "271     ham\n",
              "Name: target, dtype: object"
            ]
          },
          "metadata": {},
          "execution_count": 770
        }
      ]
    },
    {
      "cell_type": "code",
      "source": [
        "def accuracy(y_test, y_pred):\n",
        "  c = 0\n",
        "  y_test = y_test.reset_index()\n",
        "  y_test.drop(['index'], axis=1, inplace=True)\n",
        "  for i in range(len(y_pred)):\n",
        "    if(y_test['target'][i] == y_pred[i]):\n",
        "      c += 1\n",
        "  return c/len(y_test)"
      ],
      "metadata": {
        "id": "Hf-9Kl2DG7Km"
      },
      "execution_count": 771,
      "outputs": []
    },
    {
      "cell_type": "code",
      "source": [
        "acc = accuracy(y_test, y_pred)*100\n",
        "print(f'accuracy is {acc:.3f}%')"
      ],
      "metadata": {
        "id": "80_vCpLhG9XZ",
        "colab": {
          "base_uri": "https://localhost:8080/"
        },
        "outputId": "63e7f77e-7fe9-4509-dd59-a18a0d23d0fe"
      },
      "execution_count": 772,
      "outputs": [
        {
          "output_type": "stream",
          "name": "stdout",
          "text": [
            "accuracy is 95.262%\n"
          ]
        }
      ]
    },
    {
      "cell_type": "code",
      "source": [
        "def TP(y_test, y_pred):\n",
        "  c = 0\n",
        "  y_test = y_test.reset_index()\n",
        "  y_test.drop(['index'], axis=1, inplace=True)\n",
        "  for i in range(len(y_pred)):\n",
        "    if(y_test['target'][i]=='ham' and y_pred[i]=='ham'):\n",
        "      c += 1\n",
        "  return c\n",
        "def TN(y_test, y_pred):\n",
        "  c = 0\n",
        "  y_test = y_test.reset_index()\n",
        "  y_test.drop(['index'], axis=1, inplace=True)\n",
        "  for i in range(len(y_pred)):\n",
        "    if(y_test['target'][i]=='spam' and y_pred[i]=='spam'):\n",
        "      c += 1\n",
        "  return c\n",
        "def FP(y_test, y_pred):\n",
        "  c = 0\n",
        "  y_test = y_test.reset_index()\n",
        "  y_test.drop(['index'], axis=1, inplace=True)\n",
        "  for i in range(len(y_pred)):\n",
        "    if(y_test['target'][i]=='spam' and y_pred[i]=='ham'):\n",
        "      c += 1\n",
        "  return c\n",
        "def FN(y_test, y_pred):\n",
        "  c = 0\n",
        "  y_test = y_test.reset_index()\n",
        "  y_test.drop(['index'], axis=1, inplace=True)\n",
        "  for i in range(len(y_pred)):\n",
        "    if(y_test['target'][i]=='ham' and y_pred[i]=='spam'):\n",
        "      c += 1\n",
        "  return c"
      ],
      "metadata": {
        "id": "MfP07fsSG_Wp"
      },
      "execution_count": 773,
      "outputs": []
    },
    {
      "cell_type": "code",
      "source": [
        "tp = TP(y_test, y_pred)\n",
        "fp = FP(y_test, y_pred)\n",
        "tn = TN(y_test, y_pred)\n",
        "fn = FN(y_test, y_pred)"
      ],
      "metadata": {
        "id": "-oirGy_OHB7R"
      },
      "execution_count": 774,
      "outputs": []
    },
    {
      "cell_type": "code",
      "source": [
        "def confusion_matrix(tp, tn, fp, fn):\n",
        "  print('     ham','\\t','spam')\n",
        "  print('ham ',tp, '\\t', fn)\n",
        "  print()\n",
        "  print('spam',fp, '\\t\\t', tn)"
      ],
      "metadata": {
        "id": "7LdjHcuaHEJS"
      },
      "execution_count": 775,
      "outputs": []
    },
    {
      "cell_type": "code",
      "source": [
        "confusion_matrix(tp, tn, fp, fn)"
      ],
      "metadata": {
        "id": "0JHZcQ_EHHTK",
        "colab": {
          "base_uri": "https://localhost:8080/"
        },
        "outputId": "2c44cf50-a342-46a3-8610-65f9e2c92f2d"
      },
      "execution_count": 776,
      "outputs": [
        {
          "output_type": "stream",
          "name": "stdout",
          "text": [
            "     ham \t spam\n",
            "ham  1157 \t 60\n",
            "\n",
            "spam 6 \t\t 170\n"
          ]
        }
      ]
    },
    {
      "cell_type": "code",
      "source": [
        "sb.heatmap([[tp, fn],[fp,tn]], annot=True, fmt='4', cmap='magma');"
      ],
      "metadata": {
        "id": "mBr8GnulHJu7",
        "colab": {
          "base_uri": "https://localhost:8080/",
          "height": 430
        },
        "outputId": "9c7d9867-32fe-4d87-cbd6-93e11b5628dd"
      },
      "execution_count": 777,
      "outputs": [
        {
          "output_type": "display_data",
          "data": {
            "text/plain": [
              "<Figure size 640x480 with 2 Axes>"
            ],
            "image/png": "[encoded data removed]"
          },
          "metadata": {}
        }
      ]
    },
    {
      "cell_type": "code",
      "source": [
        "pt.bar(['spam','ham'], [fp, tp], color='pink', hatch='o')\n",
        "pt.bar(['spam', 'ham'], [tn, fn], bottom=[fp, tp], color='orchid')\n",
        "pt.legend(['positive', 'negative'])\n",
        "pt.tight_layout();"
      ],
      "metadata": {
        "id": "f2fkbt4GHMPu",
        "colab": {
          "base_uri": "https://localhost:8080/",
          "height": 487
        },
        "outputId": "8de7dfbd-e2d6-4ff1-e2b6-cd6c51f9595c"
      },
      "execution_count": 778,
      "outputs": [
        {
          "output_type": "display_data",
          "data": {
            "text/plain": [
              "<Figure size 640x480 with 1 Axes>"
            ],
            "image/png": "[encoded data removed]"
          },
          "metadata": {}
        }
      ]
    },
    {
      "cell_type": "code",
      "source": [
        "def metrics(tp, tn, fp, fn):\n",
        "  precision = tp/(tp+fp)\n",
        "  recall = tp/(tp+fn)\n",
        "  f1 = (2*precision*recall)/(precision+recall)\n",
        "  return precision*100, recall*100, f1*100"
      ],
      "metadata": {
        "id": "AC_phC_gHOjw"
      },
      "execution_count": 779,
      "outputs": []
    },
    {
      "cell_type": "code",
      "source": [
        "pc,r,f = metrics(tp, tn, fp, fn)\n",
        "print(f'the precision is {pc:.3f}%')\n",
        "print(f'the recall is    {r:.3f}%')\n",
        "print(f'the f1-score is  {f:.3f}%')"
      ],
      "metadata": {
        "id": "EFUTggVDHRCW",
        "colab": {
          "base_uri": "https://localhost:8080/"
        },
        "outputId": "96afb190-3312-4968-dcb8-bf294486aab0"
      },
      "execution_count": 780,
      "outputs": [
        {
          "output_type": "stream",
          "name": "stdout",
          "text": [
            "the precision is 99.484%\n",
            "the recall is    95.070%\n",
            "the f1-score is  97.227%\n"
          ]
        }
      ]
    },
    {
      "cell_type": "code",
      "source": [
        "pt.bar(['accuracy','precision', 'recall', 'f1-score'], [acc,pc,r,f],\\\n",
        "       color=['plum','orchid','mediumorchid','darkorchid'], hatch=['|','\\\\', '-', '/'])\n",
        "pt.tight_layout();"
      ],
      "metadata": {
        "id": "YG0R9P3eHTZa",
        "colab": {
          "base_uri": "https://localhost:8080/",
          "height": 487
        },
        "outputId": "993d961b-b985-41f1-905b-7628ebaaee8e"
      },
      "execution_count": 781,
      "outputs": [
        {
          "output_type": "display_data",
          "data": {
            "text/plain": [
              "<Figure size 640x480 with 1 Axes>"
            ],
            "image/png": "[encoded data removed]"
          },
          "metadata": {}
        }
      ]
    },
    {
      "cell_type": "code",
      "source": [
        "p = dict(sorted(p.items(), key=lambda x: x[1], reverse=True))\n",
        "q = dict(sorted(q.items(), key=lambda x: x[1], reverse=True))"
      ],
      "metadata": {
        "id": "uVpMlADnHVtk"
      },
      "execution_count": 782,
      "outputs": []
    },
    {
      "cell_type": "code",
      "source": [
        "print('The top ten most significant words wrt spam are -')\n",
        "for i,j in list(p.items())[:10]:\n",
        "  print(i,'(',j,')',end='| ')"
      ],
      "metadata": {
        "id": "3GlnoK4BHYD3",
        "colab": {
          "base_uri": "https://localhost:8080/"
        },
        "outputId": "d0112802-f255-4f19-8afb-f2e34b235bf0"
      },
      "execution_count": 783,
      "outputs": [
        {
          "output_type": "stream",
          "name": "stdout",
          "text": [
            "The top ten most significant words wrt spam are -\n",
            "call ( 885 )| free ( 531 )| u ( 429 )| p ( 429 )| txt ( 369 )| ur ( 342 )| mobile ( 303 )| stop ( 297 )| text ( 297 )| claim ( 291 )| "
          ]
        }
      ]
    },
    {
      "cell_type": "code",
      "source": [
        "print('The top ten most significant words wrt ham are -')\n",
        "for i,j in list(q.items())[:10]:\n",
        "  print(i,'(',j,')',end='| ')"
      ],
      "metadata": {
        "id": "13atJDE9HaRJ",
        "colab": {
          "base_uri": "https://localhost:8080/"
        },
        "outputId": "20f9cdcb-ccc1-4866-c5da-b5c406338b71"
      },
      "execution_count": 784,
      "outputs": [
        {
          "output_type": "stream",
          "name": "stdout",
          "text": [
            "The top ten most significant words wrt ham are -\n",
            "u ( 765 )| get ( 458 )| go ( 396 )| come ( 234 )| gt ( 230 )| lt ( 226 )| call ( 222 )| ok ( 208 )| know ( 195 )| like ( 186 )| "
          ]
        }
      ]
    },
    {
      "cell_type": "code",
      "source": [
        "pt.barh(list(p.keys())[:10], list(p.values())[:10], color='mediumorchid')\n",
        "pt.barh(list(q.keys())[:10], list(q.values())[:10], color='plum')\n",
        "pt.gca().invert_yaxis()\n",
        "pt.legend(['spam words', 'ham words'])\n",
        "pt.tight_layout();"
      ],
      "metadata": {
        "id": "81GnBpOKHccP",
        "colab": {
          "base_uri": "https://localhost:8080/",
          "height": 487
        },
        "outputId": "a6342e4b-f396-4df1-cde2-dbe3c7b0d5d3"
      },
      "execution_count": 785,
      "outputs": [
        {
          "output_type": "display_data",
          "data": {
            "text/plain": [
              "<Figure size 640x480 with 1 Axes>"
            ],
            "image/png": "[encoded data removed]"
          },
          "metadata": {}
        }
      ]
    }
  ]
}
