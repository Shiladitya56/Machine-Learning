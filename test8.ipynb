{
  "nbformat": 4,
  "nbformat_minor": 0,
  "metadata": {
    "colab": {
      "provenance": [],
      "mount_file_id": "1r7dSTPqESglzLU0CT36_zWoLHZS4Qcy_",
      "authorship_tag": "ABX9TyN2CtvljbXF0mPCfAnQVA4u",
      "include_colab_link": true
    },
    "kernelspec": {
      "name": "python3",
      "display_name": "Python 3"
    },
    "language_info": {
      "name": "python"
    }
  },
  "cells": [
    {
      "cell_type": "markdown",
      "metadata": {
        "id": "view-in-github",
        "colab_type": "text"
      },
      "source": [
        "<a href=\"https://colab.research.google.com/github/Shiladitya56/Machine-Learning/blob/main/test8.ipynb\" target=\"_parent\"><img src=\"https://colab.research.google.com/assets/colab-badge.svg\" alt=\"Open In Colab\"/></a>"
      ]
    },
    {
      "cell_type": "code",
      "execution_count": 4,
      "metadata": {
        "id": "On8nEXxrpIvW"
      },
      "outputs": [],
      "source": [
        "import numpy as np\n",
        "import pandas as pd\n",
        "import re\n",
        "import nltk\n",
        "import seaborn as sb\n",
        "import matplotlib.pyplot as pt\n",
        "from nltk.corpus import stopwords\n",
        "from nltk.stem.porter import PorterStemmer\n",
        "from nltk.stem import WordNetLemmatizer\n",
        "from sklearn.feature_extraction.text import TfidfVectorizer\n",
        "from sklearn.preprocessing import LabelEncoder\n",
        "from sklearn.model_selection import train_test_split"
      ]
    },
    {
      "cell_type": "code",
      "source": [
        "nltk.download('stopwords')\n",
        "nltk.download('wordnet')\n",
        "nltk.download('punkt')"
      ],
      "metadata": {
        "id": "F6qXzJKVF0Ds",
        "colab": {
          "base_uri": "https://localhost:8080/"
        },
        "outputId": "c7bc4e98-0867-4523-d7cd-a957cc8a575f"
      },
      "execution_count": 5,
      "outputs": [
        {
          "output_type": "stream",
          "name": "stderr",
          "text": [
            "[nltk_data] Downloading package stopwords to /root/nltk_data...\n",
            "[nltk_data]   Package stopwords is already up-to-date!\n",
            "[nltk_data] Downloading package wordnet to /root/nltk_data...\n",
            "[nltk_data]   Package wordnet is already up-to-date!\n",
            "[nltk_data] Downloading package punkt to /root/nltk_data...\n",
            "[nltk_data]   Package punkt is already up-to-date!\n"
          ]
        },
        {
          "output_type": "execute_result",
          "data": {
            "text/plain": [
              "True"
            ]
          },
          "metadata": {},
          "execution_count": 5
        }
      ]
    },
    {
      "cell_type": "code",
      "source": [
        "df = pd.read_csv(\"/content/drive/MyDrive/ipynb/datasets/spam.csv\",\\\n",
        "                 encoding='latin-1')\n",
        "df.drop(['Unnamed: 2', 'Unnamed: 3', 'Unnamed: 4'],axis=1,inplace=True)\n",
        "df.rename(columns={'v1':'target', 'v2':'text'}, inplace=True)\n",
        "df.sample(6)"
      ],
      "metadata": {
        "id": "bqRmZRwcF0z9",
        "colab": {
          "base_uri": "https://localhost:8080/",
          "height": 237
        },
        "outputId": "a9012d48-687e-493b-a7a6-e5ad2f41a0a6"
      },
      "execution_count": 6,
      "outputs": [
        {
          "output_type": "execute_result",
          "data": {
            "text/plain": [
              "     target                                               text\n",
              "2596    ham  No i'm not gonna be able to. || too late notic...\n",
              "1610    ham                   I'll probably be around mu a lot\n",
              "726     ham  Of cos can lar i'm not so ba dao ok... 1 pm lo...\n",
              "4021    ham  U gd lor go shopping i got stuff to do. U wan ...\n",
              "3274    ham  Hurry home u big butt. Hang up on your last ca...\n",
              "2569    ham           Ultimately tor motive tui achieve korli."
            ],
            "text/html": [
              "\n",
              "  <div id=\"df-6c05b8ca-959e-44bb-a2a3-df93bed41bdb\" class=\"colab-df-container\">\n",
              "    <div>\n",
              "<style scoped>\n",
              "    .dataframe tbody tr th:only-of-type {\n",
              "        vertical-align: middle;\n",
              "    }\n",
              "\n",
              "    .dataframe tbody tr th {\n",
              "        vertical-align: top;\n",
              "    }\n",
              "\n",
              "    .dataframe thead th {\n",
              "        text-align: right;\n",
              "    }\n",
              "</style>\n",
              "<table border=\"1\" class=\"dataframe\">\n",
              "  <thead>\n",
              "    <tr style=\"text-align: right;\">\n",
              "      <th></th>\n",
              "      <th>target</th>\n",
              "      <th>text</th>\n",
              "    </tr>\n",
              "  </thead>\n",
              "  <tbody>\n",
              "    <tr>\n",
              "      <th>2596</th>\n",
              "      <td>ham</td>\n",
              "      <td>No i'm not gonna be able to. || too late notic...</td>\n",
              "    </tr>\n",
              "    <tr>\n",
              "      <th>1610</th>\n",
              "      <td>ham</td>\n",
              "      <td>I'll probably be around mu a lot</td>\n",
              "    </tr>\n",
              "    <tr>\n",
              "      <th>726</th>\n",
              "      <td>ham</td>\n",
              "      <td>Of cos can lar i'm not so ba dao ok... 1 pm lo...</td>\n",
              "    </tr>\n",
              "    <tr>\n",
              "      <th>4021</th>\n",
              "      <td>ham</td>\n",
              "      <td>U gd lor go shopping i got stuff to do. U wan ...</td>\n",
              "    </tr>\n",
              "    <tr>\n",
              "      <th>3274</th>\n",
              "      <td>ham</td>\n",
              "      <td>Hurry home u big butt. Hang up on your last ca...</td>\n",
              "    </tr>\n",
              "    <tr>\n",
              "      <th>2569</th>\n",
              "      <td>ham</td>\n",
              "      <td>Ultimately tor motive tui achieve korli.</td>\n",
              "    </tr>\n",
              "  </tbody>\n",
              "</table>\n",
              "</div>\n",
              "    <div class=\"colab-df-buttons\">\n",
              "\n",
              "  <div class=\"colab-df-container\">\n",
              "    <button class=\"colab-df-convert\" onclick=\"convertToInteractive('df-6c05b8ca-959e-44bb-a2a3-df93bed41bdb')\"\n",
              "            title=\"Convert this dataframe to an interactive table.\"\n",
              "            style=\"display:none;\">\n",
              "\n",
              "  <svg xmlns=\"http://www.w3.org/2000/svg\" height=\"24px\" viewBox=\"0 -960 960 960\">\n",
              "    <path d=\"M120-120v-720h720v720H120Zm60-500h600v-160H180v160Zm220 220h160v-160H400v160Zm0 220h160v-160H400v160ZM180-400h160v-160H180v160Zm440 0h160v-160H620v160ZM180-180h160v-160H180v160Zm440 0h160v-160H620v160Z\"/>\n",
              "  </svg>\n",
              "    </button>\n",
              "\n",
              "  <style>\n",
              "    .colab-df-container {\n",
              "      display:flex;\n",
              "      gap: 12px;\n",
              "    }\n",
              "\n",
              "    .colab-df-convert {\n",
              "      background-color: #E8F0FE;\n",
              "      border: none;\n",
              "      border-radius: 50%;\n",
              "      cursor: pointer;\n",
              "      display: none;\n",
              "      fill: #1967D2;\n",
              "      height: 32px;\n",
              "      padding: 0 0 0 0;\n",
              "      width: 32px;\n",
              "    }\n",
              "\n",
              "    .colab-df-convert:hover {\n",
              "      background-color: #E2EBFA;\n",
              "      box-shadow: 0px 1px 2px rgba(60, 64, 67, 0.3), 0px 1px 3px 1px rgba(60, 64, 67, 0.15);\n",
              "      fill: #174EA6;\n",
              "    }\n",
              "\n",
              "    .colab-df-buttons div {\n",
              "      margin-bottom: 4px;\n",
              "    }\n",
              "\n",
              "    [theme=dark] .colab-df-convert {\n",
              "      background-color: #3B4455;\n",
              "      fill: #D2E3FC;\n",
              "    }\n",
              "\n",
              "    [theme=dark] .colab-df-convert:hover {\n",
              "      background-color: #434B5C;\n",
              "      box-shadow: 0px 1px 3px 1px rgba(0, 0, 0, 0.15);\n",
              "      filter: drop-shadow(0px 1px 2px rgba(0, 0, 0, 0.3));\n",
              "      fill: #FFFFFF;\n",
              "    }\n",
              "  </style>\n",
              "\n",
              "    <script>\n",
              "      const buttonEl =\n",
              "        document.querySelector('#df-6c05b8ca-959e-44bb-a2a3-df93bed41bdb button.colab-df-convert');\n",
              "      buttonEl.style.display =\n",
              "        google.colab.kernel.accessAllowed ? 'block' : 'none';\n",
              "\n",
              "      async function convertToInteractive(key) {\n",
              "        const element = document.querySelector('#df-6c05b8ca-959e-44bb-a2a3-df93bed41bdb');\n",
              "        const dataTable =\n",
              "          await google.colab.kernel.invokeFunction('convertToInteractive',\n",
              "                                                    [key], {});\n",
              "        if (!dataTable) return;\n",
              "\n",
              "        const docLinkHtml = 'Like what you see? Visit the ' +\n",
              "          '<a target=\"_blank\" href=https://colab.research.google.com/notebooks/data_table.ipynb>data table notebook</a>'\n",
              "          + ' to learn more about interactive tables.';\n",
              "        element.innerHTML = '';\n",
              "        dataTable['output_type'] = 'display_data';\n",
              "        await google.colab.output.renderOutput(dataTable, element);\n",
              "        const docLink = document.createElement('div');\n",
              "        docLink.innerHTML = docLinkHtml;\n",
              "        element.appendChild(docLink);\n",
              "      }\n",
              "    </script>\n",
              "  </div>\n",
              "\n",
              "\n",
              "<div id=\"df-86bcdd9c-616a-4cfc-bf48-8d0866819087\">\n",
              "  <button class=\"colab-df-quickchart\" onclick=\"quickchart('df-86bcdd9c-616a-4cfc-bf48-8d0866819087')\"\n",
              "            title=\"Suggest charts.\"\n",
              "            style=\"display:none;\">\n",
              "\n",
              "<svg xmlns=\"http://www.w3.org/2000/svg\" height=\"24px\"viewBox=\"0 0 24 24\"\n",
              "     width=\"24px\">\n",
              "    <g>\n",
              "        <path d=\"M19 3H5c-1.1 0-2 .9-2 2v14c0 1.1.9 2 2 2h14c1.1 0 2-.9 2-2V5c0-1.1-.9-2-2-2zM9 17H7v-7h2v7zm4 0h-2V7h2v10zm4 0h-2v-4h2v4z\"/>\n",
              "    </g>\n",
              "</svg>\n",
              "  </button>\n",
              "\n",
              "<style>\n",
              "  .colab-df-quickchart {\n",
              "      --bg-color: #E8F0FE;\n",
              "      --fill-color: #1967D2;\n",
              "      --hover-bg-color: #E2EBFA;\n",
              "      --hover-fill-color: #174EA6;\n",
              "      --disabled-fill-color: #AAA;\n",
              "      --disabled-bg-color: #DDD;\n",
              "  }\n",
              "\n",
              "  [theme=dark] .colab-df-quickchart {\n",
              "      --bg-color: #3B4455;\n",
              "      --fill-color: #D2E3FC;\n",
              "      --hover-bg-color: #434B5C;\n",
              "      --hover-fill-color: #FFFFFF;\n",
              "      --disabled-bg-color: #3B4455;\n",
              "      --disabled-fill-color: #666;\n",
              "  }\n",
              "\n",
              "  .colab-df-quickchart {\n",
              "    background-color: var(--bg-color);\n",
              "    border: none;\n",
              "    border-radius: 50%;\n",
              "    cursor: pointer;\n",
              "    display: none;\n",
              "    fill: var(--fill-color);\n",
              "    height: 32px;\n",
              "    padding: 0;\n",
              "    width: 32px;\n",
              "  }\n",
              "\n",
              "  .colab-df-quickchart:hover {\n",
              "    background-color: var(--hover-bg-color);\n",
              "    box-shadow: 0 1px 2px rgba(60, 64, 67, 0.3), 0 1px 3px 1px rgba(60, 64, 67, 0.15);\n",
              "    fill: var(--button-hover-fill-color);\n",
              "  }\n",
              "\n",
              "  .colab-df-quickchart-complete:disabled,\n",
              "  .colab-df-quickchart-complete:disabled:hover {\n",
              "    background-color: var(--disabled-bg-color);\n",
              "    fill: var(--disabled-fill-color);\n",
              "    box-shadow: none;\n",
              "  }\n",
              "\n",
              "  .colab-df-spinner {\n",
              "    border: 2px solid var(--fill-color);\n",
              "    border-color: transparent;\n",
              "    border-bottom-color: var(--fill-color);\n",
              "    animation:\n",
              "      spin 1s steps(1) infinite;\n",
              "  }\n",
              "\n",
              "  @keyframes spin {\n",
              "    0% {\n",
              "      border-color: transparent;\n",
              "      border-bottom-color: var(--fill-color);\n",
              "      border-left-color: var(--fill-color);\n",
              "    }\n",
              "    20% {\n",
              "      border-color: transparent;\n",
              "      border-left-color: var(--fill-color);\n",
              "      border-top-color: var(--fill-color);\n",
              "    }\n",
              "    30% {\n",
              "      border-color: transparent;\n",
              "      border-left-color: var(--fill-color);\n",
              "      border-top-color: var(--fill-color);\n",
              "      border-right-color: var(--fill-color);\n",
              "    }\n",
              "    40% {\n",
              "      border-color: transparent;\n",
              "      border-right-color: var(--fill-color);\n",
              "      border-top-color: var(--fill-color);\n",
              "    }\n",
              "    60% {\n",
              "      border-color: transparent;\n",
              "      border-right-color: var(--fill-color);\n",
              "    }\n",
              "    80% {\n",
              "      border-color: transparent;\n",
              "      border-right-color: var(--fill-color);\n",
              "      border-bottom-color: var(--fill-color);\n",
              "    }\n",
              "    90% {\n",
              "      border-color: transparent;\n",
              "      border-bottom-color: var(--fill-color);\n",
              "    }\n",
              "  }\n",
              "</style>\n",
              "\n",
              "  <script>\n",
              "    async function quickchart(key) {\n",
              "      const quickchartButtonEl =\n",
              "        document.querySelector('#' + key + ' button');\n",
              "      quickchartButtonEl.disabled = true;  // To prevent multiple clicks.\n",
              "      quickchartButtonEl.classList.add('colab-df-spinner');\n",
              "      try {\n",
              "        const charts = await google.colab.kernel.invokeFunction(\n",
              "            'suggestCharts', [key], {});\n",
              "      } catch (error) {\n",
              "        console.error('Error during call to suggestCharts:', error);\n",
              "      }\n",
              "      quickchartButtonEl.classList.remove('colab-df-spinner');\n",
              "      quickchartButtonEl.classList.add('colab-df-quickchart-complete');\n",
              "    }\n",
              "    (() => {\n",
              "      let quickchartButtonEl =\n",
              "        document.querySelector('#df-86bcdd9c-616a-4cfc-bf48-8d0866819087 button');\n",
              "      quickchartButtonEl.style.display =\n",
              "        google.colab.kernel.accessAllowed ? 'block' : 'none';\n",
              "    })();\n",
              "  </script>\n",
              "</div>\n",
              "    </div>\n",
              "  </div>\n"
            ]
          },
          "metadata": {},
          "execution_count": 6
        }
      ]
    },
    {
      "cell_type": "code",
      "source": [
        "df.iloc[3585][1]"
      ],
      "metadata": {
        "id": "EgY3eBsiF3v6",
        "colab": {
          "base_uri": "https://localhost:8080/",
          "height": 52
        },
        "outputId": "d1a2ce9f-b9bf-4188-b323-2798a95929fc"
      },
      "execution_count": 7,
      "outputs": [
        {
          "output_type": "execute_result",
          "data": {
            "text/plain": [
              "'I am hot n horny and willing I live local to you - text a reply to hear strt back from me 150p per msg Netcollex LtdHelpDesk: 02085076972 reply Stop to end'"
            ],
            "application/vnd.google.colaboratory.intrinsic+json": {
              "type": "string"
            }
          },
          "metadata": {},
          "execution_count": 7
        }
      ]
    },
    {
      "cell_type": "code",
      "source": [
        "df['target'].value_counts()"
      ],
      "metadata": {
        "id": "SjVlf5wVF6sf",
        "colab": {
          "base_uri": "https://localhost:8080/"
        },
        "outputId": "386f3b32-09cc-4377-bc78-ff45b0b0f047"
      },
      "execution_count": 8,
      "outputs": [
        {
          "output_type": "execute_result",
          "data": {
            "text/plain": [
              "ham     4825\n",
              "spam     747\n",
              "Name: target, dtype: int64"
            ]
          },
          "metadata": {},
          "execution_count": 8
        }
      ]
    },
    {
      "cell_type": "code",
      "source": [
        "pt.bar(['ham', 'spam'], df['target'].value_counts(), color='orchid',\\\n",
        "       hatch='x', alpha=0.06)\n",
        "pt.tight_layout();"
      ],
      "metadata": {
        "id": "qDmN7qe_GAe0",
        "colab": {
          "base_uri": "https://localhost:8080/",
          "height": 486
        },
        "outputId": "7371063f-c520-49ba-8fca-65ff5675af34"
      },
      "execution_count": 9,
      "outputs": [
        {
          "output_type": "display_data",
          "data": {
            "text/plain": [
              "<Figure size 640x480 with 1 Axes>"
            ],
            "image/png": "[encoded data removed]"
          },
          "metadata": {}
        }
      ]
    },
    {
      "cell_type": "code",
      "source": [
        "def clean(text):\n",
        "  sms = re.sub('[^a-zA-Z]', ' ', text) #Replacing all non-alphabetic characters with a space\n",
        "  sms = sms.lower() #converting to lowecase\n",
        "  sms = sms.split()\n",
        "  sms = ' '.join(sms)\n",
        "  return sms"
      ],
      "metadata": {
        "id": "Ps3Ka_S_GCOO"
      },
      "execution_count": 10,
      "outputs": []
    },
    {
      "cell_type": "code",
      "source": [
        "df['text'] = df['text'].apply(clean)"
      ],
      "metadata": {
        "id": "bc29ivJ-GHK7"
      },
      "execution_count": 11,
      "outputs": []
    },
    {
      "cell_type": "code",
      "source": [
        "df['text'].sample(6)"
      ],
      "metadata": {
        "id": "cajlBUsgGJ7T",
        "colab": {
          "base_uri": "https://localhost:8080/"
        },
        "outputId": "40a4ee41-ba51-4dbc-a7f3-ac8292f9cbe7"
      },
      "execution_count": 12,
      "outputs": [
        {
          "output_type": "execute_result",
          "data": {
            "text/plain": [
              "4795    urgent this is our nd attempt to contact u you...\n",
              "4197    want to funk up ur fone with a weekly new tone...\n",
              "430                               at home watching tv lor\n",
              "4393    baaaaaaaabe wake up i miss you i crave you i n...\n",
              "4621                 they finally came to fix the ceiling\n",
              "3805    urgent we are trying to contact you last weeke...\n",
              "Name: text, dtype: object"
            ]
          },
          "metadata": {},
          "execution_count": 12
        }
      ]
    },
    {
      "cell_type": "code",
      "source": [
        "df[\"text\"]=df.apply(lambda row: nltk.word_tokenize(row[\"text\"]), axis=1)"
      ],
      "metadata": {
        "id": "ycaHNv6AGL7o"
      },
      "execution_count": 13,
      "outputs": []
    },
    {
      "cell_type": "code",
      "source": [
        "def remove_stopwords(text):\n",
        "  stop_words = set(stopwords.words(\"english\"))\n",
        "  filtered_text = [word for word in text if word not in stop_words]\n",
        "  return filtered_text"
      ],
      "metadata": {
        "id": "J90dGmM7GObt"
      },
      "execution_count": 14,
      "outputs": []
    },
    {
      "cell_type": "code",
      "source": [
        "df['text'] = df['text'].apply(remove_stopwords)"
      ],
      "metadata": {
        "id": "Rqh-9Sn_GQrJ"
      },
      "execution_count": 15,
      "outputs": []
    },
    {
      "cell_type": "code",
      "source": [
        "lemmatizer = WordNetLemmatizer()\n",
        "def lemmatize_word(text):\n",
        "  lemmas = [lemmatizer.lemmatize(word, pos ='v') for word in text]\n",
        "  return lemmas\n",
        "df[\"text\"] = df[\"text\"].apply(lemmatize_word)"
      ],
      "metadata": {
        "id": "2cpW8y5_GTRq"
      },
      "execution_count": 16,
      "outputs": []
    },
    {
      "cell_type": "code",
      "source": [
        "df"
      ],
      "metadata": {
        "id": "Mp6MGapPGV76",
        "colab": {
          "base_uri": "https://localhost:8080/",
          "height": 423
        },
        "outputId": "c577e707-1f0f-404f-b946-35157a8b3073"
      },
      "execution_count": 17,
      "outputs": [
        {
          "output_type": "execute_result",
          "data": {
            "text/plain": [
              "     target                                               text\n",
              "0       ham  [go, jurong, point, crazy, available, bugis, n...\n",
              "1       ham                       [ok, lar, joke, wif, u, oni]\n",
              "2      spam  [free, entry, wkly, comp, win, fa, cup, final,...\n",
              "3       ham      [u, dun, say, early, hor, u, c, already, say]\n",
              "4       ham        [nah, think, go, usf, live, around, though]\n",
              "...     ...                                                ...\n",
              "5567   spam  [nd, time, try, contact, u, u, pound, prize, c...\n",
              "5568    ham                       [b, go, esplanade, fr, home]\n",
              "5569    ham                          [pity, mood, suggestions]\n",
              "5570    ham  [guy, bitch, act, like, interest, buy, somethi...\n",
              "5571    ham                                 [rofl, true, name]\n",
              "\n",
              "[5572 rows x 2 columns]"
            ],
            "text/html": [
              "\n",
              "  <div id=\"df-8e09c360-1e5c-4d6e-8785-6aa3fe7c14fc\" class=\"colab-df-container\">\n",
              "    <div>\n",
              "<style scoped>\n",
              "    .dataframe tbody tr th:only-of-type {\n",
              "        vertical-align: middle;\n",
              "    }\n",
              "\n",
              "    .dataframe tbody tr th {\n",
              "        vertical-align: top;\n",
              "    }\n",
              "\n",
              "    .dataframe thead th {\n",
              "        text-align: right;\n",
              "    }\n",
              "</style>\n",
              "<table border=\"1\" class=\"dataframe\">\n",
              "  <thead>\n",
              "    <tr style=\"text-align: right;\">\n",
              "      <th></th>\n",
              "      <th>target</th>\n",
              "      <th>text</th>\n",
              "    </tr>\n",
              "  </thead>\n",
              "  <tbody>\n",
              "    <tr>\n",
              "      <th>0</th>\n",
              "      <td>ham</td>\n",
              "      <td>[go, jurong, point, crazy, available, bugis, n...</td>\n",
              "    </tr>\n",
              "    <tr>\n",
              "      <th>1</th>\n",
              "      <td>ham</td>\n",
              "      <td>[ok, lar, joke, wif, u, oni]</td>\n",
              "    </tr>\n",
              "    <tr>\n",
              "      <th>2</th>\n",
              "      <td>spam</td>\n",
              "      <td>[free, entry, wkly, comp, win, fa, cup, final,...</td>\n",
              "    </tr>\n",
              "    <tr>\n",
              "      <th>3</th>\n",
              "      <td>ham</td>\n",
              "      <td>[u, dun, say, early, hor, u, c, already, say]</td>\n",
              "    </tr>\n",
              "    <tr>\n",
              "      <th>4</th>\n",
              "      <td>ham</td>\n",
              "      <td>[nah, think, go, usf, live, around, though]</td>\n",
              "    </tr>\n",
              "    <tr>\n",
              "      <th>...</th>\n",
              "      <td>...</td>\n",
              "      <td>...</td>\n",
              "    </tr>\n",
              "    <tr>\n",
              "      <th>5567</th>\n",
              "      <td>spam</td>\n",
              "      <td>[nd, time, try, contact, u, u, pound, prize, c...</td>\n",
              "    </tr>\n",
              "    <tr>\n",
              "      <th>5568</th>\n",
              "      <td>ham</td>\n",
              "      <td>[b, go, esplanade, fr, home]</td>\n",
              "    </tr>\n",
              "    <tr>\n",
              "      <th>5569</th>\n",
              "      <td>ham</td>\n",
              "      <td>[pity, mood, suggestions]</td>\n",
              "    </tr>\n",
              "    <tr>\n",
              "      <th>5570</th>\n",
              "      <td>ham</td>\n",
              "      <td>[guy, bitch, act, like, interest, buy, somethi...</td>\n",
              "    </tr>\n",
              "    <tr>\n",
              "      <th>5571</th>\n",
              "      <td>ham</td>\n",
              "      <td>[rofl, true, name]</td>\n",
              "    </tr>\n",
              "  </tbody>\n",
              "</table>\n",
              "<p>5572 rows × 2 columns</p>\n",
              "</div>\n",
              "    <div class=\"colab-df-buttons\">\n",
              "\n",
              "  <div class=\"colab-df-container\">\n",
              "    <button class=\"colab-df-convert\" onclick=\"convertToInteractive('df-8e09c360-1e5c-4d6e-8785-6aa3fe7c14fc')\"\n",
              "            title=\"Convert this dataframe to an interactive table.\"\n",
              "            style=\"display:none;\">\n",
              "\n",
              "  <svg xmlns=\"http://www.w3.org/2000/svg\" height=\"24px\" viewBox=\"0 -960 960 960\">\n",
              "    <path d=\"M120-120v-720h720v720H120Zm60-500h600v-160H180v160Zm220 220h160v-160H400v160Zm0 220h160v-160H400v160ZM180-400h160v-160H180v160Zm440 0h160v-160H620v160ZM180-180h160v-160H180v160Zm440 0h160v-160H620v160Z\"/>\n",
              "  </svg>\n",
              "    </button>\n",
              "\n",
              "  <style>\n",
              "    .colab-df-container {\n",
              "      display:flex;\n",
              "      gap: 12px;\n",
              "    }\n",
              "\n",
              "    .colab-df-convert {\n",
              "      background-color: #E8F0FE;\n",
              "      border: none;\n",
              "      border-radius: 50%;\n",
              "      cursor: pointer;\n",
              "      display: none;\n",
              "      fill: #1967D2;\n",
              "      height: 32px;\n",
              "      padding: 0 0 0 0;\n",
              "      width: 32px;\n",
              "    }\n",
              "\n",
              "    .colab-df-convert:hover {\n",
              "      background-color: #E2EBFA;\n",
              "      box-shadow: 0px 1px 2px rgba(60, 64, 67, 0.3), 0px 1px 3px 1px rgba(60, 64, 67, 0.15);\n",
              "      fill: #174EA6;\n",
              "    }\n",
              "\n",
              "    .colab-df-buttons div {\n",
              "      margin-bottom: 4px;\n",
              "    }\n",
              "\n",
              "    [theme=dark] .colab-df-convert {\n",
              "      background-color: #3B4455;\n",
              "      fill: #D2E3FC;\n",
              "    }\n",
              "\n",
              "    [theme=dark] .colab-df-convert:hover {\n",
              "      background-color: #434B5C;\n",
              "      box-shadow: 0px 1px 3px 1px rgba(0, 0, 0, 0.15);\n",
              "      filter: drop-shadow(0px 1px 2px rgba(0, 0, 0, 0.3));\n",
              "      fill: #FFFFFF;\n",
              "    }\n",
              "  </style>\n",
              "\n",
              "    <script>\n",
              "      const buttonEl =\n",
              "        document.querySelector('#df-8e09c360-1e5c-4d6e-8785-6aa3fe7c14fc button.colab-df-convert');\n",
              "      buttonEl.style.display =\n",
              "        google.colab.kernel.accessAllowed ? 'block' : 'none';\n",
              "\n",
              "      async function convertToInteractive(key) {\n",
              "        const element = document.querySelector('#df-8e09c360-1e5c-4d6e-8785-6aa3fe7c14fc');\n",
              "        const dataTable =\n",
              "          await google.colab.kernel.invokeFunction('convertToInteractive',\n",
              "                                                    [key], {});\n",
              "        if (!dataTable) return;\n",
              "\n",
              "        const docLinkHtml = 'Like what you see? Visit the ' +\n",
              "          '<a target=\"_blank\" href=https://colab.research.google.com/notebooks/data_table.ipynb>data table notebook</a>'\n",
              "          + ' to learn more about interactive tables.';\n",
              "        element.innerHTML = '';\n",
              "        dataTable['output_type'] = 'display_data';\n",
              "        await google.colab.output.renderOutput(dataTable, element);\n",
              "        const docLink = document.createElement('div');\n",
              "        docLink.innerHTML = docLinkHtml;\n",
              "        element.appendChild(docLink);\n",
              "      }\n",
              "    </script>\n",
              "  </div>\n",
              "\n",
              "\n",
              "<div id=\"df-b468c7db-4a94-4407-bb87-049ae62397d0\">\n",
              "  <button class=\"colab-df-quickchart\" onclick=\"quickchart('df-b468c7db-4a94-4407-bb87-049ae62397d0')\"\n",
              "            title=\"Suggest charts.\"\n",
              "            style=\"display:none;\">\n",
              "\n",
              "<svg xmlns=\"http://www.w3.org/2000/svg\" height=\"24px\"viewBox=\"0 0 24 24\"\n",
              "     width=\"24px\">\n",
              "    <g>\n",
              "        <path d=\"M19 3H5c-1.1 0-2 .9-2 2v14c0 1.1.9 2 2 2h14c1.1 0 2-.9 2-2V5c0-1.1-.9-2-2-2zM9 17H7v-7h2v7zm4 0h-2V7h2v10zm4 0h-2v-4h2v4z\"/>\n",
              "    </g>\n",
              "</svg>\n",
              "  </button>\n",
              "\n",
              "<style>\n",
              "  .colab-df-quickchart {\n",
              "      --bg-color: #E8F0FE;\n",
              "      --fill-color: #1967D2;\n",
              "      --hover-bg-color: #E2EBFA;\n",
              "      --hover-fill-color: #174EA6;\n",
              "      --disabled-fill-color: #AAA;\n",
              "      --disabled-bg-color: #DDD;\n",
              "  }\n",
              "\n",
              "  [theme=dark] .colab-df-quickchart {\n",
              "      --bg-color: #3B4455;\n",
              "      --fill-color: #D2E3FC;\n",
              "      --hover-bg-color: #434B5C;\n",
              "      --hover-fill-color: #FFFFFF;\n",
              "      --disabled-bg-color: #3B4455;\n",
              "      --disabled-fill-color: #666;\n",
              "  }\n",
              "\n",
              "  .colab-df-quickchart {\n",
              "    background-color: var(--bg-color);\n",
              "    border: none;\n",
              "    border-radius: 50%;\n",
              "    cursor: pointer;\n",
              "    display: none;\n",
              "    fill: var(--fill-color);\n",
              "    height: 32px;\n",
              "    padding: 0;\n",
              "    width: 32px;\n",
              "  }\n",
              "\n",
              "  .colab-df-quickchart:hover {\n",
              "    background-color: var(--hover-bg-color);\n",
              "    box-shadow: 0 1px 2px rgba(60, 64, 67, 0.3), 0 1px 3px 1px rgba(60, 64, 67, 0.15);\n",
              "    fill: var(--button-hover-fill-color);\n",
              "  }\n",
              "\n",
              "  .colab-df-quickchart-complete:disabled,\n",
              "  .colab-df-quickchart-complete:disabled:hover {\n",
              "    background-color: var(--disabled-bg-color);\n",
              "    fill: var(--disabled-fill-color);\n",
              "    box-shadow: none;\n",
              "  }\n",
              "\n",
              "  .colab-df-spinner {\n",
              "    border: 2px solid var(--fill-color);\n",
              "    border-color: transparent;\n",
              "    border-bottom-color: var(--fill-color);\n",
              "    animation:\n",
              "      spin 1s steps(1) infinite;\n",
              "  }\n",
              "\n",
              "  @keyframes spin {\n",
              "    0% {\n",
              "      border-color: transparent;\n",
              "      border-bottom-color: var(--fill-color);\n",
              "      border-left-color: var(--fill-color);\n",
              "    }\n",
              "    20% {\n",
              "      border-color: transparent;\n",
              "      border-left-color: var(--fill-color);\n",
              "      border-top-color: var(--fill-color);\n",
              "    }\n",
              "    30% {\n",
              "      border-color: transparent;\n",
              "      border-left-color: var(--fill-color);\n",
              "      border-top-color: var(--fill-color);\n",
              "      border-right-color: var(--fill-color);\n",
              "    }\n",
              "    40% {\n",
              "      border-color: transparent;\n",
              "      border-right-color: var(--fill-color);\n",
              "      border-top-color: var(--fill-color);\n",
              "    }\n",
              "    60% {\n",
              "      border-color: transparent;\n",
              "      border-right-color: var(--fill-color);\n",
              "    }\n",
              "    80% {\n",
              "      border-color: transparent;\n",
              "      border-right-color: var(--fill-color);\n",
              "      border-bottom-color: var(--fill-color);\n",
              "    }\n",
              "    90% {\n",
              "      border-color: transparent;\n",
              "      border-bottom-color: var(--fill-color);\n",
              "    }\n",
              "  }\n",
              "</style>\n",
              "\n",
              "  <script>\n",
              "    async function quickchart(key) {\n",
              "      const quickchartButtonEl =\n",
              "        document.querySelector('#' + key + ' button');\n",
              "      quickchartButtonEl.disabled = true;  // To prevent multiple clicks.\n",
              "      quickchartButtonEl.classList.add('colab-df-spinner');\n",
              "      try {\n",
              "        const charts = await google.colab.kernel.invokeFunction(\n",
              "            'suggestCharts', [key], {});\n",
              "      } catch (error) {\n",
              "        console.error('Error during call to suggestCharts:', error);\n",
              "      }\n",
              "      quickchartButtonEl.classList.remove('colab-df-spinner');\n",
              "      quickchartButtonEl.classList.add('colab-df-quickchart-complete');\n",
              "    }\n",
              "    (() => {\n",
              "      let quickchartButtonEl =\n",
              "        document.querySelector('#df-b468c7db-4a94-4407-bb87-049ae62397d0 button');\n",
              "      quickchartButtonEl.style.display =\n",
              "        google.colab.kernel.accessAllowed ? 'block' : 'none';\n",
              "    })();\n",
              "  </script>\n",
              "</div>\n",
              "    </div>\n",
              "  </div>\n"
            ]
          },
          "metadata": {},
          "execution_count": 17
        }
      ]
    },
    {
      "cell_type": "code",
      "source": [
        "x_train, x_test, y_train, y_test = train_test_split(df['text'], df['target'])"
      ],
      "metadata": {
        "id": "jRnfThIdGXve"
      },
      "execution_count": 18,
      "outputs": []
    },
    {
      "cell_type": "code",
      "source": [
        "p_spam = len(x_train[y_train=='spam'])/len(x_train)\n",
        "p_ham = len(x_train[y_train=='ham'])/len(x_train)"
      ],
      "metadata": {
        "id": "h-vLxxApGaJU"
      },
      "execution_count": 19,
      "outputs": []
    },
    {
      "cell_type": "code",
      "source": [
        "x_train[6]"
      ],
      "metadata": {
        "id": "NTmKb39mGcLR",
        "colab": {
          "base_uri": "https://localhost:8080/"
        },
        "outputId": "fd95c100-c93a-438e-8a03-ee467dd409ae"
      },
      "execution_count": 20,
      "outputs": [
        {
          "output_type": "execute_result",
          "data": {
            "text/plain": [
              "['even', 'brother', 'like', 'speak', 'treat', 'like', 'aid', 'patent']"
            ]
          },
          "metadata": {},
          "execution_count": 20
        }
      ]
    },
    {
      "cell_type": "code",
      "source": [
        "len(x_train) == len(y_train)"
      ],
      "metadata": {
        "id": "nqkos7MBGfDx",
        "colab": {
          "base_uri": "https://localhost:8080/"
        },
        "outputId": "60a339ae-0947-453f-ff8b-a37a361c716a"
      },
      "execution_count": 21,
      "outputs": [
        {
          "output_type": "execute_result",
          "data": {
            "text/plain": [
              "True"
            ]
          },
          "metadata": {},
          "execution_count": 21
        }
      ]
    },
    {
      "cell_type": "code",
      "source": [
        "n_spam = 0\n",
        "for i in x_train.index:\n",
        "  if(y_train[i] == 'spam'):\n",
        "    n_spam += len(x_train[i])\n",
        "n_spam"
      ],
      "metadata": {
        "id": "_DAm4IjyGhkv",
        "colab": {
          "base_uri": "https://localhost:8080/"
        },
        "outputId": "718c9e00-4c30-41ff-accc-721352c7e42e"
      },
      "execution_count": 22,
      "outputs": [
        {
          "output_type": "execute_result",
          "data": {
            "text/plain": [
              "8634"
            ]
          },
          "metadata": {},
          "execution_count": 22
        }
      ]
    },
    {
      "cell_type": "code",
      "source": [
        "n_ham = 0\n",
        "for i in x_train.index:\n",
        "  if(y_train[i] == 'ham'):\n",
        "    n_ham += len(x_train[i])\n",
        "n_ham"
      ],
      "metadata": {
        "id": "I8VK4D4tGkf1",
        "colab": {
          "base_uri": "https://localhost:8080/"
        },
        "outputId": "dac4b631-3bc7-4de0-e638-d387f2af401f"
      },
      "execution_count": 23,
      "outputs": [
        {
          "output_type": "execute_result",
          "data": {
            "text/plain": [
              "28933"
            ]
          },
          "metadata": {},
          "execution_count": 23
        }
      ]
    },
    {
      "cell_type": "code",
      "source": [
        "n = int(n_ham/n_spam)\n",
        "n"
      ],
      "metadata": {
        "id": "f_RzrRpPGm3g",
        "colab": {
          "base_uri": "https://localhost:8080/"
        },
        "outputId": "e84a0f21-5a32-47f3-8555-0b6f3b8a181a"
      },
      "execution_count": 24,
      "outputs": [
        {
          "output_type": "execute_result",
          "data": {
            "text/plain": [
              "3"
            ]
          },
          "metadata": {},
          "execution_count": 24
        }
      ]
    },
    {
      "cell_type": "code",
      "source": [
        "ham_index = x_train[y_train=='ham'].index\n",
        "spam_index = x_train[y_train=='spam'].index"
      ],
      "metadata": {
        "id": "BVBdiN9oGpFh"
      },
      "execution_count": 25,
      "outputs": []
    },
    {
      "cell_type": "code",
      "source": [
        "p = {}\n",
        "q = {}\n",
        "for i in spam_index:\n",
        "  for j in x_train[i]:\n",
        "    try:\n",
        "      p[j] += 1\n",
        "    except:\n",
        "      p[j] = 1\n",
        "for i in ham_index:\n",
        "  for j in x_train[i]:\n",
        "    try:\n",
        "      q[j] += 1\n",
        "    except:\n",
        "      q[j] = 1"
      ],
      "metadata": {
        "id": "fphTq7jBGr8c"
      },
      "execution_count": 26,
      "outputs": []
    },
    {
      "cell_type": "code",
      "source": [
        "p.update((key, value*n) for key, value in p.items())"
      ],
      "metadata": {
        "id": "D2b0sYRWGuj4"
      },
      "execution_count": 27,
      "outputs": []
    },
    {
      "cell_type": "code",
      "source": [
        "def check(sample):\n",
        "  try:  #custom check\n",
        "    sample = sample.lower()\n",
        "    sample = sample.split()\n",
        "  except:\n",
        "    sample\n",
        "  malt_spam = p_spam\n",
        "  malt_ham = p_ham\n",
        "  for i in range(len(sample)):\n",
        "    valp = p.get(sample[i], n)\n",
        "    valq = q.get(sample[i], 1)\n",
        "    malt_spam = malt_spam*valp\n",
        "    malt_ham = malt_ham*valq\n",
        "    if(malt_spam>999999 or malt_ham>999999):\n",
        "      malt_spam /= 1000000\n",
        "      malt_ham /= 1000000\n",
        "  if(malt_spam>malt_ham):\n",
        "    return 'spam'\n",
        "  else:\n",
        "    return 'ham'"
      ],
      "metadata": {
        "id": "kC5WB7n0Gwzj"
      },
      "execution_count": 28,
      "outputs": []
    },
    {
      "cell_type": "code",
      "source": [
        "def predict(x_test):\n",
        "  y_pred = []\n",
        "  for x in x_test:\n",
        "    y_pred.append(check(x))\n",
        "  return y_pred"
      ],
      "metadata": {
        "id": "EKBK-2V1GzI0"
      },
      "execution_count": 29,
      "outputs": []
    },
    {
      "cell_type": "code",
      "source": [
        "y_pred = predict(x_test)\n",
        "y_pred[:6]"
      ],
      "metadata": {
        "id": "MIwpXcV5G2QR",
        "colab": {
          "base_uri": "https://localhost:8080/"
        },
        "outputId": "3365ec95-39f1-4cea-b1d2-8a1a10a1e5e3"
      },
      "execution_count": 30,
      "outputs": [
        {
          "output_type": "execute_result",
          "data": {
            "text/plain": [
              "['ham', 'ham', 'ham', 'ham', 'spam', 'ham']"
            ]
          },
          "metadata": {},
          "execution_count": 30
        }
      ]
    },
    {
      "cell_type": "code",
      "source": [
        "y_test[:6]"
      ],
      "metadata": {
        "id": "bBb7coemG4k4",
        "colab": {
          "base_uri": "https://localhost:8080/"
        },
        "outputId": "a8b9645e-dfdb-48e6-af56-3d39408948e8"
      },
      "execution_count": 31,
      "outputs": [
        {
          "output_type": "execute_result",
          "data": {
            "text/plain": [
              "3531     ham\n",
              "4454     ham\n",
              "5328     ham\n",
              "607      ham\n",
              "1929    spam\n",
              "4906     ham\n",
              "Name: target, dtype: object"
            ]
          },
          "metadata": {},
          "execution_count": 31
        }
      ]
    },
    {
      "cell_type": "code",
      "source": [
        "def accuracy(y_test, y_pred):\n",
        "  c = 0\n",
        "  y_test = y_test.reset_index()\n",
        "  y_test.drop(['index'], axis=1, inplace=True)\n",
        "  for i in range(len(y_pred)):\n",
        "    if(y_test['target'][i] == y_pred[i]):\n",
        "      c += 1\n",
        "  return c/len(y_test)"
      ],
      "metadata": {
        "id": "Hf-9Kl2DG7Km"
      },
      "execution_count": 32,
      "outputs": []
    },
    {
      "cell_type": "code",
      "source": [
        "acc = accuracy(y_test, y_pred)*100\n",
        "print(f'accuracy is {acc:.3f}%')"
      ],
      "metadata": {
        "id": "80_vCpLhG9XZ",
        "colab": {
          "base_uri": "https://localhost:8080/"
        },
        "outputId": "b4dedafc-be4b-4dd4-9716-2858daf42134"
      },
      "execution_count": 33,
      "outputs": [
        {
          "output_type": "stream",
          "name": "stdout",
          "text": [
            "accuracy is 95.693%\n"
          ]
        }
      ]
    },
    {
      "cell_type": "code",
      "source": [
        "def TP(y_test, y_pred):\n",
        "  c = 0\n",
        "  y_test = y_test.reset_index()\n",
        "  y_test.drop(['index'], axis=1, inplace=True)\n",
        "  for i in range(len(y_pred)):\n",
        "    if(y_test['target'][i]=='ham' and y_pred[i]=='ham'):\n",
        "      c += 1\n",
        "  return c\n",
        "def TN(y_test, y_pred):\n",
        "  c = 0\n",
        "  y_test = y_test.reset_index()\n",
        "  y_test.drop(['index'], axis=1, inplace=True)\n",
        "  for i in range(len(y_pred)):\n",
        "    if(y_test['target'][i]=='spam' and y_pred[i]=='spam'):\n",
        "      c += 1\n",
        "  return c\n",
        "def FP(y_test, y_pred):\n",
        "  c = 0\n",
        "  y_test = y_test.reset_index()\n",
        "  y_test.drop(['index'], axis=1, inplace=True)\n",
        "  for i in range(len(y_pred)):\n",
        "    if(y_test['target'][i]=='spam' and y_pred[i]=='ham'):\n",
        "      c += 1\n",
        "  return c\n",
        "def FN(y_test, y_pred):\n",
        "  c = 0\n",
        "  y_test = y_test.reset_index()\n",
        "  y_test.drop(['index'], axis=1, inplace=True)\n",
        "  for i in range(len(y_pred)):\n",
        "    if(y_test['target'][i]=='ham' and y_pred[i]=='spam'):\n",
        "      c += 1\n",
        "  return c"
      ],
      "metadata": {
        "id": "MfP07fsSG_Wp"
      },
      "execution_count": 34,
      "outputs": []
    },
    {
      "cell_type": "code",
      "source": [
        "tp = TP(y_test, y_pred)\n",
        "fp = FP(y_test, y_pred)\n",
        "tn = TN(y_test, y_pred)\n",
        "fn = FN(y_test, y_pred)"
      ],
      "metadata": {
        "id": "-oirGy_OHB7R"
      },
      "execution_count": 35,
      "outputs": []
    },
    {
      "cell_type": "code",
      "source": [
        "def confusion_matrix(tp, tn, fp, fn):\n",
        "  print('     ham','\\t','spam')\n",
        "  print('ham ',tp, '\\t', fn)\n",
        "  print()\n",
        "  print('spam',fp, '\\t\\t', tn)"
      ],
      "metadata": {
        "id": "7LdjHcuaHEJS"
      },
      "execution_count": 36,
      "outputs": []
    },
    {
      "cell_type": "code",
      "source": [
        "confusion_matrix(tp, tn, fp, fn)"
      ],
      "metadata": {
        "id": "0JHZcQ_EHHTK",
        "colab": {
          "base_uri": "https://localhost:8080/"
        },
        "outputId": "357c9c1c-9cbd-4789-8297-a3d9d762e829"
      },
      "execution_count": 37,
      "outputs": [
        {
          "output_type": "stream",
          "name": "stdout",
          "text": [
            "     ham \t spam\n",
            "ham  1147 \t 52\n",
            "\n",
            "spam 8 \t\t 186\n"
          ]
        }
      ]
    },
    {
      "cell_type": "code",
      "source": [
        "sb.heatmap([[tp, fn],[fp,tn]], annot=True, fmt='4', cmap='magma');"
      ],
      "metadata": {
        "id": "mBr8GnulHJu7",
        "colab": {
          "base_uri": "https://localhost:8080/",
          "height": 430
        },
        "outputId": "2f893ca6-a1df-481d-9a34-95fa5126391c"
      },
      "execution_count": 38,
      "outputs": [
        {
          "output_type": "display_data",
          "data": {
            "text/plain": [
              "<Figure size 640x480 with 2 Axes>"
            ],
            "image/png": "[encoded data removed]"
          },
          "metadata": {}
        }
      ]
    },
    {
      "cell_type": "code",
      "source": [
        "pt.bar(['spam','ham'], [fp, tp], color='pink', hatch='o')\n",
        "pt.bar(['spam', 'ham'], [tn, fn], bottom=[fp, tp], color='orchid')\n",
        "pt.legend(['positive', 'negative'])\n",
        "pt.tight_layout();"
      ],
      "metadata": {
        "id": "f2fkbt4GHMPu",
        "colab": {
          "base_uri": "https://localhost:8080/",
          "height": 487
        },
        "outputId": "be71af5d-1f7d-4c0b-ecf1-af580e1f928e"
      },
      "execution_count": 39,
      "outputs": [
        {
          "output_type": "display_data",
          "data": {
            "text/plain": [
              "<Figure size 640x480 with 1 Axes>"
            ],
            "image/png": "[encoded data removed]"
          },
          "metadata": {}
        }
      ]
    },
    {
      "cell_type": "code",
      "source": [
        "def metrics(tp, tn, fp, fn):\n",
        "  precision = tp/(tp+fp)\n",
        "  recall = tp/(tp+fn)\n",
        "  f1 = (2*precision*recall)/(precision+recall)\n",
        "  return precision*100, recall*100, f1*100"
      ],
      "metadata": {
        "id": "AC_phC_gHOjw"
      },
      "execution_count": 40,
      "outputs": []
    },
    {
      "cell_type": "code",
      "source": [
        "pc,r,f = metrics(tp, tn, fp, fn)\n",
        "print(f'the precision is {pc:.3f}%')\n",
        "print(f'the recall is    {r:.3f}%')\n",
        "print(f'the f1-score is  {f:.3f}%')"
      ],
      "metadata": {
        "id": "EFUTggVDHRCW",
        "colab": {
          "base_uri": "https://localhost:8080/"
        },
        "outputId": "7698415e-cb61-4b61-c50d-f7db87a1fd6a"
      },
      "execution_count": 41,
      "outputs": [
        {
          "output_type": "stream",
          "name": "stdout",
          "text": [
            "the precision is 99.307%\n",
            "the recall is    95.663%\n",
            "the f1-score is  97.451%\n"
          ]
        }
      ]
    },
    {
      "cell_type": "code",
      "source": [
        "pt.bar(['accuracy','precision', 'recall', 'f1-score'], [acc,pc,r,f],\\\n",
        "       color=['plum','orchid','mediumorchid','darkorchid'], hatch=['|','\\\\', '-', '/'])\n",
        "pt.tight_layout();"
      ],
      "metadata": {
        "id": "YG0R9P3eHTZa",
        "colab": {
          "base_uri": "https://localhost:8080/",
          "height": 487
        },
        "outputId": "6461e5f4-7790-4f41-c8ba-5460c8742e1c"
      },
      "execution_count": 42,
      "outputs": [
        {
          "output_type": "display_data",
          "data": {
            "text/plain": [
              "<Figure size 640x480 with 1 Axes>"
            ],
            "image/png": "[encoded data removed]"
          },
          "metadata": {}
        }
      ]
    },
    {
      "cell_type": "code",
      "source": [
        "p = dict(sorted(p.items(), key=lambda x: x[1], reverse=True))\n",
        "q = dict(sorted(q.items(), key=lambda x: x[1], reverse=True))"
      ],
      "metadata": {
        "id": "uVpMlADnHVtk"
      },
      "execution_count": 43,
      "outputs": []
    },
    {
      "cell_type": "code",
      "source": [
        "print('The top ten most significant words wrt spam are -')\n",
        "for i,j in list(p.items())[:10]:\n",
        "  print(i,'(',j,')',end='| ')"
      ],
      "metadata": {
        "id": "3GlnoK4BHYD3",
        "colab": {
          "base_uri": "https://localhost:8080/"
        },
        "outputId": "d35f442f-ee50-4b75-b250-723ab51f0112"
      },
      "execution_count": 44,
      "outputs": [
        {
          "output_type": "stream",
          "name": "stdout",
          "text": [
            "The top ten most significant words wrt spam are -\n",
            "call ( 891 )| free ( 495 )| u ( 441 )| p ( 372 )| txt ( 351 )| ur ( 321 )| reply ( 276 )| mobile ( 273 )| text ( 264 )| stop ( 261 )| "
          ]
        }
      ]
    },
    {
      "cell_type": "code",
      "source": [
        "print('The top ten most significant words wrt ham are -')\n",
        "for i,j in list(q.items())[:10]:\n",
        "  print(i,'(',j,')',end='| ')"
      ],
      "metadata": {
        "id": "13atJDE9HaRJ",
        "colab": {
          "base_uri": "https://localhost:8080/"
        },
        "outputId": "8e7c53df-224d-40fc-9f5a-7f063ced3bc5"
      },
      "execution_count": 45,
      "outputs": [
        {
          "output_type": "stream",
          "name": "stdout",
          "text": [
            "The top ten most significant words wrt ham are -\n",
            "u ( 761 )| get ( 472 )| go ( 418 )| come ( 256 )| lt ( 237 )| gt ( 237 )| call ( 227 )| ok ( 211 )| know ( 201 )| ur ( 181 )| "
          ]
        }
      ]
    },
    {
      "cell_type": "code",
      "source": [
        "pt.barh(list(p.keys())[:10], list(p.values())[:10], color='mediumorchid')\n",
        "pt.barh(list(q.keys())[:10], list(q.values())[:10], color='plum')\n",
        "pt.gca().invert_yaxis()\n",
        "pt.legend(['spam words', 'ham words'])\n",
        "pt.tight_layout();"
      ],
      "metadata": {
        "id": "81GnBpOKHccP",
        "colab": {
          "base_uri": "https://localhost:8080/",
          "height": 487
        },
        "outputId": "45cbeefa-b6e7-4fed-d7a4-6e5b7bf1cb28"
      },
      "execution_count": 46,
      "outputs": [
        {
          "output_type": "display_data",
          "data": {
            "text/plain": [
              "<Figure size 640x480 with 1 Axes>"
            ],
            "image/png": "[encoded data removed]"
          },
          "metadata": {}
        }
      ]
    }
  ]
}