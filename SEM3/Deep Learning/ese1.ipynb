{
 "cells": [
  {
   "cell_type": "markdown",
   "metadata": {},
   "source": [
    "# Shiladitya 2348556 ✌️"
   ]
  },
  {
   "cell_type": "code",
   "execution_count": 121,
   "metadata": {},
   "outputs": [],
   "source": [
    "import os\n",
    "import torch\n",
    "import torch.optim as optim\n",
    "import torch.nn as nn\n",
    "from torchvision import models\n",
    "from torchvision.datasets import ImageFolder\n",
    "import matplotlib.pyplot as pt\n",
    "import torchvision.transforms as trans\n",
    "from torch.utils.data import DataLoader\n",
    "import time"
   ]
  },
  {
   "cell_type": "markdown",
   "metadata": {},
   "source": [
    "## Q1"
   ]
  },
  {
   "cell_type": "code",
   "execution_count": 122,
   "metadata": {},
   "outputs": [
    {
     "name": "stdout",
     "output_type": "stream",
     "text": [
      "Output shape after Conv1: [1, 16, 62, 62]\n",
      "Output shape after MaxPool1: [1, 16, 31, 31]\n",
      "Output shape after Conv2: [1, 32, 31, 31]\n",
      "Output shape after MaxPool2: [1, 32, 15, 1]\n",
      "Output shape after FC1: [1, 256]\n",
      "Output shape after the last layer: [1, 10]\n",
      "Total number of parameters (excluding bias): 1851882\n"
     ]
    }
   ],
   "source": [
    "print('Output shape after Conv1: [1, 16, 62, 62]')\n",
    "print('Output shape after MaxPool1: [1, 16, 31, 31]')\n",
    "print('Output shape after Conv2: [1, 32, 31, 31]')\n",
    "print('Output shape after MaxPool2: [1, 32, 15, 1]')\n",
    "print('Output shape after FC1: [1, 256]')\n",
    "print('Output shape after the last layer: [1, 10]')\n",
    "print('Total number of parameters (excluding bias): 1851882')"
   ]
  },
  {
   "cell_type": "markdown",
   "metadata": {},
   "source": [
    "## Q2"
   ]
  },
  {
   "cell_type": "code",
   "execution_count": 123,
   "metadata": {},
   "outputs": [],
   "source": [
    "transform = trans.Compose([\n",
    "    trans.Resize((128, 128)),  # Resize images to 128x128\n",
    "    trans.RandomHorizontalFlip(),  # Random horizontal flip for data augmentation\n",
    "    trans.RandomRotation(10),  # Random rotation up to 10 degrees for data augmentation\n",
    "    trans.ToTensor()  # Convert images to tensors\n",
    "])\n",
    "train = ImageFolder('C:/StrangerCodes/Jupyter/offline/dl_test/fruits/train', transform=transform)\n",
    "test = ImageFolder('C:/StrangerCodes/Jupyter/offline/dl_test/fruits/test', transform=transform)"
   ]
  },
  {
   "cell_type": "code",
   "execution_count": 124,
   "metadata": {},
   "outputs": [],
   "source": [
    "train_dl = DataLoader(train, batch_size=16, shuffle=True)\n",
    "test_dl = DataLoader(test, batch_size=16, shuffle=True)"
   ]
  },
  {
   "cell_type": "code",
   "execution_count": 142,
   "metadata": {},
   "outputs": [],
   "source": [
    "# Define the CNN model\n",
    "class Fruits(nn.Module):\n",
    "    def __init__(self, num_classes=10):\n",
    "        super().__init__()\n",
    "        self.network = nn.Sequential(\n",
    "            nn.Conv2d(3, 32, kernel_size=3, padding=1),\n",
    "            nn.ReLU(),\n",
    "            nn.Conv2d(32, 64, kernel_size=3, stride=1, padding=1),\n",
    "            nn.BatchNorm2d(64),\n",
    "            nn.ReLU(),\n",
    "            nn.MaxPool2d(2, 2), # output: 64 x 50 x 50\n",
    "\n",
    "            nn.Conv2d(64, 128, kernel_size=3, stride=1, padding=1),\n",
    "            nn.BatchNorm2d(128),\n",
    "            nn.ReLU(),\n",
    "            # nn.Conv2d(128, 128, kernel_size=3, stride=1, padding=1),\n",
    "            # nn.BatchNorm2d(128),\n",
    "            # nn.ReLU(),\n",
    "            nn.Conv2d(128, 64, kernel_size=3, stride=2),\n",
    "            nn.MaxPool2d(2, 4), # output: 128 x 25 x 25\n",
    "\n",
    "            # nn.Conv2d(128, 256, kernel_size=3, stride=1, padding=1),\n",
    "            # nn.BatchNorm2d(256),\n",
    "            # nn.ReLU(),\n",
    "            # nn.Conv2d(256, 256, kernel_size=3, stride=1, padding=1),\n",
    "            # nn.BatchNorm2d(256),\n",
    "            # nn.ReLU(),#output :256*25*25\n",
    "            # nn.MaxPool2d(5, 5), # output: 256 x 5 x 5\n",
    "\n",
    "            nn.Flatten(),\n",
    "            # nn.Linear(32768, 1024),\n",
    "            # nn.BatchNorm1d(1024),\n",
    "            # nn.ReLU(),\n",
    "            nn.Linear(4096, 256),\n",
    "            nn.BatchNorm1d(256),\n",
    "            nn.ReLU(),\n",
    "            nn.Linear(256, 128),\n",
    "            nn.ReLU(),\n",
    "            nn.Linear(128, num_classes))\n",
    "        \n",
    "    def forward(self, x):\n",
    "        return self.network(x)"
   ]
  },
  {
   "cell_type": "code",
   "execution_count": 144,
   "metadata": {},
   "outputs": [
    {
     "name": "stdout",
     "output_type": "stream",
     "text": [
      "Epoch 0 running\n",
      "[Train #0] Loss: 543.84 Acc: 6.25% (time taken: 7s)\n",
      "[Test #0] Loss: 2693981.67 Acc: 10.42% (time taken: 9s)\n",
      "Epoch 5 running\n",
      "[Train #5] Loss: 13.69 Acc: 10.42% (time taken: 49s)\n",
      "[Test #5] Loss: 10190.91 Acc: 16.67% (time taken: 51s)\n",
      "Epoch 10 running\n",
      "[Train #10] Loss: 0.32 Acc: 8.33% (time taken: 90s)\n",
      "[Test #10] Loss: 14.23 Acc: 14.58% (time taken: 92s)\n",
      "Epoch 15 running\n",
      "[Train #15] Loss: 0.33 Acc: 12.50% (time taken: 137s)\n",
      "[Test #15] Loss: 51.88 Acc: 8.33% (time taken: 139s)\n",
      "Epoch 20 running\n",
      "[Train #20] Loss: 0.15 Acc: 18.75% (time taken: 189s)\n",
      "[Test #20] Loss: 3.34 Acc: 8.33% (time taken: 192s)\n",
      "Epoch 25 running\n",
      "[Train #25] Loss: 0.18 Acc: 10.42% (time taken: 235s)\n",
      "[Test #25] Loss: 0.17 Acc: 6.25% (time taken: 238s)\n",
      "Epoch 30 running\n",
      "[Train #30] Loss: 0.15 Acc: 12.50% (time taken: 283s)\n",
      "[Test #30] Loss: 0.16 Acc: 6.25% (time taken: 285s)\n"
     ]
    }
   ],
   "source": [
    "# Set device (GPU if available, else CPU)\n",
    "device = torch.device('cuda' if torch.cuda.is_available() else 'cpu')\n",
    "\n",
    "# Initialize the model, loss function, and optimizer\n",
    "model = Fruits(num_classes=len(train.classes))\n",
    "criterion = nn.CrossEntropyLoss()\n",
    "optimizer = optim.Adam(model.parameters(), lr=2)\n",
    "\n",
    "# Train model\n",
    "train_loss=[]\n",
    "train_accuary=[]\n",
    "test_loss=[]\n",
    "test_accuary=[]\n",
    "\n",
    "num_epochs = 31\n",
    "start_time = time.time()\n",
    "for epoch in range(num_epochs):\n",
    "    if epoch % 5 == 0:\n",
    "        print(\"Epoch {} running\".format(epoch))\n",
    "    \"\"\" Training Phase \"\"\"\n",
    "    model.train()\n",
    "    running_loss = 0.\n",
    "    running_corrects = 0\n",
    "    for i, (inputs, labels) in enumerate(train_dl):\n",
    "        inputs = inputs.to(device)\n",
    "        labels = labels.to(device)\n",
    "        optimizer.zero_grad()\n",
    "        outputs = model(inputs)\n",
    "        _, preds = torch.max(outputs, 1)\n",
    "        loss = criterion(outputs, labels)\n",
    "        loss.backward()\n",
    "        optimizer.step()\n",
    "        running_loss += loss.item()\n",
    "        running_corrects += torch.sum(preds == labels.data).item()\n",
    "        if i == 2:\n",
    "            break\n",
    "    # epoch_loss = running_loss / len(train)\n",
    "    # epoch_acc = running_corrects / len(train) * 100.\n",
    "    epoch_loss = running_loss / (16*3)\n",
    "    epoch_acc = (running_corrects / (16*3)) * 100.\n",
    "    train_loss.append(epoch_loss)\n",
    "    train_accuary.append(epoch_acc)\n",
    "    if epoch % 5 == 0:\n",
    "        print('[Train #{}] Loss: {:.2f} Acc: {:.2f}% (time taken: {:.0f}s)'.format(epoch, epoch_loss, epoch_acc, time.time()-start_time))\n",
    "    \"\"\" Testing Phase \"\"\"\n",
    "    model.eval()\n",
    "    with torch.no_grad():\n",
    "        running_loss = 0.\n",
    "        running_corrects = 0\n",
    "        for i, (inputs, labels) in enumerate(test_dl):\n",
    "            inputs = inputs.to(device)\n",
    "            labels = labels.to(device)\n",
    "            outputs = model(inputs)\n",
    "            _, preds = torch.max(outputs, 1)\n",
    "            loss = criterion(outputs, labels)\n",
    "            running_loss += loss.item()\n",
    "            running_corrects += torch.sum(preds == labels.data).item()\n",
    "            if i == 2:\n",
    "                break\n",
    "        # epoch_loss = running_loss / len(test)\n",
    "        # epoch_acc = running_corrects / len(test) * 100.\n",
    "        epoch_loss = running_loss / (16*3)\n",
    "        epoch_acc = (running_corrects / (16*3)) * 100.\n",
    "        test_loss.append(epoch_loss)\n",
    "        test_accuary.append(epoch_acc)\n",
    "        if epoch % 5 == 0:\n",
    "            print('[Test #{}] Loss: {:.2f} Acc: {:.2f}% (time taken: {:.0f}s)'.format(epoch, epoch_loss, epoch_acc, time.time()- start_time))"
   ]
  },
  {
   "cell_type": "code",
   "execution_count": 127,
   "metadata": {},
   "outputs": [],
   "source": [
    "vgg16 = models.vgg16_bn(weights='DEFAULT')\n",
    "for param in vgg16.features.parameters():\n",
    "    param.require_grad = False\n",
    "num_features = vgg16.classifier[6].in_features\n",
    "features = list(vgg16.classifier.children())[:-1] # Remove last layer\n",
    "features.extend([nn.Linear(num_features, 10)]) # Add our layer with 10 outputs\n",
    "vgg16.classifier = nn.Sequential(*features) # Replace the model classifier"
   ]
  },
  {
   "cell_type": "code",
   "execution_count": 128,
   "metadata": {},
   "outputs": [],
   "source": [
    "trainT = trans.Compose([\n",
    "    trans.Resize((224, 224)),\n",
    "    trans.RandomResizedCrop(224),\n",
    "    # trans.RandomHorizontalFlip(), # data augmentation\n",
    "    trans.ToTensor(),\n",
    "    trans.Normalize([0.485, 0.456, 0.406], [0.229, 0.224, 0.225]) # normalization\n",
    "])\n",
    "testT = trans.Compose([\n",
    "    trans.Resize((224, 224)),\n",
    "     trans.CenterCrop((224, 224)),\n",
    "    trans.ToTensor(),\n",
    "    trans.Normalize([0.485, 0.456, 0.406], [0.229, 0.224, 0.225])\n",
    "])\n",
    "\n",
    "train_dataset = ImageFolder('C:/StrangerCodes/Jupyter/offline/dl_test/fruits/train', trainT)\n",
    "test_dataset = ImageFolder('C:/StrangerCodes/Jupyter/offline/dl_test/fruits/test', testT)\n",
    "\n",
    "train_dataloader = DataLoader(train_dataset, batch_size=16, shuffle=True, num_workers=0)\n",
    "test_dataloader = DataLoader(test_dataset, batch_size=16, shuffle=True, num_workers=0)"
   ]
  },
  {
   "cell_type": "code",
   "execution_count": 129,
   "metadata": {},
   "outputs": [
    {
     "name": "stdout",
     "output_type": "stream",
     "text": [
      "Epoch 1 running\n",
      "[Train #1] Loss: 0.30 Acc: 43.75% (time taken: 49s)\n",
      "[Test #1] Loss: 1.02 Acc: 18.75% (time taken: 60s)\n",
      "Epoch 2 running\n",
      "[Train #2] Loss: 0.33 Acc: 43.75% (time taken: 102s)\n",
      "[Test #2] Loss: 0.51 Acc: 37.50% (time taken: 113s)\n",
      "Epoch 3 running\n",
      "[Train #3] Loss: 0.25 Acc: 62.50% (time taken: 149s)\n",
      "[Test #3] Loss: 7.20 Acc: 37.50% (time taken: 161s)\n"
     ]
    }
   ],
   "source": [
    "device = \"cuda\" if torch.cuda.is_available() else \"cpu\"\n",
    "criterion = nn.CrossEntropyLoss()\n",
    "optimizer = optim.Adam(vgg16.parameters(), lr=0.001)\n",
    "\n",
    "# Train vgg16\n",
    "train_loss_vgg=[]\n",
    "train_accuary_vgg=[]\n",
    "test_loss_vgg=[]\n",
    "test_accuary_vgg=[]\n",
    "\n",
    "num_epochs = 3   #(set no of epochs)\n",
    "start_time = time.time() #(for showing time)\n",
    "# Start loop\n",
    "for epoch in range(num_epochs): #(loop for every epoch)\n",
    "    print(\"Epoch {} running\".format(epoch+1)) #(printing message)\n",
    "    \"\"\" Training Phase \"\"\"\n",
    "    vgg16.train()    #(training vgg16)\n",
    "    running_loss = 0.   #(set loss 0)\n",
    "    running_corrects = 0 \n",
    "    # load a batch data of images\n",
    "    for i, (inputs, labels) in enumerate(train_dataloader):\n",
    "        inputs = inputs.to(device)\n",
    "        labels = labels.to(device) \n",
    "        # forward inputs and get output\n",
    "        optimizer.zero_grad()\n",
    "        outputs = vgg16(inputs)\n",
    "        _, preds = torch.max(outputs, 1)\n",
    "        loss = criterion(outputs, labels)\n",
    "        # get loss value and update the network weights\n",
    "        loss.backward()\n",
    "        optimizer.step()\n",
    "        running_loss += loss.item()\n",
    "        running_corrects += torch.sum(preds == labels.data).item()\n",
    "        if i == 1:\n",
    "            break\n",
    "    # epoch_loss = running_loss / len(train_dataset)\n",
    "    epoch_loss = running_loss / 16\n",
    "    # epoch_acc = running_corrects / len(train_dataset) * 100.\n",
    "    epoch_acc = (running_corrects / 16) * 100.\n",
    "    # Append result\n",
    "    train_loss_vgg.append(epoch_loss)\n",
    "    train_accuary_vgg.append(epoch_acc)\n",
    "    # Print progress\n",
    "    print('[Train #{}] Loss: {:.2f} Acc: {:.2f}% (time taken: {:.0f}s)'.format(epoch+1, epoch_loss, epoch_acc, time.time() -start_time))\n",
    "    \"\"\" Testing Phase \"\"\"\n",
    "    vgg16.eval()\n",
    "    with torch.no_grad():\n",
    "        running_loss = 0.\n",
    "        running_corrects = 0\n",
    "        for i, (inputs, labels) in enumerate(test_dataloader):\n",
    "            inputs = inputs.to(device)\n",
    "            labels = labels.to(device)\n",
    "            outputs = vgg16(inputs)\n",
    "            _, preds = torch.max(outputs, 1)\n",
    "            loss = criterion(outputs, labels)\n",
    "            running_loss += loss.item()\n",
    "            running_corrects += torch.sum(preds == labels.data).item()\n",
    "            if i == 1:\n",
    "                break\n",
    "        # epoch_loss = running_loss / len(test_dataset)\n",
    "        # epoch_acc = running_corrects / len(test_dataset) * 100.\n",
    "        epoch_loss = running_loss / 16\n",
    "        epoch_acc = (running_corrects / 16) * 100.\n",
    "        # Append result\n",
    "        test_loss_vgg.append(epoch_loss)\n",
    "        test_accuary_vgg.append(epoch_acc)\n",
    "        # Print progress\n",
    "        print('[Test #{}] Loss: {:.2f} Acc: {:.2f}% (time taken: {:.0f}s)'.format(epoch+1, epoch_loss, epoch_acc, time.time()- start_time))"
   ]
  },
  {
   "cell_type": "code",
   "execution_count": 149,
   "metadata": {},
   "outputs": [
    {
     "data": {
      "text/plain": [
       "[<matplotlib.lines.Line2D at 0x20cd20fbc50>]"
      ]
     },
     "execution_count": 149,
     "metadata": {},
     "output_type": "execute_result"
    },
    {
     "data": {
      "image/png": "[encoded data removed]",
      "text/plain": [
       "<Figure size 640x480 with 1 Axes>"
      ]
     },
     "metadata": {},
     "output_type": "display_data"
    }
   ],
   "source": [
    "pt.plot(train_loss, color='orchid')"
   ]
  },
  {
   "cell_type": "code",
   "execution_count": 150,
   "metadata": {},
   "outputs": [
    {
     "data": {
      "image/png": "[encoded data removed]",
      "text/plain": [
       "<Figure size 640x480 with 1 Axes>"
      ]
     },
     "metadata": {},
     "output_type": "display_data"
    }
   ],
   "source": [
    "pt.plot(train_loss_vgg, color='darkorchid');"
   ]
  }
 ],
 "metadata": {
  "kernelspec": {
   "display_name": "Python 3",
   "language": "python",
   "name": "python3"
  },
  "language_info": {
   "codemirror_mode": {
    "name": "ipython",
    "version": 3
   },
   "file_extension": ".py",
   "mimetype": "text/x-python",
   "name": "python",
   "nbconvert_exporter": "python",
   "pygments_lexer": "ipython3",
   "version": "3.11.7"
  }
 },
 "nbformat": 4,
 "nbformat_minor": 2
}
