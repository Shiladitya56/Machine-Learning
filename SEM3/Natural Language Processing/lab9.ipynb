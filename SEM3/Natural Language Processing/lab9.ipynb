{
  "nbformat": 4,
  "nbformat_minor": 0,
  "metadata": {
    "colab": {
      "provenance": [],
      "authorship_tag": "ABX9TyPi9lBMUMnYOx6d0haDrcAU",
      "include_colab_link": true
    },
    "kernelspec": {
      "name": "python3",
      "display_name": "Python 3"
    },
    "language_info": {
      "name": "python"
    }
  },
  "cells": [
    {
      "cell_type": "markdown",
      "metadata": {
        "id": "view-in-github",
        "colab_type": "text"
      },
      "source": [
        "<a href=\"https://colab.research.google.com/github/Shiladitya56/Machine-Learning/blob/main/SEM3/Natural%20Language%20Processing/lab9.ipynb\" target=\"_parent\"><img src=\"https://colab.research.google.com/assets/colab-badge.svg\" alt=\"Open In Colab\"/></a>"
      ]
    },
    {
      "cell_type": "markdown",
      "source": [
        "# Shiladitya 2348556 ✈"
      ],
      "metadata": {
        "id": "1qacyG4GYf_H"
      }
    },
    {
      "cell_type": "code",
      "execution_count": 1,
      "metadata": {
        "colab": {
          "base_uri": "https://localhost:8080/"
        },
        "id": "-o7oWNYsYOLB",
        "outputId": "39d37a78-6dfa-4e01-d360-0d9b7468dd84"
      },
      "outputs": [
        {
          "output_type": "stream",
          "name": "stdout",
          "text": [
            "Edit distance between 'morning' and 'night' is: 6\n"
          ]
        }
      ],
      "source": [
        "def edit_distance(str1, str2):\n",
        "    m = len(str1)\n",
        "    n = len(str2)\n",
        "    dp = [[0] * (n+1) for _ in range(m+1)]\n",
        "\n",
        "    for i in range(m+1):\n",
        "        for j in range(n+1):\n",
        "            if i == 0:\n",
        "                dp[i][j] = j\n",
        "            elif j == 0:\n",
        "                dp[i][j] = i\n",
        "            elif str1[i-1] == str2[j-1]:\n",
        "                dp[i][j] = dp[i-1][j-1]\n",
        "            else:\n",
        "                dp[i][j] = 1 + min(dp[i][j-1],\n",
        "                                   dp[i-1][j],\n",
        "                                   dp[i-1][j-1])\n",
        "\n",
        "    return dp[m][n]\n",
        "\n",
        "# example usage\n",
        "str1 = \"morning\"\n",
        "str2 = \"night\"\n",
        "print(\"Edit distance between '{}' and '{}' is: {}\".format(str1, str2, edit_distance(str1, str2)))"
      ]
    },
    {
      "cell_type": "code",
      "source": [],
      "metadata": {
        "id": "MwoaXSwjYeOs"
      },
      "execution_count": null,
      "outputs": []
    }
  ]
}